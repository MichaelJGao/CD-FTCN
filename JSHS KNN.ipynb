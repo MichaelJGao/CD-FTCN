{
 "cells": [
  {
   "cell_type": "markdown",
   "id": "e3c71ece-39f4-4128-815b-bc87a2a20936",
   "metadata": {},
   "source": [
    "# KNN\n",
    "In this notebook, I provide a sample implementation of the KNN model for comparative analysis. Spectra are first obtained from files in the \"dataset\" folder."
   ]
  },
  {
   "cell_type": "code",
   "execution_count": null,
   "id": "e519adf1-10ea-401e-a79d-1d517cd5190d",
   "metadata": {},
   "outputs": [],
   "source": [
    "# Dependencies\n",
    "import pandas as pd\n",
    "import numpy as np\n",
    "from sklearn.preprocessing import StandardScaler\n",
    "from sklearn.neighbors import KNeighborsClassifier\n",
    "from sklearn.metrics import accuracy_score, precision_score, recall_score, f1_score\n",
    "import matplotlib.pyplot as plt\n",
    "import seaborn as sns"
   ]
  },
  {
   "cell_type": "code",
   "execution_count": null,
   "id": "2467c35a-7bab-4e0a-9c01-4c4d2c13d85b",
   "metadata": {},
   "outputs": [],
   "source": [
    "# Load and preprocess data\n",
    "def load_and_preprocess(train_file, val_file):\n",
    "    \"\"\"Load and preprocess training and validation data.\"\"\"\n",
    "    train_df = pd.read_csv(train_file, header=None)\n",
    "    val_df = pd.read_csv(val_file, header=None)\n",
    "    \n",
    "    # Extract samples and labels\n",
    "    train_samples = train_df.iloc[1:-1, 1:].values.astype(float)\n",
    "    train_labels = train_df.iloc[-1, 1:].values.astype(float)\n",
    "    val_samples = val_df.iloc[1:-1, 1:].values.astype(float)\n",
    "    val_labels = val_df.iloc[-1, 1:].values.astype(float)\n",
    "    \n",
    "    # Standardize features\n",
    "    scaler = StandardScaler()\n",
    "    train_samples = scaler.fit_transform(train_samples.T).T\n",
    "    val_samples = scaler.transform(val_samples.T).T\n",
    "    \n",
    "    return train_samples, train_labels, val_samples, val_labels"
   ]
  },
  {
   "cell_type": "code",
   "execution_count": null,
   "id": "4532de5d-b318-4568-80e9-a32414cc0be9",
   "metadata": {},
   "outputs": [],
   "source": [
    "# Metrics storage\n",
    "all_metrics = []\n",
    "\n",
    "# Train and evaluate the model 30 times across all seeds\n",
    "for seed_index in range(30):\n",
    "    print(f\"Seed {seed_index+1}/30\")\n",
    "\n",
    "    # Load and preprocess data\n",
    "    train_file = f\"../No_MSC/Seed_{seed_index}/Combined_Train.csv\"\n",
    "    val_file = f\"../No_MSC/Seed_{seed_index}/Combined_Validation.csv\"\n",
    "    train_samples, train_labels, val_samples, val_labels = load_and_preprocess(train_file, val_file)\n",
    "    \n",
    "    # Prepare data for KNN (flattened samples)\n",
    "    X_train = train_samples.T\n",
    "    y_train = train_labels\n",
    "    X_val = val_samples.T\n",
    "    y_val = val_labels\n",
    "\n",
    "    # Initialize KNN classifier with 5 neighbors\n",
    "    knn = KNeighborsClassifier(n_neighbors=5)\n",
    "\n",
    "    # Train the KNN model\n",
    "    knn.fit(X_train, y_train)\n",
    "\n",
    "    # Predict on the validation set\n",
    "    y_pred = knn.predict(X_val)\n",
    "\n",
    "    # Calculate evaluation metrics\n",
    "    val_accuracy = accuracy_score(y_val, y_pred)\n",
    "    val_precision = precision_score(y_val, y_pred)\n",
    "    val_recall = recall_score(y_val, y_pred)\n",
    "    val_f1 = f1_score(y_val, y_pred)\n",
    "\n",
    "    # Store metrics\n",
    "    all_metrics.append((val_accuracy, val_precision, val_recall, val_f1))"
   ]
  },
  {
   "cell_type": "code",
   "execution_count": null,
   "id": "0dffa57e-19e3-49d9-81a1-f8b59b6c21de",
   "metadata": {},
   "outputs": [],
   "source": [
    "# Convert the metrics to a DataFrame for easier plotting\n",
    "metrics_df = pd.DataFrame(all_metrics, columns=['val_accuracy', 'val_precision', 'val_recall', 'val_f1'])\n",
    "\n",
    "# Plot the box plots for each metric\n",
    "plt.figure(figsize=(12, 8))\n",
    "\n",
    "# Box plot for validation accuracy\n",
    "plt.subplot(2, 3, 1)\n",
    "sns.boxplot(y=metrics_df['val_accuracy'])\n",
    "plt.title('Validation Accuracy')\n",
    "plt.xlabel('Accuracy')\n",
    "mean_val = metrics_df['val_accuracy'].mean()\n",
    "plt.scatter(0, mean_val, color='red', s=100, zorder=10)\n",
    "\n",
    "# Box plot for validation precision\n",
    "plt.subplot(2, 3, 2)\n",
    "sns.boxplot(y=metrics_df['val_precision'])\n",
    "plt.title('Validation Precision')\n",
    "plt.xlabel('Precision')\n",
    "mean_val = metrics_df['val_precision'].mean()\n",
    "plt.scatter(0, mean_val, color='red', s=100, zorder=10)\n",
    "\n",
    "# Box plot for validation recall\n",
    "plt.subplot(2, 3, 3)\n",
    "sns.boxplot(y=metrics_df['val_recall'])\n",
    "plt.title('Validation Recall')\n",
    "plt.xlabel('Recall')\n",
    "mean_val = metrics_df['val_recall'].mean()\n",
    "plt.scatter(0, mean_val, color='red', s=100, zorder=10)\n",
    "\n",
    "# Box plot for validation F1 score\n",
    "plt.subplot(2, 3, 4)\n",
    "sns.boxplot(y=metrics_df['val_f1'])\n",
    "plt.title('Validation F1 Score')\n",
    "plt.xlabel('F1 Score')\n",
    "mean_val = metrics_df['val_f1'].mean()\n",
    "plt.scatter(0, mean_val, color='red', s=100, zorder=10)\n",
    "\n",
    "# Adjust layout and show plots\n",
    "plt.tight_layout()\n",
    "plt.show()"
   ]
  },
  {
   "cell_type": "code",
   "execution_count": null,
   "id": "f64af28d-0fee-41fa-8e98-8c30aeb9110c",
   "metadata": {},
   "outputs": [],
   "source": [
    "# Save the metrics for later comparison\n",
    "metrics_df.to_csv(\"cenMetrics/KNN_metrics.csv\", index=False)\n",
    "\n",
    "print(\"Finished Cross-Validation\")"
   ]
  }
 ],
 "metadata": {
  "kernelspec": {
   "display_name": "Python 3 (ipykernel)",
   "language": "python",
   "name": "python3"
  },
  "language_info": {
   "codemirror_mode": {
    "name": "ipython",
    "version": 3
   },
   "file_extension": ".py",
   "mimetype": "text/x-python",
   "name": "python",
   "nbconvert_exporter": "python",
   "pygments_lexer": "ipython3",
   "version": "3.9.12"
  }
 },
 "nbformat": 4,
 "nbformat_minor": 5
}

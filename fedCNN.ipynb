{
 "cells": [
  {
   "cell_type": "markdown",
   "id": "1e14cb4a-790e-4630-adf7-46e6cf3821f9",
   "metadata": {},
   "source": [
    "# Hu et al. One Dimensional Convolutional Neural Network\n",
    "In this notebook, I provide an implementation of the one dimensional convolutional neural network (1D CNN) proposed by (Hu et al., 2015) in a federated enviroment. Note the proposed 1D CNN is altered for for the purpose of binary sequence-to-label classification; corresponding comments detail all adjustments. The spectra data are first obtained from all files in the \"dataset\" folder."
   ]
  },
  {
   "cell_type": "code",
   "execution_count": 1,
   "id": "04b8d79d-4cf0-48c0-8abd-b5449b5a8f77",
   "metadata": {},
   "outputs": [],
   "source": [
    "# Dependencies\n",
    "import pandas as pd\n",
    "import numpy as np\n",
    "import torch\n",
    "import torch.nn as nn\n",
    "import torch.optim as optim\n",
    "import torch.nn.functional as F\n",
    "from sklearn.preprocessing import StandardScaler\n",
    "from sklearn.metrics import precision_score, recall_score, f1_score, accuracy_score\n",
    "import matplotlib.pyplot as plt\n",
    "import seaborn as sns\n",
    "from torch.utils.data import DataLoader, TensorDataset\n",
    "import flwr as fl\n",
    "from collections import OrderedDict\n",
    "from typing import List, Tuple, Dict, Optional\n",
    "import os\n",
    "import logging\n",
    "\n",
    "# Set logging level to critical to minimize output noise\n",
    "logging.getLogger(\"flwr\").setLevel(logging.CRITICAL)\n",
    "\n",
    "# Define device for computation (GPU if available, else CPU)\n",
    "DEVICE = torch.device(\"cuda\" if torch.cuda.is_available() else \"cpu\")\n",
    "NUM_CLIENTS = 5  # Number of federated clients"
   ]
  },
  {
   "cell_type": "code",
   "execution_count": 2,
   "id": "cd72537a-8908-41a7-82da-23f8f98ec2c7",
   "metadata": {},
   "outputs": [],
   "source": [
    "# Load and preprocess data\n",
    "def load_and_preprocess(train_file, val_file):\n",
    "    \"\"\"\n",
    "    Load and preprocess the data from CSV files.\n",
    "\n",
    "    Parameters:\n",
    "        train_file (str): Path to the training CSV file.\n",
    "        val_file (str): Path to the validation CSV file.\n",
    "\n",
    "    Returns:\n",
    "        Tuple containing training samples, training labels, validation samples, and validation labels.\n",
    "    \"\"\"\n",
    "    # Load datasets\n",
    "    train_df = pd.read_csv(train_file, header=None)\n",
    "    val_df = pd.read_csv(val_file, header=None)\n",
    "    \n",
    "    # Extract samples and labels, converting to float\n",
    "    train_samples = train_df.iloc[1:-1, 1:].values.astype(float)\n",
    "    train_labels = train_df.iloc[-1, 1:].values.astype(float)\n",
    "    val_samples = val_df.iloc[1:-1, 1:].values.astype(float)\n",
    "    val_labels = val_df.iloc[-1, 1:].values.astype(float)\n",
    "    \n",
    "    # Standardize the samples\n",
    "    scaler = StandardScaler()\n",
    "    train_samples = scaler.fit_transform(train_samples.T).T\n",
    "    val_samples = scaler.transform(val_samples.T).T\n",
    "    \n",
    "    return train_samples, train_labels, val_samples, val_labels"
   ]
  },
  {
   "cell_type": "code",
   "execution_count": 3,
   "id": "ffa7bdd6-d146-48ea-9d2c-73daac389449",
   "metadata": {},
   "outputs": [],
   "source": [
    "# 1D CNN model definition\n",
    "class CNN1D(nn.Module):\n",
    "    def __init__(self):\n",
    "        super(CNN1D, self).__init__()\n",
    "        # Define layers: 1D convolution, pooling, fully connected, and dropout\n",
    "        self.conv1 = nn.Conv1d(1, 20, kernel_size=9)\n",
    "        self.pool = nn.MaxPool1d(3)\n",
    "        self.fc1 = nn.Linear(20 * 97, 100)\n",
    "        self.fc2 = nn.Linear(100, 1)\n",
    "        self.dropout = nn.Dropout(0.3)\n",
    "\n",
    "    def forward(self, x):\n",
    "        # Forward pass through the CNN\n",
    "        x = self.pool(F.relu(self.conv1(x)))  # Convolution + ReLU + Pooling\n",
    "        x = x.view(x.size(0), -1)  # Flatten feature maps\n",
    "        x = F.relu(self.fc1(x))  # Fully connected layer with ReLU\n",
    "        x = self.dropout(x)  # Apply dropout\n",
    "        x = self.fc2(x)  # Output layer\n",
    "        return x"
   ]
  },
  {
   "cell_type": "code",
   "execution_count": 4,
   "id": "e7713834-38c5-463b-8cbb-ad0c6456abd7",
   "metadata": {},
   "outputs": [],
   "source": [
    "# Early stopping criteria\n",
    "class EarlyStopping:\n",
    "    def __init__(self, patience=5, min_delta=0):\n",
    "        \"\"\"\n",
    "        Initialize the early stopping mechanism.\n",
    "\n",
    "        Parameters:\n",
    "            patience (int): Number of epochs to wait for improvement before stopping.\n",
    "            min_delta (float): Minimum change to qualify as an improvement.\n",
    "        \"\"\"\n",
    "        self.patience = patience\n",
    "        self.min_delta = min_delta\n",
    "        self.counter = 0\n",
    "        self.best_loss = None\n",
    "        self.early_stop = False\n",
    "\n",
    "    def __call__(self, val_loss):\n",
    "        \"\"\"\n",
    "        Check if training should stop based on validation loss.\n",
    "\n",
    "        Parameters:\n",
    "            val_loss (float): Current validation loss.\n",
    "        \"\"\"\n",
    "        if self.best_loss is None:\n",
    "            self.best_loss = val_loss\n",
    "        elif val_loss > self.best_loss - self.min_delta:\n",
    "            self.counter += 1\n",
    "            if self.counter >= self.patience:\n",
    "                self.early_stop = True\n",
    "        else:\n",
    "            self.best_loss = val_loss\n",
    "            self.counter = 0"
   ]
  },
  {
   "cell_type": "code",
   "execution_count": 5,
   "id": "29d57923-7ecb-4f35-8165-1c937804f6d5",
   "metadata": {},
   "outputs": [],
   "source": [
    "# Federated learning utility functions\n",
    "\n",
    "def get_client_parameters(net) -> List[np.ndarray]:\n",
    "    \"\"\"\n",
    "    Extract model parameters for federated learning.\n",
    "\n",
    "    Parameters:\n",
    "        net (nn.Module): The neural network model.\n",
    "\n",
    "    Returns:\n",
    "        List[np.ndarray]: Model parameters.\n",
    "    \"\"\"\n",
    "    return [val.cpu().numpy() for _, val in net.state_dict().items()]\n",
    "\n",
    "def set_client_parameters(net, parameters: List[np.ndarray]):\n",
    "    \"\"\"\n",
    "    Set model parameters for federated learning.\n",
    "\n",
    "    Parameters:\n",
    "        net (nn.Module): The neural network model.\n",
    "        parameters (List[np.ndarray]): List of model parameters.\n",
    "    \"\"\"\n",
    "    params_dict = zip(net.state_dict().keys(), parameters)\n",
    "    state_dict = OrderedDict({k: torch.Tensor(v) for k, v in params_dict})\n",
    "    net.load_state_dict(state_dict, strict=True)"
   ]
  },
  {
   "cell_type": "code",
   "execution_count": 6,
   "id": "5272a739-e9fb-4156-acfd-91981d40ad73",
   "metadata": {},
   "outputs": [],
   "source": [
    "# Test the client model\n",
    "def test_client_model(net, testloader):\n",
    "    \"\"\"\n",
    "    Evaluate the model on the test set.\n",
    "\n",
    "    Parameters:\n",
    "        net (nn.Module): The neural network model.\n",
    "        testloader (DataLoader): DataLoader for the test set.\n",
    "\n",
    "    Returns:\n",
    "        Tuple containing loss, accuracy, precision, recall, and F1 score.\n",
    "    \"\"\"\n",
    "    criterion = nn.BCEWithLogitsLoss()\n",
    "    correct, total, loss = 0, 0, 0.0\n",
    "    net.eval()  # Set model to evaluation mode\n",
    "    all_labels = []\n",
    "    all_preds = []\n",
    "    \n",
    "    # Disable gradient calculation for inference\n",
    "    with torch.no_grad():\n",
    "        for inputs, labels in testloader:\n",
    "            inputs, labels = inputs.to(DEVICE), labels.to(DEVICE)\n",
    "            outputs = net(inputs).squeeze()\n",
    "            loss += criterion(outputs, labels).item()\n",
    "            preds = torch.sigmoid(outputs) > 0.5  # Apply sigmoid to get probabilities\n",
    "            correct += (preds == labels).sum().item()\n",
    "            total += labels.size(0)\n",
    "            all_labels.extend(labels.cpu().numpy())\n",
    "            all_preds.extend(preds.cpu().numpy())\n",
    "    \n",
    "    # Calculate metrics\n",
    "    loss /= len(testloader.dataset)\n",
    "    accuracy = correct / total\n",
    "    precision = precision_score(all_labels, all_preds)\n",
    "    recall = recall_score(all_labels, all_preds)\n",
    "    f1 = f1_score(all_labels, all_preds)\n",
    "    return loss, accuracy, precision, recall, f1"
   ]
  },
  {
   "cell_type": "code",
   "execution_count": 7,
   "id": "613e1b43-0e64-4024-bcaa-d60538a8fa7d",
   "metadata": {},
   "outputs": [],
   "source": [
    "# Train the client model\n",
    "def train_client_model(net, trainloader, valloader, epochs: int, patience: int = 5, client_id: int = 0):\n",
    "    \"\"\"\n",
    "    Train the model on the client's local dataset.\n",
    "\n",
    "    Parameters:\n",
    "        net (nn.Module): The neural network model.\n",
    "        trainloader (DataLoader): DataLoader for the training set.\n",
    "        valloader (DataLoader): DataLoader for the validation set.\n",
    "        epochs (int): Number of training epochs.\n",
    "        patience (int): Patience for early stopping.\n",
    "        client_id (int): Identifier for the client.\n",
    "    \"\"\"\n",
    "    criterion = nn.BCEWithLogitsLoss()\n",
    "    optimizer = torch.optim.Adam(net.parameters(), lr=0.001)\n",
    "    best_loss = float('inf')\n",
    "    patience_counter = 0\n",
    "\n",
    "    for epoch in range(epochs):\n",
    "        if patience_counter >= patience:\n",
    "            print(f\"Early stopping at epoch {epoch+1}\")\n",
    "            break\n",
    "\n",
    "        net.train()  # Set model to training mode\n",
    "        for inputs, labels in trainloader:\n",
    "            inputs, labels = inputs.to(DEVICE), labels.to(DEVICE)\n",
    "            optimizer.zero_grad()\n",
    "            outputs = net(inputs).squeeze()\n",
    "            loss = criterion(outputs, labels)\n",
    "            loss.backward()\n",
    "            optimizer.step()\n",
    "\n",
    "        # Evaluate on the validation set\n",
    "        val_loss, val_accuracy, _, _, _ = test_client_model(net, valloader)\n",
    "        print(f\"Epoch {epoch+1}: val loss {val_loss:.4f}, val accuracy {val_accuracy:.4f}\")\n",
    "\n",
    "        # Save the best model\n",
    "        if val_loss < best_loss:\n",
    "            best_loss = val_loss\n",
    "            patience_counter = 0\n",
    "            torch.save(net.state_dict(), f\"best_model_client_{client_id}.pt\")\n",
    "        else:\n",
    "            patience_counter += 1\n",
    "\n",
    "        # Stop training if 100% accuracy is achieved\n",
    "        if val_accuracy == 1.0:\n",
    "            print(f\"Early stopping due to reaching 100% accuracy\")\n",
    "            break"
   ]
  },
  {
   "cell_type": "code",
   "execution_count": 8,
   "id": "58e035aa-b24b-4235-9a8f-1f2c8b391b76",
   "metadata": {},
   "outputs": [],
   "source": [
    "# Define the FlowerClient class for federated learning\n",
    "class FlowerClient(fl.client.NumPyClient):\n",
    "    def __init__(self, cid, net, trainloader, valloader):\n",
    "        \"\"\"\n",
    "        Initialize a federated learning client.\n",
    "\n",
    "        Parameters:\n",
    "            cid (int): Client ID.\n",
    "            net (nn.Module): The neural network model.\n",
    "            trainloader (DataLoader): DataLoader for the training set.\n",
    "            valloader (DataLoader): DataLoader for the validation set.\n",
    "        \"\"\"\n",
    "        self.cid = cid\n",
    "        self.net = net\n",
    "        self.trainloader = trainloader\n",
    "        self.valloader = valloader\n",
    "\n",
    "    def get_parameters(self, config):\n",
    "        \"\"\"Return the model parameters.\"\"\"\n",
    "        print(f\"[Client {self.cid}] get_parameters\")\n",
    "        return get_client_parameters(self.net)\n",
    "\n",
    "    def fit(self, parameters, config):\n",
    "        \"\"\"Train the model on local data.\"\"\"\n",
    "        print(f\"[Client {self.cid}] fit, config: {config}\")\n",
    "        set_client_parameters(self.net, parameters)\n",
    "        train_client_model(self.net, self.trainloader, self.valloader, epochs=20, patience=5, client_id=self.cid)\n",
    "        return get_client_parameters(self.net), len(self.trainloader.dataset), {}\n",
    "\n",
    "    def evaluate(self, parameters, config):\n",
    "        \"\"\"Evaluate the model on local validation data.\"\"\"\n",
    "        print(f\"[Client {self.cid}] evaluate, config: {config}\")\n",
    "        # Set the model parameters with the latest global parameters\n",
    "        set_client_parameters(self.net, parameters)\n",
    "        # Evaluate the model\n",
    "        loss, accuracy, precision, recall, f1 = test_client_model(self.net, self.valloader)\n",
    "        return float(loss), len(self.valloader.dataset), {\n",
    "            \"accuracy\": float(accuracy),\n",
    "            \"precision\": float(precision),\n",
    "            \"recall\": float(recall),\n",
    "            \"f1\": float(f1)\n",
    "        }"
   ]
  },
  {
   "cell_type": "code",
   "execution_count": 9,
   "id": "6a25d674-e9be-4186-84a4-70b1732f7a02",
   "metadata": {},
   "outputs": [],
   "source": [
    "# Create a Flower client\n",
    "def client_fn(cid) -> FlowerClient:\n",
    "    \"\"\"\n",
    "    Create and initialize a FlowerClient instance for a given client ID.\n",
    "\n",
    "    Parameters:\n",
    "        cid (int): Client ID.\n",
    "\n",
    "    Returns:\n",
    "        FlowerClient: Configured FlowerClient instance.\n",
    "    \"\"\"\n",
    "    # Initialize the CNN model\n",
    "    net = CNN1D().to(DEVICE)\n",
    "    # Define file paths for training and validation data\n",
    "    train_file = f\"../No_MSC/Seed_{seed_index}/Client_{cid}_Train.csv\"\n",
    "    val_file = f\"../No_MSC/Seed_{seed_index}/Client_{cid}_Validation.csv\"\n",
    "    \n",
    "    # Load and preprocess the data\n",
    "    train_samples, train_labels, val_samples, val_labels = load_and_preprocess(train_file, val_file)\n",
    "    \n",
    "    # Convert data to PyTorch tensors and add channel dimension for 1D CNN\n",
    "    X_train = torch.tensor(train_samples.T, dtype=torch.float32).unsqueeze(1)\n",
    "    y_train = torch.tensor(train_labels, dtype=torch.float32)\n",
    "    X_val = torch.tensor(val_samples.T, dtype=torch.float32).unsqueeze(1)\n",
    "    y_val = torch.tensor(val_labels, dtype=torch.float32)\n",
    "\n",
    "    # Create TensorDatasets and DataLoaders for training and validation\n",
    "    train_dataset = TensorDataset(X_train, y_train)\n",
    "    val_dataset = TensorDataset(X_val, y_val)\n",
    "    \n",
    "    train_loader = DataLoader(train_dataset, batch_size=32, shuffle=True)\n",
    "    val_loader = DataLoader(val_dataset, batch_size=32, shuffle=False)\n",
    "\n",
    "    return FlowerClient(cid, net, train_loader, val_loader)"
   ]
  },
  {
   "cell_type": "code",
   "execution_count": 10,
   "id": "6a59512f-58b1-4fbf-a84d-2d30caa41308",
   "metadata": {},
   "outputs": [],
   "source": [
    "# Load combined validation dataset for evaluation\n",
    "def load_combined_validation(seed_index):\n",
    "    \"\"\"\n",
    "    Load and preprocess the combined validation dataset for all clients.\n",
    "\n",
    "    Parameters:\n",
    "        seed_index (int): Index of the seed for data partitioning.\n",
    "\n",
    "    Returns:\n",
    "        DataLoader: DataLoader for the combined validation dataset.\n",
    "    \"\"\"\n",
    "    # Define file path for the combined validation set\n",
    "    val_file = f\"../No_MSC/Seed_{seed_index}/Combined_Validation.csv\"\n",
    "    # Load and preprocess the combined validation data\n",
    "    _, _, val_samples, val_labels = load_and_preprocess(val_file, val_file)\n",
    "    # Convert samples and labels to PyTorch tensors\n",
    "    X_val = torch.tensor(val_samples.T, dtype=torch.float32).unsqueeze(1)\n",
    "    y_val = torch.tensor(val_labels, dtype=torch.float32)\n",
    "    # Create TensorDataset and DataLoader\n",
    "    val_dataset = TensorDataset(X_val, y_val)\n",
    "    val_loader = DataLoader(val_dataset, batch_size=32, shuffle=False)\n",
    "    return val_loader"
   ]
  },
  {
   "cell_type": "code",
   "execution_count": 11,
   "id": "08733ceb-fdaa-4041-8a3c-79545edf3bee",
   "metadata": {},
   "outputs": [],
   "source": [
    "# Evaluate the aggregated model on the combined validation dataset\n",
    "def evaluate_aggregated_model(\n",
    "    server_round: int,\n",
    "    parameters: fl.common.NDArrays,\n",
    "    config: Dict[str, fl.common.Scalar],\n",
    ") -> Optional[Tuple[float, Dict[str, fl.common.Scalar]]]:\n",
    "    \"\"\"\n",
    "    Evaluate the aggregated model on the combined validation dataset.\n",
    "\n",
    "    Parameters:\n",
    "        server_round (int): Current round of federated learning.\n",
    "        parameters (fl.common.NDArrays): Aggregated model parameters from the server.\n",
    "        config (Dict[str, fl.common.Scalar]): Configuration dictionary.\n",
    "\n",
    "    Returns:\n",
    "        Optional[Tuple[float, Dict[str, fl.common.Scalar]]]: \n",
    "        Evaluation loss and a dictionary of aggregated evaluation metrics.\n",
    "    \"\"\"\n",
    "    global best_aggregated_acc\n",
    "    # Initialize the neural network model\n",
    "    net = CNN1D().to(DEVICE)\n",
    "    # Load the latest parameters into the model\n",
    "    set_client_parameters(net, parameters)\n",
    "    # Evaluate the model on the combined validation set\n",
    "    loss, accuracy, precision, recall, f1 = test_client_model(net, combined_val_loader)\n",
    "    print(f\"Server-side evaluation - loss: {loss}, accuracy: {accuracy}\")\n",
    "\n",
    "    # Save the best model based on validation accuracy\n",
    "    if accuracy > best_aggregated_acc:\n",
    "        best_aggregated_acc = accuracy\n",
    "        torch.save(net.state_dict(), \"best_aggregated_model.pt\")\n",
    "        print(f\"Best aggregated model saved with accuracy {accuracy}\")\n",
    "\n",
    "    return loss, {\"accuracy\": accuracy, \"precision\": precision, \"recall\": recall, \"f1\": f1}"
   ]
  },
  {
   "cell_type": "code",
   "execution_count": 12,
   "id": "e2d3f49b-3a79-41f4-88b7-76357fa7eb23",
   "metadata": {},
   "outputs": [],
   "source": [
    "# Define metric aggregation function using arithmetic mean\n",
    "def arithmetic_mean(metrics: List[Tuple[int, Dict[str, fl.common.Scalar]]]) -> Dict[str, fl.common.Scalar]:\n",
    "    \"\"\"\n",
    "    Compute the arithmetic mean of metrics across all clients.\n",
    "\n",
    "    Parameters:\n",
    "        metrics (List[Tuple[int, Dict[str, fl.common.Scalar]]]): \n",
    "        List of tuples containing number of samples and metric dictionaries from clients.\n",
    "\n",
    "    Returns:\n",
    "        Dict[str, fl.common.Scalar]: Aggregated metrics.\n",
    "    \"\"\"\n",
    "    # Extract accuracy and calculate mean\n",
    "    accuracies = [m[\"accuracy\"] for _, m in metrics]\n",
    "    mean_acc = np.mean(accuracies)\n",
    "    # Extract precision and calculate mean\n",
    "    precisions = [m[\"precision\"] for _, m in metrics]\n",
    "    mean_precision = np.mean(precisions)\n",
    "    # Extract recall and calculate mean\n",
    "    recalls = [m[\"recall\"] for _, m in metrics]\n",
    "    mean_recall = np.mean(recalls)\n",
    "    # Extract F1 score and calculate mean\n",
    "    f1_scores = [m[\"f1\"] for _, m in metrics]\n",
    "    mean_f1 = np.mean(f1_scores)\n",
    "    return {\"accuracy\": mean_acc, \"precision\": mean_precision, \"recall\": mean_recall, \"f1\": mean_f1}"
   ]
  },
  {
   "cell_type": "code",
   "execution_count": 13,
   "id": "419ba6d1-6458-49d9-866a-e61b0d3b5cce",
   "metadata": {},
   "outputs": [
    {
     "name": "stdout",
     "output_type": "stream",
     "text": [
      "Seed 1/30\n"
     ]
    },
    {
     "name": "stderr",
     "output_type": "stream",
     "text": [
      "2024-08-03 02:06:34,784\tINFO worker.py:1752 -- Started a local Ray instance.\n"
     ]
    },
    {
     "name": "stdout",
     "output_type": "stream",
     "text": [
      "Server-side evaluation - loss: 0.026098317570156522, accuracy: 0.4074074074074074\n",
      "Best aggregated model saved with accuracy 0.4074074074074074\n",
      "\u001b[36m(ClientAppActor pid=8863)\u001b[0m [Client 0] fit, config: {}\n"
     ]
    },
    {
     "name": "stderr",
     "output_type": "stream",
     "text": [
      "\u001b[36m(ClientAppActor pid=8863)\u001b[0m \u001b[93mWARNING \u001b[0m:   Deprecation Warning: The `client_fn` function must return an instance of `Client`, but an instance of `NumpyClient` was returned. Please use `NumPyClient.to_client()` method to convert it to `Client`.\n"
     ]
    },
    {
     "name": "stdout",
     "output_type": "stream",
     "text": [
      "\u001b[36m(ClientAppActor pid=8862)\u001b[0m Epoch 1: val loss 0.0184, val accuracy 0.8571\n",
      "\u001b[36m(ClientAppActor pid=8862)\u001b[0m Epoch 2: val loss 0.0151, val accuracy 0.8571\n",
      "\u001b[36m(ClientAppActor pid=8862)\u001b[0m Epoch 3: val loss 0.0183, val accuracy 0.8571\n",
      "\u001b[36m(ClientAppActor pid=8865)\u001b[0m Early stopping due to reaching 100% accuracy\n",
      "\u001b[36m(ClientAppActor pid=8862)\u001b[0m Early stopping at epoch 8\n",
      "Server-side evaluation - loss: 0.016886654275434988, accuracy: 0.7870370370370371\n",
      "Best aggregated model saved with accuracy 0.7870370370370371\n",
      "\u001b[36m(ClientAppActor pid=8866)\u001b[0m [Client 0] evaluate, config: {}\n",
      "\u001b[36m(ClientAppActor pid=8865)\u001b[0m Early stopping due to reaching 100% accuracy\n",
      "Server-side evaluation - loss: 0.01296922426532816, accuracy: 0.8425925925925926\n",
      "Best aggregated model saved with accuracy 0.8425925925925926\n",
      "Server-side evaluation - loss: 0.011239106318464986, accuracy: 0.9166666666666666\n",
      "Best aggregated model saved with accuracy 0.9166666666666666\n",
      "Server-side evaluation - loss: 0.00988665802611245, accuracy: 0.9074074074074074\n",
      "Server-side evaluation - loss: 0.00931547651136363, accuracy: 0.9074074074074074\n",
      "Server-side evaluation - loss: 0.008988447487354279, accuracy: 0.9166666666666666\n",
      "Server-side evaluation - loss: 0.00845805569379418, accuracy: 0.9166666666666666\n",
      "Server-side evaluation - loss: 0.007855354704790644, accuracy: 0.9166666666666666\n",
      "Server-side evaluation - loss: 0.008749439484543271, accuracy: 0.8981481481481481\n",
      "Server-side evaluation - loss: 0.007662632537108881, accuracy: 0.9166666666666666\n",
      "Server-side evaluation - loss: 0.007671798820848818, accuracy: 0.9074074074074074\n",
      "Server-side evaluation - loss: 0.007368330671279518, accuracy: 0.9166666666666666\n",
      "Server-side evaluation - loss: 0.007425862674911817, accuracy: 0.9074074074074074\n",
      "Server-side evaluation - loss: 0.007331107087709286, accuracy: 0.9259259259259259\n",
      "Best aggregated model saved with accuracy 0.9259259259259259\n",
      "Server-side evaluation - loss: 0.007035827885071437, accuracy: 0.9351851851851852\n",
      "Best aggregated model saved with accuracy 0.9351851851851852\n",
      "Server-side evaluation - loss: 0.00670589089255642, accuracy: 0.9074074074074074\n",
      "\u001b[36m(ClientAppActor pid=8862)\u001b[0m [Client 0] fit, config: {}\u001b[32m [repeated 80x across cluster] (Ray deduplicates logs by default. Set RAY_DEDUP_LOGS=0 to disable log deduplication, or see https://docs.ray.io/en/master/ray-observability/ray-logging.html#log-deduplication for more options.)\u001b[0m\n"
     ]
    },
    {
     "name": "stderr",
     "output_type": "stream",
     "text": [
      "\u001b[36m(ClientAppActor pid=8865)\u001b[0m \u001b[93mWARNING \u001b[0m:   Deprecation Warning: The `client_fn` function must return an instance of `Client`, but an instance of `NumpyClient` was returned. Please use `NumPyClient.to_client()` method to convert it to `Client`.\u001b[32m [repeated 156x across cluster]\u001b[0m\n"
     ]
    },
    {
     "name": "stdout",
     "output_type": "stream",
     "text": [
      "Server-side evaluation - loss: 0.006778627013166745, accuracy: 0.9166666666666666\n",
      "Server-side evaluation - loss: 0.006803661274413268, accuracy: 0.9166666666666666\n",
      "\u001b[36m(ClientAppActor pid=8862)\u001b[0m Epoch 1: val loss 0.0003, val accuracy 1.0000\u001b[32m [repeated 456x across cluster]\u001b[0m\n",
      "\u001b[36m(ClientAppActor pid=8862)\u001b[0m Early stopping due to reaching 100% accuracy\u001b[32m [repeated 35x across cluster]\u001b[0m\n",
      "Server-side evaluation - loss: 0.007300718549501013, accuracy: 0.9074074074074074\n",
      "\u001b[36m(ClientAppActor pid=8865)\u001b[0m Early stopping at epoch 7\u001b[32m [repeated 54x across cluster]\u001b[0m\n",
      "Server-side evaluation - loss: 0.007512635654873318, accuracy: 0.8981481481481481\n",
      "\u001b[36m(ClientAppActor pid=8864)\u001b[0m [Client 4] evaluate, config: {}\u001b[32m [repeated 94x across cluster]\u001b[0m\n",
      "Server-side evaluation - loss: 0.006162805551732028, accuracy: 0.8981481481481481\n",
      "Server-side evaluation - loss: 0.0062171270794890545, accuracy: 0.9351851851851852\n",
      "Server-side evaluation - loss: 0.007111644958732305, accuracy: 0.9074074074074074\n",
      "Server-side evaluation - loss: 0.007226125613130905, accuracy: 0.9074074074074074\n",
      "Server-side evaluation - loss: 0.0074701886279163535, accuracy: 0.8888888888888888\n",
      "Server-side evaluation - loss: 0.006948009995674646, accuracy: 0.9074074074074074\n",
      "Server-side evaluation - loss: 0.007450477047650902, accuracy: 0.9166666666666666\n",
      "Server-side evaluation - loss: 0.00617201067507267, accuracy: 0.9074074074074074\n",
      "Server-side evaluation - loss: 0.0075537122234150215, accuracy: 0.9074074074074074\n",
      "Server-side evaluation - loss: 0.006677468462536733, accuracy: 0.9166666666666666\n",
      "Server-side evaluation - loss: 0.006895243569656655, accuracy: 0.9074074074074074\n",
      "Server-side evaluation - loss: 0.0073015110015317245, accuracy: 0.9074074074074074\n",
      "Server-side evaluation - loss: 0.0070887816104072115, accuracy: 0.9166666666666666\n",
      "Server-side evaluation - loss: 0.008174853537369657, accuracy: 0.9074074074074074\n",
      "Server-side evaluation - loss: 0.010323985962680093, accuracy: 0.9166666666666666\n",
      "\u001b[36m(ClientAppActor pid=8864)\u001b[0m [Client 4] fit, config: {}\u001b[32m [repeated 94x across cluster]\u001b[0m\n"
     ]
    },
    {
     "name": "stderr",
     "output_type": "stream",
     "text": [
      "\u001b[36m(ClientAppActor pid=8865)\u001b[0m \u001b[93mWARNING \u001b[0m:   Deprecation Warning: The `client_fn` function must return an instance of `Client`, but an instance of `NumpyClient` was returned. Please use `NumPyClient.to_client()` method to convert it to `Client`.\u001b[32m [repeated 189x across cluster]\u001b[0m\n"
     ]
    },
    {
     "name": "stdout",
     "output_type": "stream",
     "text": [
      "Server-side evaluation - loss: 0.006459221519805767, accuracy: 0.9259259259259259\n",
      "Server-side evaluation - loss: 0.00666796447088321, accuracy: 0.9166666666666666\n",
      "\u001b[36m(ClientAppActor pid=8863)\u001b[0m Epoch 13: val loss 0.0283, val accuracy 0.9000\u001b[32m [repeated 439x across cluster]\u001b[0m\n",
      "\u001b[36m(ClientAppActor pid=8862)\u001b[0m Early stopping due to reaching 100% accuracy\u001b[32m [repeated 40x across cluster]\u001b[0m\n",
      "\u001b[36m(ClientAppActor pid=8863)\u001b[0m Early stopping at epoch 14\u001b[32m [repeated 52x across cluster]\u001b[0m\n",
      "Server-side evaluation - loss: 0.00719510900132634, accuracy: 0.8981481481481481\n",
      "\u001b[36m(ClientAppActor pid=8864)\u001b[0m [Client 2] evaluate, config: {}\u001b[32m [repeated 95x across cluster]\u001b[0m\n",
      "Server-side evaluation - loss: 0.006536240068574746, accuracy: 0.9259259259259259\n",
      "Server-side evaluation - loss: 0.009236413123155082, accuracy: 0.9166666666666666\n",
      "Server-side evaluation - loss: 0.006951194187557256, accuracy: 0.9074074074074074\n",
      "Server-side evaluation - loss: 0.007521417405870225, accuracy: 0.9074074074074074\n",
      "Server-side evaluation - loss: 0.007214457658981836, accuracy: 0.8981481481481481\n",
      "Server-side evaluation - loss: 0.008390377292892447, accuracy: 0.9074074074074074\n",
      "Server-side evaluation - loss: 0.008040655024901585, accuracy: 0.8981481481481481\n",
      "Server-side evaluation - loss: 0.007929202048452917, accuracy: 0.9074074074074074\n",
      "Server-side evaluation - loss: 0.007427180047940325, accuracy: 0.9166666666666666\n",
      "Server-side evaluation - loss: 0.00795755745774066, accuracy: 0.9166666666666666\n",
      "Server-side evaluation - loss: 0.008267359325179347, accuracy: 0.8888888888888888\n",
      "\u001b[36m(ClientAppActor pid=8862)\u001b[0m \n",
      "Server-side evaluation - loss: 0.011092467026578056, accuracy: 0.8796296296296297\n",
      "Aggregated model evaluation - loss: 0.007035827885071437, accuracy: 0.9351851851851852, precision: 0.9666666666666667, recall: 0.9206349206349206, f1: 0.943089430894309\n",
      "Seed 2/30\n",
      "\u001b[36m(ClientAppActor pid=8863)\u001b[0m [Client 3] fit, config: {}\u001b[32m [repeated 75x across cluster]\u001b[0m\n",
      "\u001b[36m(ClientAppActor pid=8864)\u001b[0m Epoch 6: val loss 0.0784, val accuracy 0.9583\u001b[32m [repeated 289x across cluster]\u001b[0m\n",
      "\u001b[36m(ClientAppActor pid=8862)\u001b[0m Early stopping due to reaching 100% accuracy\u001b[32m [repeated 27x across cluster]\u001b[0m\n",
      "\u001b[36m(ClientAppActor pid=8864)\u001b[0m Early stopping at epoch 7\u001b[32m [repeated 38x across cluster]\u001b[0m\n",
      "\u001b[36m(ClientAppActor pid=8864)\u001b[0m [Client 4] evaluate, config: {}\u001b[32m [repeated 60x across cluster]\u001b[0m\n"
     ]
    },
    {
     "name": "stderr",
     "output_type": "stream",
     "text": [
      "\u001b[36m(ClientAppActor pid=8866)\u001b[0m \u001b[93mWARNING \u001b[0m:   Deprecation Warning: The `client_fn` function must return an instance of `Client`, but an instance of `NumpyClient` was returned. Please use `NumPyClient.to_client()` method to convert it to `Client`.\u001b[32m [repeated 154x across cluster]\u001b[0m\n",
      "2024-08-03 02:06:54,001\tINFO worker.py:1752 -- Started a local Ray instance.\n"
     ]
    },
    {
     "name": "stdout",
     "output_type": "stream",
     "text": [
      "Server-side evaluation - loss: 0.025892025342694035, accuracy: 0.46296296296296297\n",
      "Best aggregated model saved with accuracy 0.46296296296296297\n"
     ]
    },
    {
     "name": "stderr",
     "output_type": "stream",
     "text": [
      "\u001b[36m(ClientAppActor pid=8910)\u001b[0m \u001b[93mWARNING \u001b[0m:   Deprecation Warning: The `client_fn` function must return an instance of `Client`, but an instance of `NumpyClient` was returned. Please use `NumPyClient.to_client()` method to convert it to `Client`.\n"
     ]
    },
    {
     "name": "stdout",
     "output_type": "stream",
     "text": [
      "\u001b[36m(ClientAppActor pid=8913)\u001b[0m [Client 1] fit, config: {}\n",
      "\u001b[36m(ClientAppActor pid=8913)\u001b[0m Epoch 1: val loss 0.0438, val accuracy 0.7500\n",
      "\u001b[36m(ClientAppActor pid=8913)\u001b[0m Early stopping at epoch 7\n",
      "Server-side evaluation - loss: 0.016511791558177384, accuracy: 0.7870370370370371\n",
      "Best aggregated model saved with accuracy 0.7870370370370371\n",
      "\u001b[36m(ClientAppActor pid=8913)\u001b[0m [Client 2] evaluate, config: {}\n",
      "\u001b[36m(ClientAppActor pid=8910)\u001b[0m Early stopping due to reaching 100% accuracy\n",
      "Server-side evaluation - loss: 0.012788708425230451, accuracy: 0.8518518518518519\n",
      "Best aggregated model saved with accuracy 0.8518518518518519\n",
      "Server-side evaluation - loss: 0.01579251485290351, accuracy: 0.7685185185185185\n",
      "Server-side evaluation - loss: 0.013179385275752456, accuracy: 0.8240740740740741\n",
      "Server-side evaluation - loss: 0.013465054195236277, accuracy: 0.8240740740740741\n",
      "Server-side evaluation - loss: 0.011948408489977871, accuracy: 0.8611111111111112\n",
      "Best aggregated model saved with accuracy 0.8611111111111112\n",
      "Server-side evaluation - loss: 0.0131119795281578, accuracy: 0.8611111111111112\n",
      "Server-side evaluation - loss: 0.012006160078777207, accuracy: 0.8703703703703703\n",
      "Best aggregated model saved with accuracy 0.8703703703703703\n",
      "Server-side evaluation - loss: 0.01160799705043987, accuracy: 0.8796296296296297\n",
      "Best aggregated model saved with accuracy 0.8796296296296297\n",
      "Server-side evaluation - loss: 0.011541574020628576, accuracy: 0.8611111111111112\n",
      "Server-side evaluation - loss: 0.013221244914112267, accuracy: 0.8611111111111112\n",
      "Server-side evaluation - loss: 0.01226658539639579, accuracy: 0.8703703703703703\n",
      "\u001b[36m(ClientAppActor pid=8914)\u001b[0m [Client 4] fit, config: {}\u001b[32m [repeated 59x across cluster]\u001b[0m\n"
     ]
    },
    {
     "name": "stderr",
     "output_type": "stream",
     "text": [
      "\u001b[36m(ClientAppActor pid=8910)\u001b[0m \u001b[93mWARNING \u001b[0m:   Deprecation Warning: The `client_fn` function must return an instance of `Client`, but an instance of `NumpyClient` was returned. Please use `NumPyClient.to_client()` method to convert it to `Client`.\u001b[32m [repeated 116x across cluster]\u001b[0m\n"
     ]
    },
    {
     "name": "stdout",
     "output_type": "stream",
     "text": [
      "Server-side evaluation - loss: 0.012931285426020622, accuracy: 0.8703703703703703\n",
      "Server-side evaluation - loss: 0.010264732978410192, accuracy: 0.8796296296296297\n",
      "\u001b[36m(ClientAppActor pid=8911)\u001b[0m Epoch 7: val loss 0.0354, val accuracy 0.9048\u001b[32m [repeated 483x across cluster]\u001b[0m\n",
      "\u001b[36m(ClientAppActor pid=8910)\u001b[0m Early stopping at epoch 12\u001b[32m [repeated 34x across cluster]\u001b[0m\n",
      "Server-side evaluation - loss: 0.013464549487387692, accuracy: 0.8611111111111112\n",
      "\u001b[36m(ClientAppActor pid=8914)\u001b[0m [Client 4] evaluate, config: {}\u001b[32m [repeated 74x across cluster]\u001b[0m\n",
      "Server-side evaluation - loss: 0.010651355471324038, accuracy: 0.8796296296296297\n",
      "\u001b[36m(ClientAppActor pid=8912)\u001b[0m Early stopping due to reaching 100% accuracy\u001b[32m [repeated 31x across cluster]\u001b[0m\n",
      "Server-side evaluation - loss: 0.01224563408780981, accuracy: 0.8796296296296297\n",
      "Server-side evaluation - loss: 0.013415674920435305, accuracy: 0.8703703703703703\n",
      "Server-side evaluation - loss: 0.015300876012554875, accuracy: 0.8796296296296297\n",
      "Server-side evaluation - loss: 0.012579161742771114, accuracy: 0.8703703703703703\n",
      "Server-side evaluation - loss: 0.013941829472228332, accuracy: 0.8611111111111112\n",
      "Server-side evaluation - loss: 0.01383179508977466, accuracy: 0.8611111111111112\n",
      "Server-side evaluation - loss: 0.015068083449646278, accuracy: 0.8796296296296297\n",
      "Server-side evaluation - loss: 0.018710589243306056, accuracy: 0.8703703703703703\n",
      "Server-side evaluation - loss: 0.01758331639899148, accuracy: 0.8611111111111112\n",
      "Server-side evaluation - loss: 0.01942860707640648, accuracy: 0.8703703703703703\n",
      "Server-side evaluation - loss: 0.022345880529394856, accuracy: 0.8611111111111112\n",
      "Server-side evaluation - loss: 0.02154025352663464, accuracy: 0.8703703703703703\n",
      "Server-side evaluation - loss: 0.02419597793508459, accuracy: 0.8796296296296297\n",
      "\u001b[36m(ClientAppActor pid=8914)\u001b[0m [Client 3] fit, config: {}\u001b[32m [repeated 85x across cluster]\u001b[0m\n"
     ]
    },
    {
     "name": "stderr",
     "output_type": "stream",
     "text": [
      "\u001b[36m(ClientAppActor pid=8910)\u001b[0m \u001b[93mWARNING \u001b[0m:   Deprecation Warning: The `client_fn` function must return an instance of `Client`, but an instance of `NumpyClient` was returned. Please use `NumPyClient.to_client()` method to convert it to `Client`.\u001b[32m [repeated 170x across cluster]\u001b[0m\n"
     ]
    },
    {
     "name": "stdout",
     "output_type": "stream",
     "text": [
      "Server-side evaluation - loss: 0.023158505627954448, accuracy: 0.8518518518518519\n",
      "Server-side evaluation - loss: 0.026542253861272777, accuracy: 0.8518518518518519\n",
      "\u001b[36m(ClientAppActor pid=8912)\u001b[0m Epoch 7: val loss 0.0437, val accuracy 0.9524\u001b[32m [repeated 458x across cluster]\u001b[0m\n",
      "\u001b[36m(ClientAppActor pid=8912)\u001b[0m Early stopping at epoch 9\u001b[32m [repeated 45x across cluster]\u001b[0m\n",
      "Server-side evaluation - loss: 0.020396109049518902, accuracy: 0.8518518518518519\n",
      "Server-side evaluation - loss: 0.023301990012879723, accuracy: 0.8703703703703703\n",
      "\u001b[36m(ClientAppActor pid=8910)\u001b[0m [Client 2] evaluate, config: {}\u001b[32m [repeated 86x across cluster]\u001b[0m\n",
      "\u001b[36m(ClientAppActor pid=8913)\u001b[0m Early stopping due to reaching 100% accuracy\u001b[32m [repeated 42x across cluster]\u001b[0m\n",
      "Server-side evaluation - loss: 0.023823610955366382, accuracy: 0.8518518518518519\n",
      "Server-side evaluation - loss: 0.023866043529576726, accuracy: 0.8611111111111112\n",
      "Server-side evaluation - loss: 0.024148704622078826, accuracy: 0.8611111111111112\n",
      "Server-side evaluation - loss: 0.02399621876301589, accuracy: 0.8703703703703703\n",
      "Server-side evaluation - loss: 0.024879944269303924, accuracy: 0.8703703703703703\n",
      "Server-side evaluation - loss: 0.025738377262044837, accuracy: 0.8611111111111112\n",
      "Server-side evaluation - loss: 0.02238085472749339, accuracy: 0.8611111111111112\n",
      "Server-side evaluation - loss: 0.025836659802330866, accuracy: 0.8611111111111112\n",
      "Server-side evaluation - loss: 0.02997676283121109, accuracy: 0.8703703703703703\n",
      "Server-side evaluation - loss: 0.023932980442488636, accuracy: 0.8611111111111112\n",
      "Server-side evaluation - loss: 0.02561308553925267, accuracy: 0.8703703703703703\n",
      "Server-side evaluation - loss: 0.02940604663281529, accuracy: 0.8611111111111112\n",
      "Server-side evaluation - loss: 0.027240371262585675, accuracy: 0.8611111111111112\n",
      "\u001b[36m(ClientAppActor pid=8914)\u001b[0m [Client 3] fit, config: {}\u001b[32m [repeated 90x across cluster]\u001b[0m\n",
      "Server-side evaluation - loss: 0.03191106055897695, accuracy: 0.8796296296296297\n"
     ]
    },
    {
     "name": "stderr",
     "output_type": "stream",
     "text": [
      "\u001b[36m(ClientAppActor pid=8913)\u001b[0m \u001b[93mWARNING \u001b[0m:   Deprecation Warning: The `client_fn` function must return an instance of `Client`, but an instance of `NumpyClient` was returned. Please use `NumPyClient.to_client()` method to convert it to `Client`.\u001b[32m [repeated 179x across cluster]\u001b[0m\n"
     ]
    },
    {
     "name": "stdout",
     "output_type": "stream",
     "text": [
      "Server-side evaluation - loss: 0.028213858604431152, accuracy: 0.8703703703703703\n",
      "\u001b[36m(ClientAppActor pid=8910)\u001b[0m Epoch 8: val loss 0.0043, val accuracy 0.9500\u001b[32m [repeated 406x across cluster]\u001b[0m\n",
      "\u001b[36m(ClientAppActor pid=8911)\u001b[0m Early stopping at epoch 7\u001b[32m [repeated 40x across cluster]\u001b[0m\n",
      "Server-side evaluation - loss: 0.02874613856827771, accuracy: 0.8518518518518519\n",
      "Server-side evaluation - loss: 0.03172242882902975, accuracy: 0.8611111111111112\n",
      "Aggregated model evaluation - loss: 0.01160799705043987, accuracy: 0.8796296296296297, precision: 0.8571428571428571, recall: 0.9523809523809523, f1: 0.9022556390977443\n",
      "Seed 3/30\n",
      "\u001b[36m(ClientAppActor pid=8913)\u001b[0m [Client 3] evaluate, config: {}\u001b[32m [repeated 85x across cluster]\u001b[0m\n",
      "\u001b[36m(ClientAppActor pid=8912)\u001b[0m Early stopping due to reaching 100% accuracy\u001b[32m [repeated 44x across cluster]\u001b[0m\n",
      "\u001b[36m(ClientAppActor pid=8914)\u001b[0m [Client 3] fit, config: {}\u001b[32m [repeated 15x across cluster]\u001b[0m\n",
      "\u001b[36m(ClientAppActor pid=8914)\u001b[0m Epoch 9: val loss 0.0613, val accuracy 0.9524\u001b[32m [repeated 38x across cluster]\u001b[0m\n",
      "\u001b[36m(ClientAppActor pid=8914)\u001b[0m Early stopping at epoch 10\u001b[32m [repeated 4x across cluster]\u001b[0m\n",
      "\u001b[36m(ClientAppActor pid=8910)\u001b[0m [Client 4] evaluate, config: {}\n"
     ]
    },
    {
     "name": "stderr",
     "output_type": "stream",
     "text": [
      "\u001b[36m(ClientAppActor pid=8912)\u001b[0m \u001b[93mWARNING \u001b[0m:   Deprecation Warning: The `client_fn` function must return an instance of `Client`, but an instance of `NumpyClient` was returned. Please use `NumPyClient.to_client()` method to convert it to `Client`.\u001b[32m [repeated 34x across cluster]\u001b[0m\n",
      "2024-08-03 02:07:15,603\tINFO worker.py:1752 -- Started a local Ray instance.\n"
     ]
    },
    {
     "name": "stdout",
     "output_type": "stream",
     "text": [
      "Server-side evaluation - loss: 0.025532798634635076, accuracy: 0.5833333333333334\n",
      "Best aggregated model saved with accuracy 0.5833333333333334\n",
      "\u001b[36m(ClientAppActor pid=8952)\u001b[0m [Client 2] fit, config: {}\n"
     ]
    },
    {
     "name": "stderr",
     "output_type": "stream",
     "text": [
      "\u001b[36m(ClientAppActor pid=8951)\u001b[0m \u001b[93mWARNING \u001b[0m:   Deprecation Warning: The `client_fn` function must return an instance of `Client`, but an instance of `NumpyClient` was returned. Please use `NumPyClient.to_client()` method to convert it to `Client`.\n"
     ]
    },
    {
     "name": "stdout",
     "output_type": "stream",
     "text": [
      "\u001b[36m(ClientAppActor pid=8952)\u001b[0m Epoch 1: val loss 0.0081, val accuracy 1.0000\n",
      "\u001b[36m(ClientAppActor pid=8952)\u001b[0m Early stopping due to reaching 100% accuracy\n",
      "\u001b[36m(ClientAppActor pid=8949)\u001b[0m Early stopping at epoch 7\n",
      "Server-side evaluation - loss: 0.018097598519590165, accuracy: 0.8055555555555556\n",
      "Best aggregated model saved with accuracy 0.8055555555555556\n",
      "\u001b[36m(ClientAppActor pid=8952)\u001b[0m [Client 0] evaluate, config: {}\n",
      "Server-side evaluation - loss: 0.016157707958309737, accuracy: 0.7870370370370371\n",
      "Server-side evaluation - loss: 0.012926677310908283, accuracy: 0.8333333333333334\n",
      "Best aggregated model saved with accuracy 0.8333333333333334\n",
      "Server-side evaluation - loss: 0.013267987028316216, accuracy: 0.8425925925925926\n",
      "Best aggregated model saved with accuracy 0.8425925925925926\n",
      "Server-side evaluation - loss: 0.013433607226168667, accuracy: 0.8240740740740741\n",
      "Server-side evaluation - loss: 0.00991423041732223, accuracy: 0.8981481481481481\n",
      "Best aggregated model saved with accuracy 0.8981481481481481\n",
      "Server-side evaluation - loss: 0.009986969607847708, accuracy: 0.8611111111111112\n",
      "Server-side evaluation - loss: 0.011326322676958862, accuracy: 0.8611111111111112\n",
      "Server-side evaluation - loss: 0.010785977045694986, accuracy: 0.8796296296296297\n",
      "Server-side evaluation - loss: 0.010904408163494535, accuracy: 0.8796296296296297\n",
      "Server-side evaluation - loss: 0.007893305547811367, accuracy: 0.9166666666666666\n",
      "Best aggregated model saved with accuracy 0.9166666666666666\n",
      "Server-side evaluation - loss: 0.009481201983160444, accuracy: 0.8888888888888888\n",
      "Server-side evaluation - loss: 0.009807584048421294, accuracy: 0.8888888888888888\n",
      "Server-side evaluation - loss: 0.010038205870875606, accuracy: 0.8888888888888888\n",
      "Server-side evaluation - loss: 0.008093576671348678, accuracy: 0.8888888888888888\n",
      "Server-side evaluation - loss: 0.008591406599239067, accuracy: 0.9074074074074074\n",
      "\u001b[36m(ClientAppActor pid=8950)\u001b[0m [Client 2] fit, config: {}\u001b[32m [repeated 84x across cluster]\u001b[0m\n",
      "Server-side evaluation - loss: 0.007453449484374788, accuracy: 0.9166666666666666\n"
     ]
    },
    {
     "name": "stderr",
     "output_type": "stream",
     "text": [
      "\u001b[36m(ClientAppActor pid=8951)\u001b[0m \u001b[93mWARNING \u001b[0m:   Deprecation Warning: The `client_fn` function must return an instance of `Client`, but an instance of `NumpyClient` was returned. Please use `NumPyClient.to_client()` method to convert it to `Client`.\u001b[32m [repeated 166x across cluster]\u001b[0m\n"
     ]
    },
    {
     "name": "stdout",
     "output_type": "stream",
     "text": [
      "Server-side evaluation - loss: 0.007828236798997279, accuracy: 0.9166666666666666\n",
      "Server-side evaluation - loss: 0.010879458928549732, accuracy: 0.8981481481481481\n",
      "\u001b[36m(ClientAppActor pid=8950)\u001b[0m Epoch 1: val loss 0.0001, val accuracy 1.0000\u001b[32m [repeated 456x across cluster]\u001b[0m\n",
      "\u001b[36m(ClientAppActor pid=8950)\u001b[0m Early stopping due to reaching 100% accuracy\u001b[32m [repeated 40x across cluster]\u001b[0m\n",
      "\u001b[36m(ClientAppActor pid=8948)\u001b[0m Early stopping at epoch 7\u001b[32m [repeated 53x across cluster]\u001b[0m\n",
      "Server-side evaluation - loss: 0.010437533259391785, accuracy: 0.8981481481481481\n",
      "\u001b[36m(ClientAppActor pid=8950)\u001b[0m [Client 0] evaluate, config: {}\u001b[32m [repeated 99x across cluster]\u001b[0m\n",
      "Server-side evaluation - loss: 0.012278005204818867, accuracy: 0.8888888888888888\n",
      "Server-side evaluation - loss: 0.011910884606617468, accuracy: 0.8981481481481481\n",
      "Server-side evaluation - loss: 0.008547899485738189, accuracy: 0.9074074074074074\n",
      "Server-side evaluation - loss: 0.00969545281043759, accuracy: 0.8981481481481481\n",
      "Server-side evaluation - loss: 0.010065237060189247, accuracy: 0.9166666666666666\n",
      "Server-side evaluation - loss: 0.012506716781192355, accuracy: 0.8888888888888888\n",
      "Server-side evaluation - loss: 0.009898379721023419, accuracy: 0.9074074074074074\n",
      "Server-side evaluation - loss: 0.015428284390105141, accuracy: 0.8703703703703703\n",
      "Server-side evaluation - loss: 0.010509118851688173, accuracy: 0.9074074074074074\n",
      "Server-side evaluation - loss: 0.01275691431429651, accuracy: 0.8981481481481481\n",
      "Server-side evaluation - loss: 0.010618854590036251, accuracy: 0.9074074074074074\n",
      "Server-side evaluation - loss: 0.014337124509943856, accuracy: 0.9074074074074074\n",
      "Server-side evaluation - loss: 0.011192149172226587, accuracy: 0.9074074074074074\n",
      "Server-side evaluation - loss: 0.01122597066892518, accuracy: 0.9074074074074074\n",
      "Server-side evaluation - loss: 0.013268700283434656, accuracy: 0.9074074074074074\n",
      "Server-side evaluation - loss: 0.01393194634605337, accuracy: 0.8981481481481481\n",
      "Server-side evaluation - loss: 0.012424597999563924, accuracy: 0.9074074074074074\n",
      "Server-side evaluation - loss: 0.013435305958544766, accuracy: 0.8981481481481481\n",
      "Server-side evaluation - loss: 0.013288151679767502, accuracy: 0.9074074074074074\n",
      "\u001b[36m(ClientAppActor pid=8952)\u001b[0m [Client 2] fit, config: {}\u001b[32m [repeated 111x across cluster]\u001b[0m\n",
      "Server-side evaluation - loss: 0.01489213619519163, accuracy: 0.8981481481481481\n"
     ]
    },
    {
     "name": "stderr",
     "output_type": "stream",
     "text": [
      "\u001b[36m(ClientAppActor pid=8951)\u001b[0m \u001b[93mWARNING \u001b[0m:   Deprecation Warning: The `client_fn` function must return an instance of `Client`, but an instance of `NumpyClient` was returned. Please use `NumPyClient.to_client()` method to convert it to `Client`.\u001b[32m [repeated 229x across cluster]\u001b[0m\n"
     ]
    },
    {
     "name": "stdout",
     "output_type": "stream",
     "text": [
      "Server-side evaluation - loss: 0.012318115267488692, accuracy: 0.9074074074074074\n",
      "\u001b[36m(ClientAppActor pid=8951)\u001b[0m Epoch 6: val loss 0.0270, val accuracy 0.9048\u001b[32m [repeated 382x across cluster]\u001b[0m\n",
      "\u001b[36m(ClientAppActor pid=8948)\u001b[0m Early stopping due to reaching 100% accuracy\u001b[32m [repeated 70x across cluster]\u001b[0m\n",
      "Server-side evaluation - loss: 0.014266367518791446, accuracy: 0.9074074074074074\n",
      "\u001b[36m(ClientAppActor pid=8951)\u001b[0m Early stopping at epoch 7\u001b[32m [repeated 44x across cluster]\u001b[0m\n",
      "Server-side evaluation - loss: 0.012446810249929075, accuracy: 0.9074074074074074\n",
      "\u001b[36m(ClientAppActor pid=8952)\u001b[0m [Client 0] evaluate, config: {}\u001b[32m [repeated 111x across cluster]\u001b[0m\n",
      "Server-side evaluation - loss: 0.01486403743426005, accuracy: 0.8981481481481481\n",
      "Server-side evaluation - loss: 0.015598899236431828, accuracy: 0.8981481481481481\n",
      "Server-side evaluation - loss: 0.013564718611262462, accuracy: 0.9074074074074074\n",
      "Server-side evaluation - loss: 0.015461287081793503, accuracy: 0.9166666666666666\n",
      "Server-side evaluation - loss: 0.011861696701358867, accuracy: 0.9074074074074074\n",
      "Server-side evaluation - loss: 0.013535587875931352, accuracy: 0.9074074074074074\n",
      "Server-side evaluation - loss: 0.01317296963598993, accuracy: 0.9074074074074074\n",
      "Aggregated model evaluation - loss: 0.007893305547811367, accuracy: 0.9166666666666666, precision: 0.8970588235294118, recall: 0.9682539682539683, f1: 0.9312977099236641\n",
      "Seed 4/30\n",
      "\u001b[36m(ClientAppActor pid=8950)\u001b[0m [Client 0] fit, config: {}\u001b[32m [repeated 54x across cluster]\u001b[0m\n",
      "\u001b[36m(ClientAppActor pid=8950)\u001b[0m Epoch 3: val loss 0.0005, val accuracy 1.0000\u001b[32m [repeated 109x across cluster]\u001b[0m\n",
      "\u001b[36m(ClientAppActor pid=8950)\u001b[0m Early stopping due to reaching 100% accuracy\u001b[32m [repeated 31x across cluster]\u001b[0m\n",
      "\u001b[36m(ClientAppActor pid=8951)\u001b[0m Early stopping at epoch 7\u001b[32m [repeated 10x across cluster]\u001b[0m\n",
      "\u001b[36m(ClientAppActor pid=8951)\u001b[0m [Client 2] evaluate, config: {}\u001b[32m [repeated 35x across cluster]\u001b[0m\n"
     ]
    },
    {
     "name": "stderr",
     "output_type": "stream",
     "text": [
      "\u001b[36m(ClientAppActor pid=8951)\u001b[0m \u001b[93mWARNING \u001b[0m:   Deprecation Warning: The `client_fn` function must return an instance of `Client`, but an instance of `NumpyClient` was returned. Please use `NumPyClient.to_client()` method to convert it to `Client`.\u001b[32m [repeated 100x across cluster]\u001b[0m\n",
      "2024-08-03 02:07:33,661\tINFO worker.py:1752 -- Started a local Ray instance.\n"
     ]
    },
    {
     "name": "stdout",
     "output_type": "stream",
     "text": [
      "Server-side evaluation - loss: 0.025360988246070013, accuracy: 0.6203703703703703\n",
      "Best aggregated model saved with accuracy 0.6203703703703703\n",
      "\u001b[36m(ClientAppActor pid=8984)\u001b[0m [Client 3] fit, config: {}\n"
     ]
    },
    {
     "name": "stderr",
     "output_type": "stream",
     "text": [
      "\u001b[36m(ClientAppActor pid=8984)\u001b[0m \u001b[93mWARNING \u001b[0m:   Deprecation Warning: The `client_fn` function must return an instance of `Client`, but an instance of `NumpyClient` was returned. Please use `NumPyClient.to_client()` method to convert it to `Client`.\n"
     ]
    },
    {
     "name": "stdout",
     "output_type": "stream",
     "text": [
      "\u001b[36m(ClientAppActor pid=8984)\u001b[0m Epoch 1: val loss 0.0181, val accuracy 0.8571\n",
      "\u001b[36m(ClientAppActor pid=8984)\u001b[0m Epoch 2: val loss 0.0112, val accuracy 0.9524\n",
      "\u001b[36m(ClientAppActor pid=8984)\u001b[0m Epoch 3: val loss 0.0099, val accuracy 0.9524\n",
      "\u001b[36m(ClientAppActor pid=8984)\u001b[0m Early stopping at epoch 9\n",
      "Server-side evaluation - loss: 0.023540685022318805, accuracy: 0.7037037037037037\n",
      "Best aggregated model saved with accuracy 0.7037037037037037\n",
      "\u001b[36m(ClientAppActor pid=8984)\u001b[0m [Client 2] evaluate, config: {}\n",
      "Server-side evaluation - loss: 0.019886820404617873, accuracy: 0.75\n",
      "Best aggregated model saved with accuracy 0.75\n",
      "Server-side evaluation - loss: 0.017886558616602863, accuracy: 0.8333333333333334\n",
      "Best aggregated model saved with accuracy 0.8333333333333334\n",
      "Server-side evaluation - loss: 0.018515377270954626, accuracy: 0.7870370370370371\n",
      "Server-side evaluation - loss: 0.019950684711888985, accuracy: 0.8148148148148148\n",
      "Server-side evaluation - loss: 0.017334541926781338, accuracy: 0.8148148148148148\n",
      "Server-side evaluation - loss: 0.01836203107679332, accuracy: 0.7962962962962963\n",
      "Server-side evaluation - loss: 0.017756984879573185, accuracy: 0.7962962962962963\n",
      "Server-side evaluation - loss: 0.01869730403025945, accuracy: 0.7962962962962963\n",
      "Server-side evaluation - loss: 0.02201730799343851, accuracy: 0.8055555555555556\n",
      "Server-side evaluation - loss: 0.022892547288426646, accuracy: 0.8055555555555556\n",
      "\u001b[36m(ClientAppActor pid=8985)\u001b[0m Early stopping due to reaching 100% accuracy\n",
      "Server-side evaluation - loss: 0.020312864609338618, accuracy: 0.8055555555555556\n",
      "\u001b[36m(ClientAppActor pid=8983)\u001b[0m [Client 4] fit, config: {}\u001b[32m [repeated 59x across cluster]\u001b[0m\n"
     ]
    },
    {
     "name": "stderr",
     "output_type": "stream",
     "text": [
      "\u001b[36m(ClientAppActor pid=8984)\u001b[0m \u001b[93mWARNING \u001b[0m:   Deprecation Warning: The `client_fn` function must return an instance of `Client`, but an instance of `NumpyClient` was returned. Please use `NumPyClient.to_client()` method to convert it to `Client`.\u001b[32m [repeated 115x across cluster]\u001b[0m\n"
     ]
    },
    {
     "name": "stdout",
     "output_type": "stream",
     "text": [
      "Server-side evaluation - loss: 0.019382025770567083, accuracy: 0.8148148148148148\n",
      "\u001b[36m(ClientAppActor pid=8984)\u001b[0m Epoch 12: val loss 0.0165, val accuracy 0.9000\u001b[32m [repeated 626x across cluster]\u001b[0m\n",
      "Server-side evaluation - loss: 0.02183636236521933, accuracy: 0.7962962962962963\n",
      "\u001b[36m(ClientAppActor pid=8984)\u001b[0m Early stopping at epoch 13\u001b[32m [repeated 61x across cluster]\u001b[0m\n",
      "Server-side evaluation - loss: 0.021486465163804865, accuracy: 0.8055555555555556\n",
      "\u001b[36m(ClientAppActor pid=8984)\u001b[0m [Client 0] evaluate, config: {}\u001b[32m [repeated 70x across cluster]\u001b[0m\n",
      "Server-side evaluation - loss: 0.01830799988022557, accuracy: 0.7962962962962963\n",
      "Server-side evaluation - loss: 0.02388077077490312, accuracy: 0.8055555555555556\n",
      "Server-side evaluation - loss: 0.019733903446683177, accuracy: 0.8055555555555556\n",
      "Server-side evaluation - loss: 0.01881117332312796, accuracy: 0.8333333333333334\n",
      "Server-side evaluation - loss: 0.02268139742038868, accuracy: 0.7777777777777778\n",
      "Server-side evaluation - loss: 0.020292369855774775, accuracy: 0.8148148148148148\n",
      "Server-side evaluation - loss: 0.0175970159471035, accuracy: 0.8055555555555556\n",
      "Server-side evaluation - loss: 0.026771236900930053, accuracy: 0.7962962962962963\n",
      "Server-side evaluation - loss: 0.020974594823740148, accuracy: 0.8148148148148148\n",
      "Server-side evaluation - loss: 0.026669810767526978, accuracy: 0.8055555555555556\n",
      "Server-side evaluation - loss: 0.03045479291015201, accuracy: 0.7962962962962963\n",
      "Server-side evaluation - loss: 0.027068076172360667, accuracy: 0.7962962962962963\n",
      "\u001b[36m(ClientAppActor pid=8984)\u001b[0m Early stopping due to reaching 100% accuracy\u001b[32m [repeated 18x across cluster]\u001b[0m\n",
      "Server-side evaluation - loss: 0.03232459034080858, accuracy: 0.7870370370370371\n",
      "\u001b[36m(ClientAppActor pid=8984)\u001b[0m [Client 2] fit, config: {}\u001b[32m [repeated 80x across cluster]\u001b[0m\n"
     ]
    },
    {
     "name": "stderr",
     "output_type": "stream",
     "text": [
      "\u001b[36m(ClientAppActor pid=8984)\u001b[0m \u001b[93mWARNING \u001b[0m:   Deprecation Warning: The `client_fn` function must return an instance of `Client`, but an instance of `NumpyClient` was returned. Please use `NumPyClient.to_client()` method to convert it to `Client`.\u001b[32m [repeated 160x across cluster]\u001b[0m\n"
     ]
    },
    {
     "name": "stdout",
     "output_type": "stream",
     "text": [
      "Server-side evaluation - loss: 0.030363032801283732, accuracy: 0.7962962962962963\n",
      "Server-side evaluation - loss: 0.025971043716978143, accuracy: 0.7962962962962963\n",
      "\u001b[36m(ClientAppActor pid=8983)\u001b[0m Epoch 4: val loss 0.0638, val accuracy 0.9167\u001b[32m [repeated 520x across cluster]\u001b[0m\n",
      "\u001b[36m(ClientAppActor pid=8983)\u001b[0m Early stopping at epoch 7\u001b[32m [repeated 57x across cluster]\u001b[0m\n",
      "Server-side evaluation - loss: 0.029288694538452006, accuracy: 0.8055555555555556\n",
      "\u001b[36m(ClientAppActor pid=8984)\u001b[0m [Client 4] evaluate, config: {}\u001b[32m [repeated 80x across cluster]\u001b[0m\n",
      "Server-side evaluation - loss: 0.023661655684312183, accuracy: 0.8148148148148148\n",
      "Server-side evaluation - loss: 0.02773933857679367, accuracy: 0.8055555555555556\n",
      "Server-side evaluation - loss: 0.025380215435116378, accuracy: 0.7962962962962963\n",
      "Server-side evaluation - loss: 0.027198270791106753, accuracy: 0.7962962962962963\n",
      "Server-side evaluation - loss: 0.025617322160138026, accuracy: 0.8055555555555556\n",
      "Server-side evaluation - loss: 0.024213172219417715, accuracy: 0.8055555555555556\n",
      "Server-side evaluation - loss: 0.027678625451193914, accuracy: 0.8055555555555556\n",
      "Server-side evaluation - loss: 0.02375132894074475, accuracy: 0.8148148148148148\n",
      "Server-side evaluation - loss: 0.025468732195871847, accuracy: 0.7962962962962963\n",
      "Server-side evaluation - loss: 0.025768228979022416, accuracy: 0.8240740740740741\n",
      "Server-side evaluation - loss: 0.030399540508234943, accuracy: 0.8055555555555556\n",
      "Server-side evaluation - loss: 0.02790003545858242, accuracy: 0.8055555555555556\n",
      "Server-side evaluation - loss: 0.024985830541010254, accuracy: 0.8333333333333334\n",
      "\u001b[36m(ClientAppActor pid=8983)\u001b[0m Early stopping due to reaching 100% accuracy\u001b[32m [repeated 25x across cluster]\u001b[0m\n",
      "\u001b[36m(ClientAppActor pid=8984)\u001b[0m \n",
      "Server-side evaluation - loss: 0.026568139868753927, accuracy: 0.8148148148148148\n",
      "\u001b[36m(ClientAppActor pid=8984)\u001b[0m [Client 4] fit, config: {}\u001b[32m [repeated 86x across cluster]\u001b[0m\n"
     ]
    },
    {
     "name": "stderr",
     "output_type": "stream",
     "text": [
      "\u001b[36m(ClientAppActor pid=8984)\u001b[0m \u001b[93mWARNING \u001b[0m:   Deprecation Warning: The `client_fn` function must return an instance of `Client`, but an instance of `NumpyClient` was returned. Please use `NumPyClient.to_client()` method to convert it to `Client`.\u001b[32m [repeated 172x across cluster]\u001b[0m\n"
     ]
    },
    {
     "name": "stdout",
     "output_type": "stream",
     "text": [
      "Server-side evaluation - loss: 0.024860144765288743, accuracy: 0.8333333333333334\n",
      "\u001b[36m(ClientAppActor pid=8984)\u001b[0m Epoch 6: val loss 0.1203, val accuracy 0.9167\u001b[32m [repeated 532x across cluster]\u001b[0m\n",
      "Server-side evaluation - loss: 0.0263788057146249, accuracy: 0.8055555555555556\n",
      "\u001b[36m(ClientAppActor pid=8986)\u001b[0m Early stopping at epoch 20\u001b[32m [repeated 62x across cluster]\u001b[0m\n",
      "Server-side evaluation - loss: 0.024990862718334905, accuracy: 0.8055555555555556\n",
      "\u001b[36m(ClientAppActor pid=8984)\u001b[0m [Client 0] evaluate, config: {}\u001b[32m [repeated 85x across cluster]\u001b[0m\n",
      "Server-side evaluation - loss: 0.03084132406446669, accuracy: 0.7962962962962963\n",
      "Server-side evaluation - loss: 0.03846599685925024, accuracy: 0.8055555555555556\n",
      "Aggregated model evaluation - loss: 0.017886558616602863, accuracy: 0.8333333333333334, precision: 0.835820895522388, recall: 0.8888888888888888, f1: 0.8615384615384616\n",
      "Seed 5/30\n",
      "\u001b[36m(ClientAppActor pid=8983)\u001b[0m Early stopping due to reaching 100% accuracy\u001b[32m [repeated 8x across cluster]\u001b[0m\n",
      "\u001b[36m(ClientAppActor pid=8983)\u001b[0m [Client 2] fit, config: {}\u001b[32m [repeated 24x across cluster]\u001b[0m\n",
      "\u001b[36m(ClientAppActor pid=8983)\u001b[0m Epoch 6: val loss 0.1498, val accuracy 0.8696\u001b[32m [repeated 97x across cluster]\u001b[0m\n",
      "\u001b[36m(ClientAppActor pid=8983)\u001b[0m Early stopping at epoch 7\u001b[32m [repeated 11x across cluster]\u001b[0m\n",
      "\u001b[36m(ClientAppActor pid=8983)\u001b[0m [Client 0] evaluate, config: {}\u001b[32m [repeated 11x across cluster]\u001b[0m\n"
     ]
    },
    {
     "name": "stderr",
     "output_type": "stream",
     "text": [
      "\u001b[36m(ClientAppActor pid=8983)\u001b[0m \u001b[93mWARNING \u001b[0m:   Deprecation Warning: The `client_fn` function must return an instance of `Client`, but an instance of `NumpyClient` was returned. Please use `NumPyClient.to_client()` method to convert it to `Client`.\u001b[32m [repeated 49x across cluster]\u001b[0m\n",
      "2024-08-03 02:07:55,522\tINFO worker.py:1752 -- Started a local Ray instance.\n"
     ]
    },
    {
     "name": "stdout",
     "output_type": "stream",
     "text": [
      "Server-side evaluation - loss: 0.025779915076714975, accuracy: 0.46296296296296297\n",
      "Best aggregated model saved with accuracy 0.46296296296296297\n",
      "\u001b[36m(ClientAppActor pid=9021)\u001b[0m [Client 1] fit, config: {}\n"
     ]
    },
    {
     "name": "stderr",
     "output_type": "stream",
     "text": [
      "\u001b[36m(ClientAppActor pid=9021)\u001b[0m \u001b[93mWARNING \u001b[0m:   Deprecation Warning: The `client_fn` function must return an instance of `Client`, but an instance of `NumpyClient` was returned. Please use `NumPyClient.to_client()` method to convert it to `Client`.\n"
     ]
    },
    {
     "name": "stdout",
     "output_type": "stream",
     "text": [
      "\u001b[36m(ClientAppActor pid=9021)\u001b[0m Epoch 1: val loss 0.0253, val accuracy 0.7500\n",
      "\u001b[36m(ClientAppActor pid=9021)\u001b[0m Epoch 2: val loss 0.0234, val accuracy 0.7500\n",
      "\u001b[36m(ClientAppActor pid=9020)\u001b[0m Early stopping due to reaching 100% accuracy\n",
      "\u001b[36m(ClientAppActor pid=9018)\u001b[0m Early stopping at epoch 9\n",
      "Server-side evaluation - loss: 0.022317544453673892, accuracy: 0.7592592592592593\n",
      "Best aggregated model saved with accuracy 0.7592592592592593\n",
      "\u001b[36m(ClientAppActor pid=9021)\u001b[0m [Client 4] evaluate, config: {}\n",
      "Server-side evaluation - loss: 0.020916089553523948, accuracy: 0.8240740740740741\n",
      "Best aggregated model saved with accuracy 0.8240740740740741\n",
      "Server-side evaluation - loss: 0.020088156478272542, accuracy: 0.8148148148148148\n",
      "Server-side evaluation - loss: 0.022874581593054312, accuracy: 0.8148148148148148\n",
      "Server-side evaluation - loss: 0.02299542380151925, accuracy: 0.8240740740740741\n",
      "Server-side evaluation - loss: 0.023852378681853966, accuracy: 0.8333333333333334\n",
      "Best aggregated model saved with accuracy 0.8333333333333334\n",
      "Server-side evaluation - loss: 0.022891787467179476, accuracy: 0.8148148148148148\n",
      "Server-side evaluation - loss: 0.025351654048319214, accuracy: 0.8333333333333334\n",
      "Server-side evaluation - loss: 0.02450229103366534, accuracy: 0.8240740740740741\n",
      "Server-side evaluation - loss: 0.023719160231175245, accuracy: 0.8518518518518519\n",
      "Best aggregated model saved with accuracy 0.8518518518518519\n",
      "Server-side evaluation - loss: 0.02558249262747941, accuracy: 0.8518518518518519\n",
      "\u001b[36m(ClientAppActor pid=9021)\u001b[0m [Client 4] fit, config: {}\u001b[32m [repeated 55x across cluster]\u001b[0m\n"
     ]
    },
    {
     "name": "stderr",
     "output_type": "stream",
     "text": [
      "\u001b[36m(ClientAppActor pid=9021)\u001b[0m \u001b[93mWARNING \u001b[0m:   Deprecation Warning: The `client_fn` function must return an instance of `Client`, but an instance of `NumpyClient` was returned. Please use `NumPyClient.to_client()` method to convert it to `Client`.\u001b[32m [repeated 108x across cluster]\u001b[0m\n"
     ]
    },
    {
     "name": "stdout",
     "output_type": "stream",
     "text": [
      "Server-side evaluation - loss: 0.02553540606189657, accuracy: 0.8703703703703703\n",
      "Best aggregated model saved with accuracy 0.8703703703703703\n",
      "Server-side evaluation - loss: 0.0294188873635398, accuracy: 0.8425925925925926\n",
      "\u001b[36m(ClientAppActor pid=9020)\u001b[0m Epoch 16: val loss 0.0061, val accuracy 0.9500\u001b[32m [repeated 538x across cluster]\u001b[0m\n",
      "\u001b[36m(ClientAppActor pid=9022)\u001b[0m Early stopping due to reaching 100% accuracy\u001b[32m [repeated 22x across cluster]\u001b[0m\n",
      "\u001b[36m(ClientAppActor pid=9018)\u001b[0m Early stopping at epoch 7\u001b[32m [repeated 35x across cluster]\u001b[0m\n",
      "Server-side evaluation - loss: 0.03163899177754367, accuracy: 0.8518518518518519\n",
      "\u001b[36m(ClientAppActor pid=9022)\u001b[0m [Client 3] evaluate, config: {}\u001b[32m [repeated 69x across cluster]\u001b[0m\n",
      "Server-side evaluation - loss: 0.028923780415897018, accuracy: 0.8703703703703703\n",
      "Server-side evaluation - loss: 0.029273710593029304, accuracy: 0.8611111111111112\n",
      "Server-side evaluation - loss: 0.02920694331879969, accuracy: 0.8703703703703703\n",
      "Server-side evaluation - loss: 0.03390501536152981, accuracy: 0.8518518518518519\n",
      "Server-side evaluation - loss: 0.03535701472450186, accuracy: 0.8518518518518519\n",
      "Server-side evaluation - loss: 0.03414328147967657, accuracy: 0.8611111111111112\n",
      "Server-side evaluation - loss: 0.03517101677479567, accuracy: 0.8518518518518519\n",
      "Server-side evaluation - loss: 0.03402431529981119, accuracy: 0.8703703703703703\n",
      "Server-side evaluation - loss: 0.03337415638897154, accuracy: 0.8518518518518519\n",
      "Server-side evaluation - loss: 0.03988269054227405, accuracy: 0.8518518518518519\n",
      "Server-side evaluation - loss: 0.043505555777638046, accuracy: 0.8518518518518519\n",
      "Server-side evaluation - loss: 0.0416061254563155, accuracy: 0.8518518518518519\n",
      "Server-side evaluation - loss: 0.03684008949332767, accuracy: 0.8611111111111112\n",
      "\u001b[36m(ClientAppActor pid=9022)\u001b[0m [Client 0] fit, config: {}\u001b[32m [repeated 79x across cluster]\u001b[0m\n"
     ]
    },
    {
     "name": "stderr",
     "output_type": "stream",
     "text": [
      "\u001b[36m(ClientAppActor pid=9019)\u001b[0m \u001b[93mWARNING \u001b[0m:   Deprecation Warning: The `client_fn` function must return an instance of `Client`, but an instance of `NumpyClient` was returned. Please use `NumPyClient.to_client()` method to convert it to `Client`.\u001b[32m [repeated 157x across cluster]\u001b[0m\n"
     ]
    },
    {
     "name": "stdout",
     "output_type": "stream",
     "text": [
      "Server-side evaluation - loss: 0.042047503921720714, accuracy: 0.8518518518518519\n",
      "Server-side evaluation - loss: 0.04011192973013277, accuracy: 0.8611111111111112\n",
      "\u001b[36m(ClientAppActor pid=9022)\u001b[0m Epoch 6: val loss 0.0196, val accuracy 0.9524\u001b[32m [repeated 538x across cluster]\u001b[0m\n",
      "\u001b[36m(ClientAppActor pid=9019)\u001b[0m Early stopping due to reaching 100% accuracy\u001b[32m [repeated 20x across cluster]\u001b[0m\n",
      "\u001b[36m(ClientAppActor pid=9020)\u001b[0m Early stopping at epoch 9\u001b[32m [repeated 60x across cluster]\u001b[0m\n",
      "Server-side evaluation - loss: 0.04269982515661805, accuracy: 0.8518518518518519\n",
      "\u001b[36m(ClientAppActor pid=9022)\u001b[0m [Client 2] evaluate, config: {}\u001b[32m [repeated 80x across cluster]\u001b[0m\n",
      "Server-side evaluation - loss: 0.04352873867308652, accuracy: 0.8518518518518519\n",
      "Server-side evaluation - loss: 0.043613091111183167, accuracy: 0.8425925925925926\n",
      "Server-side evaluation - loss: 0.047946037241706145, accuracy: 0.8425925925925926\n",
      "Server-side evaluation - loss: 0.042919214400980205, accuracy: 0.8425925925925926\n",
      "Server-side evaluation - loss: 0.04577637850134461, accuracy: 0.8425925925925926\n",
      "Server-side evaluation - loss: 0.05440542295023247, accuracy: 0.8518518518518519\n",
      "Server-side evaluation - loss: 0.05220077048849176, accuracy: 0.8518518518518519\n",
      "Server-side evaluation - loss: 0.06315155410104328, accuracy: 0.8518518518518519\n",
      "Server-side evaluation - loss: 0.053099233795095374, accuracy: 0.8518518518518519\n",
      "Server-side evaluation - loss: 0.041415490210056305, accuracy: 0.8703703703703703\n",
      "Server-side evaluation - loss: 0.05644363440849163, accuracy: 0.8611111111111112\n",
      "Server-side evaluation - loss: 0.05782294162997493, accuracy: 0.8425925925925926\n",
      "\u001b[36m(ClientAppActor pid=9022)\u001b[0m [Client 1] fit, config: {}\u001b[32m [repeated 80x across cluster]\u001b[0m\n",
      "Server-side evaluation - loss: 0.056937132168699195, accuracy: 0.8518518518518519\n"
     ]
    },
    {
     "name": "stderr",
     "output_type": "stream",
     "text": [
      "\u001b[36m(ClientAppActor pid=9021)\u001b[0m \u001b[93mWARNING \u001b[0m:   Deprecation Warning: The `client_fn` function must return an instance of `Client`, but an instance of `NumpyClient` was returned. Please use `NumPyClient.to_client()` method to convert it to `Client`.\u001b[32m [repeated 160x across cluster]\u001b[0m\n"
     ]
    },
    {
     "name": "stdout",
     "output_type": "stream",
     "text": [
      "Server-side evaluation - loss: 0.05183166265487671, accuracy: 0.8518518518518519\n",
      "\u001b[36m(ClientAppActor pid=9021)\u001b[0m Epoch 6: val loss 0.1258, val accuracy 0.9565\u001b[32m [repeated 498x across cluster]\u001b[0m\n",
      "\u001b[36m(ClientAppActor pid=9019)\u001b[0m Early stopping due to reaching 100% accuracy\u001b[32m [repeated 29x across cluster]\u001b[0m\n",
      "Server-side evaluation - loss: 0.05324071921684124, accuracy: 0.8611111111111112\n",
      "\u001b[36m(ClientAppActor pid=9022)\u001b[0m Early stopping at epoch 12\u001b[32m [repeated 51x across cluster]\u001b[0m\n",
      "Server-side evaluation - loss: 0.05405800513647221, accuracy: 0.8518518518518519\n",
      "\u001b[36m(ClientAppActor pid=9022)\u001b[0m [Client 3] evaluate, config: {}\u001b[32m [repeated 80x across cluster]\u001b[0m\n",
      "Server-side evaluation - loss: 0.05931801321329894, accuracy: 0.8611111111111112\n",
      "Server-side evaluation - loss: 0.05233850909603967, accuracy: 0.8518518518518519\n",
      "Server-side evaluation - loss: 0.05218850021009092, accuracy: 0.8518518518518519\n",
      "Server-side evaluation - loss: 0.05164396486900471, accuracy: 0.8611111111111112\n",
      "Aggregated model evaluation - loss: 0.02553540606189657, accuracy: 0.8703703703703703, precision: 0.8450704225352113, recall: 0.9523809523809523, f1: 0.8955223880597015\n",
      "Seed 6/30\n",
      "\u001b[36m(ClientAppActor pid=9022)\u001b[0m [Client 1] fit, config: {}\u001b[32m [repeated 35x across cluster]\u001b[0m\n",
      "\u001b[36m(ClientAppActor pid=9019)\u001b[0m Epoch 11: val loss 0.0141, val accuracy 0.9524\u001b[32m [repeated 185x across cluster]\u001b[0m\n",
      "\u001b[36m(ClientAppActor pid=9020)\u001b[0m Early stopping due to reaching 100% accuracy\u001b[32m [repeated 10x across cluster]\u001b[0m\n",
      "\u001b[36m(ClientAppActor pid=9019)\u001b[0m Early stopping at epoch 12\u001b[32m [repeated 13x across cluster]\u001b[0m\n",
      "\u001b[36m(ClientAppActor pid=9022)\u001b[0m [Client 2] evaluate, config: {}\u001b[32m [repeated 20x across cluster]\u001b[0m\n"
     ]
    },
    {
     "name": "stderr",
     "output_type": "stream",
     "text": [
      "\u001b[36m(ClientAppActor pid=9022)\u001b[0m \u001b[93mWARNING \u001b[0m:   Deprecation Warning: The `client_fn` function must return an instance of `Client`, but an instance of `NumpyClient` was returned. Please use `NumPyClient.to_client()` method to convert it to `Client`.\u001b[32m [repeated 74x across cluster]\u001b[0m\n",
      "2024-08-03 02:08:18,480\tINFO worker.py:1752 -- Started a local Ray instance.\n"
     ]
    },
    {
     "name": "stdout",
     "output_type": "stream",
     "text": [
      "Server-side evaluation - loss: 0.025440062085787456, accuracy: 0.5925925925925926\n",
      "Best aggregated model saved with accuracy 0.5925925925925926\n",
      "\u001b[36m(ClientAppActor pid=9055)\u001b[0m [Client 0] fit, config: {}\n"
     ]
    },
    {
     "name": "stderr",
     "output_type": "stream",
     "text": [
      "\u001b[36m(ClientAppActor pid=9053)\u001b[0m \u001b[93mWARNING \u001b[0m:   Deprecation Warning: The `client_fn` function must return an instance of `Client`, but an instance of `NumpyClient` was returned. Please use `NumPyClient.to_client()` method to convert it to `Client`.\n"
     ]
    },
    {
     "name": "stdout",
     "output_type": "stream",
     "text": [
      "\u001b[36m(ClientAppActor pid=9055)\u001b[0m Epoch 1: val loss 0.0200, val accuracy 0.9583\n",
      "\u001b[36m(ClientAppActor pid=9055)\u001b[0m Epoch 2: val loss 0.0259, val accuracy 0.9167\n",
      "\u001b[36m(ClientAppActor pid=9055)\u001b[0m Epoch 3: val loss 0.0329, val accuracy 0.9167\n",
      "\u001b[36m(ClientAppActor pid=9055)\u001b[0m Early stopping at epoch 7\n",
      "Server-side evaluation - loss: 0.02235945921253275, accuracy: 0.7314814814814815\n",
      "Best aggregated model saved with accuracy 0.7314814814814815\n",
      "\u001b[36m(ClientAppActor pid=9055)\u001b[0m [Client 3] evaluate, config: {}\n",
      "Server-side evaluation - loss: 0.021443837218814425, accuracy: 0.7777777777777778\n",
      "Best aggregated model saved with accuracy 0.7777777777777778\n",
      "\u001b[36m(ClientAppActor pid=9056)\u001b[0m Early stopping due to reaching 100% accuracy\n",
      "Server-side evaluation - loss: 0.02340701429380311, accuracy: 0.8055555555555556\n",
      "Best aggregated model saved with accuracy 0.8055555555555556\n",
      "Server-side evaluation - loss: 0.02249625904692544, accuracy: 0.8148148148148148\n",
      "Best aggregated model saved with accuracy 0.8148148148148148\n",
      "Server-side evaluation - loss: 0.022356600949057826, accuracy: 0.8240740740740741\n",
      "Best aggregated model saved with accuracy 0.8240740740740741\n",
      "Server-side evaluation - loss: 0.0239004076079086, accuracy: 0.8148148148148148\n",
      "Server-side evaluation - loss: 0.0263988110754225, accuracy: 0.8240740740740741\n",
      "Server-side evaluation - loss: 0.02465651129130964, accuracy: 0.8333333333333334\n",
      "Best aggregated model saved with accuracy 0.8333333333333334\n",
      "Server-side evaluation - loss: 0.02696615512724276, accuracy: 0.8148148148148148\n",
      "Server-side evaluation - loss: 0.022019268186004075, accuracy: 0.8148148148148148\n",
      "Server-side evaluation - loss: 0.02843461420249056, accuracy: 0.8703703703703703\n",
      "Best aggregated model saved with accuracy 0.8703703703703703\n",
      "Server-side evaluation - loss: 0.028660194741355047, accuracy: 0.8055555555555556\n",
      "Server-side evaluation - loss: 0.02837250574871346, accuracy: 0.8611111111111112\n",
      "\u001b[36m(ClientAppActor pid=9057)\u001b[0m [Client 4] fit, config: {}\u001b[32m [repeated 69x across cluster]\u001b[0m\n",
      "Server-side evaluation - loss: 0.032134902767009206, accuracy: 0.8611111111111112\n"
     ]
    },
    {
     "name": "stderr",
     "output_type": "stream",
     "text": [
      "\u001b[36m(ClientAppActor pid=9053)\u001b[0m \u001b[93mWARNING \u001b[0m:   Deprecation Warning: The `client_fn` function must return an instance of `Client`, but an instance of `NumpyClient` was returned. Please use `NumPyClient.to_client()` method to convert it to `Client`.\u001b[32m [repeated 136x across cluster]\u001b[0m\n"
     ]
    },
    {
     "name": "stdout",
     "output_type": "stream",
     "text": [
      "Server-side evaluation - loss: 0.030910827495433665, accuracy: 0.8611111111111112\n",
      "\u001b[36m(ClientAppActor pid=9053)\u001b[0m \n",
      "Server-side evaluation - loss: 0.03374669714658349, accuracy: 0.8611111111111112\n",
      "\u001b[36m(ClientAppActor pid=9055)\u001b[0m Epoch 6: val loss 0.0969, val accuracy 0.8750\u001b[32m [repeated 582x across cluster]\u001b[0m\n",
      "\u001b[36m(ClientAppActor pid=9057)\u001b[0m Early stopping at epoch 7\u001b[32m [repeated 58x across cluster]\u001b[0m\n",
      "Server-side evaluation - loss: 0.03636837019412606, accuracy: 0.7962962962962963\n",
      "\u001b[36m(ClientAppActor pid=9057)\u001b[0m [Client 4] evaluate, config: {}\u001b[32m [repeated 84x across cluster]\u001b[0m\n",
      "Server-side evaluation - loss: 0.034213848412036896, accuracy: 0.8333333333333334\n",
      "Server-side evaluation - loss: 0.03248006760798119, accuracy: 0.8518518518518519\n",
      "\u001b[36m(ClientAppActor pid=9055)\u001b[0m Early stopping due to reaching 100% accuracy\u001b[32m [repeated 24x across cluster]\u001b[0m\n",
      "Server-side evaluation - loss: 0.037009301836843846, accuracy: 0.8518518518518519\n",
      "Server-side evaluation - loss: 0.03872865203905989, accuracy: 0.8518518518518519\n",
      "Server-side evaluation - loss: 0.03897949942836055, accuracy: 0.8425925925925926\n",
      "Server-side evaluation - loss: 0.040384575724601746, accuracy: 0.8518518518518519\n",
      "Server-side evaluation - loss: 0.0432318974700239, accuracy: 0.8518518518518519\n",
      "Server-side evaluation - loss: 0.040988562904574255, accuracy: 0.8425925925925926\n",
      "Server-side evaluation - loss: 0.046412742248287904, accuracy: 0.8518518518518519\n",
      "Server-side evaluation - loss: 0.03830382669413531, accuracy: 0.8518518518518519\n",
      "Server-side evaluation - loss: 0.04541752749571094, accuracy: 0.8425925925925926\n",
      "Server-side evaluation - loss: 0.0421869149086652, accuracy: 0.8518518518518519\n",
      "Server-side evaluation - loss: 0.04416278701413561, accuracy: 0.8518518518518519\n",
      "Server-side evaluation - loss: 0.04690644089822416, accuracy: 0.8425925925925926\n",
      "Server-side evaluation - loss: 0.04774435581984343, accuracy: 0.8518518518518519\n",
      "Server-side evaluation - loss: 0.05066815432575014, accuracy: 0.8333333333333334\n",
      "\u001b[36m(ClientAppActor pid=9055)\u001b[0m [Client 2] fit, config: {}\u001b[32m [repeated 96x across cluster]\u001b[0m\n",
      "Server-side evaluation - loss: 0.053148763392258574, accuracy: 0.8425925925925926\n"
     ]
    },
    {
     "name": "stderr",
     "output_type": "stream",
     "text": [
      "\u001b[36m(ClientAppActor pid=9053)\u001b[0m \u001b[93mWARNING \u001b[0m:   Deprecation Warning: The `client_fn` function must return an instance of `Client`, but an instance of `NumpyClient` was returned. Please use `NumPyClient.to_client()` method to convert it to `Client`.\u001b[32m [repeated 199x across cluster]\u001b[0m\n"
     ]
    },
    {
     "name": "stdout",
     "output_type": "stream",
     "text": [
      "Server-side evaluation - loss: 0.047348291854615566, accuracy: 0.8425925925925926\n",
      "\u001b[36m(ClientAppActor pid=9055)\u001b[0m Epoch 5: val loss 0.0036, val accuracy 0.9524\u001b[32m [repeated 482x across cluster]\u001b[0m\n",
      "\u001b[36m(ClientAppActor pid=9056)\u001b[0m Early stopping at epoch 7\u001b[32m [repeated 53x across cluster]\u001b[0m\n",
      "Server-side evaluation - loss: 0.0519607933583083, accuracy: 0.8425925925925926\n",
      "\u001b[36m(ClientAppActor pid=9054)\u001b[0m [Client 0] evaluate, config: {}\u001b[32m [repeated 95x across cluster]\u001b[0m\n",
      "Server-side evaluation - loss: 0.04458214666832377, accuracy: 0.8333333333333334\n",
      "Server-side evaluation - loss: 0.04516001004311773, accuracy: 0.8518518518518519\n",
      "Server-side evaluation - loss: 0.045823402150913524, accuracy: 0.8425925925925926\n",
      "\u001b[36m(ClientAppActor pid=9055)\u001b[0m Early stopping due to reaching 100% accuracy\u001b[32m [repeated 46x across cluster]\u001b[0m\n",
      "Server-side evaluation - loss: 0.039353759269471524, accuracy: 0.8425925925925926\n",
      "Server-side evaluation - loss: 0.044810848448563506, accuracy: 0.8425925925925926\n",
      "Server-side evaluation - loss: 0.040681239769414616, accuracy: 0.8703703703703703\n",
      "Server-side evaluation - loss: 0.04384575949774848, accuracy: 0.8425925925925926\n",
      "Server-side evaluation - loss: 0.04445599992242125, accuracy: 0.8518518518518519\n",
      "Server-side evaluation - loss: 0.04463838427155106, accuracy: 0.8425925925925926\n",
      "Server-side evaluation - loss: 0.04342864847017659, accuracy: 0.8518518518518519\n",
      "Server-side evaluation - loss: 0.041276955563161105, accuracy: 0.8611111111111112\n",
      "Server-side evaluation - loss: 0.04460192830474288, accuracy: 0.8425925925925926\n",
      "Server-side evaluation - loss: 0.0431868368414817, accuracy: 0.8611111111111112\n",
      "Server-side evaluation - loss: 0.04364122950506431, accuracy: 0.8518518518518519\n",
      "Aggregated model evaluation - loss: 0.02843461420249056, accuracy: 0.8703703703703703, precision: 0.8450704225352113, recall: 0.9523809523809523, f1: 0.8955223880597015\n",
      "Seed 7/30\n",
      "\u001b[36m(ClientAppActor pid=9057)\u001b[0m [Client 4] fit, config: {}\u001b[32m [repeated 84x across cluster]\u001b[0m\n",
      "\u001b[36m(ClientAppActor pid=9053)\u001b[0m Epoch 6: val loss 0.1251, val accuracy 0.9130\u001b[32m [repeated 316x across cluster]\u001b[0m\n",
      "\u001b[36m(ClientAppActor pid=9053)\u001b[0m Early stopping at epoch 7\u001b[32m [repeated 33x across cluster]\u001b[0m\n",
      "\u001b[36m(ClientAppActor pid=9057)\u001b[0m [Client 1] evaluate, config: {}\u001b[32m [repeated 65x across cluster]\u001b[0m\n",
      "\u001b[36m(ClientAppActor pid=9057)\u001b[0m Early stopping due to reaching 100% accuracy\u001b[32m [repeated 31x across cluster]\u001b[0m\n"
     ]
    },
    {
     "name": "stderr",
     "output_type": "stream",
     "text": [
      "\u001b[36m(ClientAppActor pid=9056)\u001b[0m \u001b[93mWARNING \u001b[0m:   Deprecation Warning: The `client_fn` function must return an instance of `Client`, but an instance of `NumpyClient` was returned. Please use `NumPyClient.to_client()` method to convert it to `Client`.\u001b[32m [repeated 159x across cluster]\u001b[0m\n",
      "2024-08-03 02:08:38,386\tINFO worker.py:1752 -- Started a local Ray instance.\n"
     ]
    },
    {
     "name": "stdout",
     "output_type": "stream",
     "text": [
      "Server-side evaluation - loss: 0.02547353450898771, accuracy: 0.5\n",
      "Best aggregated model saved with accuracy 0.5\n",
      "\u001b[36m(ClientAppActor pid=9103)\u001b[0m [Client 1] fit, config: {}\n"
     ]
    },
    {
     "name": "stderr",
     "output_type": "stream",
     "text": [
      "\u001b[36m(ClientAppActor pid=9103)\u001b[0m \u001b[93mWARNING \u001b[0m:   Deprecation Warning: The `client_fn` function must return an instance of `Client`, but an instance of `NumpyClient` was returned. Please use `NumPyClient.to_client()` method to convert it to `Client`.\n"
     ]
    },
    {
     "name": "stdout",
     "output_type": "stream",
     "text": [
      "\u001b[36m(ClientAppActor pid=9103)\u001b[0m Epoch 1: val loss 0.0277, val accuracy 0.6000\n",
      "\u001b[36m(ClientAppActor pid=9103)\u001b[0m Epoch 2: val loss 0.0238, val accuracy 0.7500\n",
      "\u001b[36m(ClientAppActor pid=9103)\u001b[0m Epoch 3: val loss 0.0222, val accuracy 0.7500\n",
      "\u001b[36m(ClientAppActor pid=9103)\u001b[0m Epoch 4: val loss 0.0233, val accuracy 0.8000\n",
      "\u001b[36m(ClientAppActor pid=9102)\u001b[0m Early stopping due to reaching 100% accuracy\n",
      "\u001b[36m(ClientAppActor pid=9099)\u001b[0m Early stopping at epoch 10\n",
      "Server-side evaluation - loss: 0.022982201642460294, accuracy: 0.6851851851851852\n",
      "Best aggregated model saved with accuracy 0.6851851851851852\n",
      "\u001b[36m(ClientAppActor pid=9103)\u001b[0m [Client 1] evaluate, config: {}\n",
      "Server-side evaluation - loss: 0.0184892526379338, accuracy: 0.8055555555555556\n",
      "Best aggregated model saved with accuracy 0.8055555555555556\n",
      "Server-side evaluation - loss: 0.01733316343139719, accuracy: 0.7962962962962963\n",
      "Server-side evaluation - loss: 0.015403183797995249, accuracy: 0.8425925925925926\n",
      "Best aggregated model saved with accuracy 0.8425925925925926\n",
      "Server-side evaluation - loss: 0.0143041606578562, accuracy: 0.8425925925925926\n",
      "Server-side evaluation - loss: 0.014788613689166528, accuracy: 0.8611111111111112\n",
      "Best aggregated model saved with accuracy 0.8611111111111112\n",
      "Server-side evaluation - loss: 0.013390337703404602, accuracy: 0.8611111111111112\n",
      "Server-side evaluation - loss: 0.013344675854400353, accuracy: 0.8703703703703703\n",
      "Best aggregated model saved with accuracy 0.8703703703703703\n",
      "Server-side evaluation - loss: 0.013780839672243153, accuracy: 0.8518518518518519\n",
      "Server-side evaluation - loss: 0.014771085922364835, accuracy: 0.8981481481481481\n",
      "Best aggregated model saved with accuracy 0.8981481481481481\n",
      "Server-side evaluation - loss: 0.013720115577733075, accuracy: 0.8888888888888888\n",
      "Server-side evaluation - loss: 0.015263384828964869, accuracy: 0.9166666666666666\n",
      "Best aggregated model saved with accuracy 0.9166666666666666\n",
      "\u001b[36m(ClientAppActor pid=9102)\u001b[0m [Client 1] fit, config: {}\u001b[32m [repeated 64x across cluster]\u001b[0m\n",
      "Server-side evaluation - loss: 0.01568570194972886, accuracy: 0.8981481481481481\n"
     ]
    },
    {
     "name": "stderr",
     "output_type": "stream",
     "text": [
      "\u001b[36m(ClientAppActor pid=9103)\u001b[0m \u001b[93mWARNING \u001b[0m:   Deprecation Warning: The `client_fn` function must return an instance of `Client`, but an instance of `NumpyClient` was returned. Please use `NumPyClient.to_client()` method to convert it to `Client`.\u001b[32m [repeated 125x across cluster]\u001b[0m\n"
     ]
    },
    {
     "name": "stdout",
     "output_type": "stream",
     "text": [
      "Server-side evaluation - loss: 0.017311820691382443, accuracy: 0.8611111111111112\n",
      "\u001b[36m(ClientAppActor pid=9103)\u001b[0m Epoch 5: val loss 0.0467, val accuracy 0.8500\u001b[32m [repeated 520x across cluster]\u001b[0m\n",
      "\u001b[36m(ClientAppActor pid=9101)\u001b[0m Early stopping due to reaching 100% accuracy\u001b[32m [repeated 25x across cluster]\u001b[0m\n",
      "\u001b[36m(ClientAppActor pid=9103)\u001b[0m Early stopping at epoch 7\u001b[32m [repeated 44x across cluster]\u001b[0m\n",
      "Server-side evaluation - loss: 0.017170691241820652, accuracy: 0.8703703703703703\n",
      "\u001b[36m(ClientAppActor pid=9101)\u001b[0m [Client 0] evaluate, config: {}\u001b[32m [repeated 74x across cluster]\u001b[0m\n",
      "Server-side evaluation - loss: 0.016879529726726038, accuracy: 0.8888888888888888\n",
      "Server-side evaluation - loss: 0.017532048402009188, accuracy: 0.8703703703703703\n",
      "Server-side evaluation - loss: 0.015990169373927294, accuracy: 0.9074074074074074\n",
      "Server-side evaluation - loss: 0.018142637555246, accuracy: 0.8888888888888888\n",
      "Server-side evaluation - loss: 0.018095908341584383, accuracy: 0.8796296296296297\n",
      "Server-side evaluation - loss: 0.022846216404879535, accuracy: 0.8611111111111112\n",
      "Server-side evaluation - loss: 0.02026677186842318, accuracy: 0.8796296296296297\n",
      "Server-side evaluation - loss: 0.019576011018620595, accuracy: 0.8796296296296297\n",
      "Server-side evaluation - loss: 0.019636336714029312, accuracy: 0.8703703703703703\n",
      "Server-side evaluation - loss: 0.01971986061996884, accuracy: 0.8981481481481481\n",
      "Server-side evaluation - loss: 0.01951861353936019, accuracy: 0.8888888888888888\n",
      "Server-side evaluation - loss: 0.02009783574828395, accuracy: 0.8888888888888888\n",
      "Server-side evaluation - loss: 0.01864304393529892, accuracy: 0.8888888888888888\n",
      "Server-side evaluation - loss: 0.021630611684587266, accuracy: 0.8611111111111112\n",
      "Server-side evaluation - loss: 0.020000305440690782, accuracy: 0.8796296296296297\n",
      "Server-side evaluation - loss: 0.017545937250057857, accuracy: 0.8981481481481481\n",
      "\u001b[36m(ClientAppActor pid=9101)\u001b[0m [Client 3] fit, config: {}\u001b[32m [repeated 90x across cluster]\u001b[0m\n"
     ]
    },
    {
     "name": "stderr",
     "output_type": "stream",
     "text": [
      "\u001b[36m(ClientAppActor pid=9103)\u001b[0m \u001b[93mWARNING \u001b[0m:   Deprecation Warning: The `client_fn` function must return an instance of `Client`, but an instance of `NumpyClient` was returned. Please use `NumPyClient.to_client()` method to convert it to `Client`.\u001b[32m [repeated 183x across cluster]\u001b[0m\n"
     ]
    },
    {
     "name": "stdout",
     "output_type": "stream",
     "text": [
      "Server-side evaluation - loss: 0.023172025465302996, accuracy: 0.8796296296296297\n",
      "Server-side evaluation - loss: 0.025004538396994274, accuracy: 0.8888888888888888\n",
      "\u001b[36m(ClientAppActor pid=9099)\u001b[0m Epoch 9: val loss 0.0618, val accuracy 0.8500\u001b[32m [repeated 437x across cluster]\u001b[0m\n",
      "\u001b[36m(ClientAppActor pid=9103)\u001b[0m Early stopping due to reaching 100% accuracy\u001b[32m [repeated 43x across cluster]\u001b[0m\n",
      "\u001b[36m(ClientAppActor pid=9102)\u001b[0m Early stopping at epoch 18\u001b[32m [repeated 50x across cluster]\u001b[0m\n",
      "Server-side evaluation - loss: 0.02442517766246089, accuracy: 0.8888888888888888\n",
      "\u001b[36m(ClientAppActor pid=9103)\u001b[0m [Client 2] evaluate, config: {}\u001b[32m [repeated 91x across cluster]\u001b[0m\n",
      "Server-side evaluation - loss: 0.025681558720491552, accuracy: 0.8796296296296297\n",
      "Server-side evaluation - loss: 0.023183068053589925, accuracy: 0.8888888888888888\n",
      "Server-side evaluation - loss: 0.023753686083687678, accuracy: 0.8796296296296297\n",
      "Server-side evaluation - loss: 0.02298630553263205, accuracy: 0.8703703703703703\n",
      "Server-side evaluation - loss: 0.026594195790864802, accuracy: 0.8888888888888888\n",
      "Server-side evaluation - loss: 0.025852279668604886, accuracy: 0.8796296296296297\n",
      "Server-side evaluation - loss: 0.02537939504340843, accuracy: 0.8796296296296297\n",
      "Server-side evaluation - loss: 0.025815925112477055, accuracy: 0.8611111111111112\n",
      "Server-side evaluation - loss: 0.029761165104530477, accuracy: 0.8888888888888888\n",
      "Server-side evaluation - loss: 0.02902699151524791, accuracy: 0.8888888888888888\n",
      "Server-side evaluation - loss: 0.027597322508140846, accuracy: 0.8703703703703703\n",
      "Server-side evaluation - loss: 0.03233942527461935, accuracy: 0.8796296296296297\n",
      "Server-side evaluation - loss: 0.02972250790507705, accuracy: 0.8611111111111112\n",
      "Server-side evaluation - loss: 0.02878550812602043, accuracy: 0.8796296296296297\n",
      "Server-side evaluation - loss: 0.028320655502654887, accuracy: 0.8703703703703703\n",
      "Server-side evaluation - loss: 0.030860551805407914, accuracy: 0.8703703703703703\n",
      "Aggregated model evaluation - loss: 0.015263384828964869, accuracy: 0.9166666666666666, precision: 0.921875, recall: 0.9365079365079365, f1: 0.9291338582677166\n",
      "Seed 8/30\n",
      "\u001b[36m(ClientAppActor pid=9101)\u001b[0m [Client 1] fit, config: {}\u001b[32m [repeated 95x across cluster]\u001b[0m\n",
      "\u001b[36m(ClientAppActor pid=9099)\u001b[0m Epoch 6: val loss 0.0274, val accuracy 0.9583\u001b[32m [repeated 377x across cluster]\u001b[0m\n",
      "\u001b[36m(ClientAppActor pid=9101)\u001b[0m Early stopping due to reaching 100% accuracy\u001b[32m [repeated 37x across cluster]\u001b[0m\n",
      "\u001b[36m(ClientAppActor pid=9099)\u001b[0m Early stopping at epoch 7\u001b[32m [repeated 48x across cluster]\u001b[0m\n",
      "\u001b[36m(ClientAppActor pid=9101)\u001b[0m [Client 1] evaluate, config: {}\u001b[32m [repeated 84x across cluster]\u001b[0m\n"
     ]
    },
    {
     "name": "stderr",
     "output_type": "stream",
     "text": [
      "\u001b[36m(ClientAppActor pid=9100)\u001b[0m \u001b[93mWARNING \u001b[0m:   Deprecation Warning: The `client_fn` function must return an instance of `Client`, but an instance of `NumpyClient` was returned. Please use `NumPyClient.to_client()` method to convert it to `Client`.\u001b[32m [repeated 191x across cluster]\u001b[0m\n",
      "2024-08-03 02:08:58,808\tINFO worker.py:1752 -- Started a local Ray instance.\n"
     ]
    },
    {
     "name": "stdout",
     "output_type": "stream",
     "text": [
      "Server-side evaluation - loss: 0.02572050028377109, accuracy: 0.5\n",
      "Best aggregated model saved with accuracy 0.5\n",
      "\u001b[36m(ClientAppActor pid=9138)\u001b[0m [Client 0] fit, config: {}\n"
     ]
    },
    {
     "name": "stderr",
     "output_type": "stream",
     "text": [
      "\u001b[36m(ClientAppActor pid=9137)\u001b[0m \u001b[93mWARNING \u001b[0m:   Deprecation Warning: The `client_fn` function must return an instance of `Client`, but an instance of `NumpyClient` was returned. Please use `NumPyClient.to_client()` method to convert it to `Client`.\n"
     ]
    },
    {
     "name": "stdout",
     "output_type": "stream",
     "text": [
      "\u001b[36m(ClientAppActor pid=9138)\u001b[0m Epoch 1: val loss 0.0215, val accuracy 0.9167\n",
      "\u001b[36m(ClientAppActor pid=9138)\u001b[0m Epoch 2: val loss 0.0282, val accuracy 0.9167\n",
      "\u001b[36m(ClientAppActor pid=9138)\u001b[0m Epoch 3: val loss 0.0351, val accuracy 0.9167\n",
      "\u001b[36m(ClientAppActor pid=9138)\u001b[0m Epoch 4: val loss 0.0396, val accuracy 0.9167\n",
      "\u001b[36m(ClientAppActor pid=9136)\u001b[0m Early stopping due to reaching 100% accuracy\n",
      "\u001b[36m(ClientAppActor pid=9137)\u001b[0m Early stopping at epoch 7\n",
      "Server-side evaluation - loss: 0.020228236637733602, accuracy: 0.6666666666666666\n",
      "Best aggregated model saved with accuracy 0.6666666666666666\n",
      "\u001b[36m(ClientAppActor pid=9138)\u001b[0m [Client 4] evaluate, config: {}\n",
      "Server-side evaluation - loss: 0.017215575884889672, accuracy: 0.75\n",
      "Best aggregated model saved with accuracy 0.75\n",
      "Server-side evaluation - loss: 0.016090156027564296, accuracy: 0.7592592592592593\n",
      "Best aggregated model saved with accuracy 0.7592592592592593\n",
      "Server-side evaluation - loss: 0.013729771116265544, accuracy: 0.8148148148148148\n",
      "Best aggregated model saved with accuracy 0.8148148148148148\n",
      "Server-side evaluation - loss: 0.013055795044810683, accuracy: 0.8148148148148148\n",
      "Server-side evaluation - loss: 0.012229964275051046, accuracy: 0.8611111111111112\n",
      "Best aggregated model saved with accuracy 0.8611111111111112\n",
      "Server-side evaluation - loss: 0.012208423956676765, accuracy: 0.8333333333333334\n",
      "Server-side evaluation - loss: 0.01085593040894579, accuracy: 0.8981481481481481\n",
      "Best aggregated model saved with accuracy 0.8981481481481481\n",
      "Server-side evaluation - loss: 0.010167092912726931, accuracy: 0.8981481481481481\n",
      "Server-side evaluation - loss: 0.009892368068297705, accuracy: 0.8981481481481481\n",
      "Server-side evaluation - loss: 0.008941828376717038, accuracy: 0.9074074074074074\n",
      "Best aggregated model saved with accuracy 0.9074074074074074\n",
      "Server-side evaluation - loss: 0.009764973350145199, accuracy: 0.9259259259259259\n",
      "Best aggregated model saved with accuracy 0.9259259259259259\n",
      "Server-side evaluation - loss: 0.008988593394557634, accuracy: 0.9166666666666666\n",
      "Server-side evaluation - loss: 0.008201680318624885, accuracy: 0.9166666666666666\n",
      "Server-side evaluation - loss: 0.009490713822068992, accuracy: 0.9259259259259259\n",
      "Server-side evaluation - loss: 0.008436654521911233, accuracy: 0.9074074074074074\n",
      "Server-side evaluation - loss: 0.008744842062393824, accuracy: 0.9074074074074074\n",
      "\u001b[36m(ClientAppActor pid=9138)\u001b[0m [Client 2] fit, config: {}\u001b[32m [repeated 85x across cluster]\u001b[0m\n"
     ]
    },
    {
     "name": "stderr",
     "output_type": "stream",
     "text": [
      "\u001b[36m(ClientAppActor pid=9137)\u001b[0m \u001b[93mWARNING \u001b[0m:   Deprecation Warning: The `client_fn` function must return an instance of `Client`, but an instance of `NumpyClient` was returned. Please use `NumPyClient.to_client()` method to convert it to `Client`.\u001b[32m [repeated 166x across cluster]\u001b[0m\n"
     ]
    },
    {
     "name": "stdout",
     "output_type": "stream",
     "text": [
      "Server-side evaluation - loss: 0.008443195062379042, accuracy: 0.9074074074074074\n",
      "Server-side evaluation - loss: 0.008798775987492667, accuracy: 0.9166666666666666\n",
      "\u001b[36m(ClientAppActor pid=9138)\u001b[0m Epoch 4: val loss 0.0133, val accuracy 0.8500\u001b[32m [repeated 591x across cluster]\u001b[0m\n",
      "\u001b[36m(ClientAppActor pid=9135)\u001b[0m Early stopping due to reaching 100% accuracy\u001b[32m [repeated 15x across cluster]\u001b[0m\n",
      "\u001b[36m(ClientAppActor pid=9134)\u001b[0m Early stopping at epoch 12\u001b[32m [repeated 78x across cluster]\u001b[0m\n",
      "Server-side evaluation - loss: 0.009408549819555547, accuracy: 0.9259259259259259\n",
      "\u001b[36m(ClientAppActor pid=9134)\u001b[0m [Client 0] evaluate, config: {}\u001b[32m [repeated 94x across cluster]\u001b[0m\n",
      "Server-side evaluation - loss: 0.009183752557469739, accuracy: 0.8981481481481481\n",
      "Server-side evaluation - loss: 0.008728257414919359, accuracy: 0.8981481481481481\n",
      "Server-side evaluation - loss: 0.00958446458120037, accuracy: 0.9074074074074074\n",
      "Server-side evaluation - loss: 0.009056839540048881, accuracy: 0.9166666666666666\n",
      "Server-side evaluation - loss: 0.009474929318659835, accuracy: 0.9074074074074074\n",
      "Server-side evaluation - loss: 0.009688849043514993, accuracy: 0.8981481481481481\n",
      "Server-side evaluation - loss: 0.010069549601111148, accuracy: 0.8888888888888888\n",
      "Server-side evaluation - loss: 0.0098882007619573, accuracy: 0.8888888888888888\n",
      "Server-side evaluation - loss: 0.010284753067901841, accuracy: 0.8981481481481481\n",
      "Server-side evaluation - loss: 0.009532241426684239, accuracy: 0.8888888888888888\n",
      "Server-side evaluation - loss: 0.010475736490830227, accuracy: 0.8796296296296297\n",
      "Server-side evaluation - loss: 0.010331958739293946, accuracy: 0.8981481481481481\n",
      "Server-side evaluation - loss: 0.009747124484015835, accuracy: 0.8888888888888888\n",
      "Server-side evaluation - loss: 0.011061367199376778, accuracy: 0.8981481481481481\n",
      "Server-side evaluation - loss: 0.01093896913031737, accuracy: 0.8888888888888888\n",
      "\u001b[36m(ClientAppActor pid=9138)\u001b[0m [Client 1] fit, config: {}\u001b[32m [repeated 90x across cluster]\u001b[0m\n"
     ]
    },
    {
     "name": "stderr",
     "output_type": "stream",
     "text": [
      "\u001b[36m(ClientAppActor pid=9137)\u001b[0m \u001b[93mWARNING \u001b[0m:   Deprecation Warning: The `client_fn` function must return an instance of `Client`, but an instance of `NumpyClient` was returned. Please use `NumPyClient.to_client()` method to convert it to `Client`.\u001b[32m [repeated 180x across cluster]\u001b[0m\n"
     ]
    },
    {
     "name": "stdout",
     "output_type": "stream",
     "text": [
      "Server-side evaluation - loss: 0.011524561965079219, accuracy: 0.8981481481481481\n",
      "Server-side evaluation - loss: 0.011126092290160832, accuracy: 0.9166666666666666\n",
      "\u001b[36m(ClientAppActor pid=9138)\u001b[0m Epoch 3: val loss 0.0589, val accuracy 0.9167\u001b[32m [repeated 528x across cluster]\u001b[0m\n",
      "\u001b[36m(ClientAppActor pid=9137)\u001b[0m Early stopping due to reaching 100% accuracy\u001b[32m [repeated 23x across cluster]\u001b[0m\n",
      "\u001b[36m(ClientAppActor pid=9134)\u001b[0m Early stopping at epoch 7\u001b[32m [repeated 67x across cluster]\u001b[0m\n",
      "Server-side evaluation - loss: 0.010430537647119275, accuracy: 0.8888888888888888\n",
      "\u001b[36m(ClientAppActor pid=9138)\u001b[0m [Client 0] evaluate, config: {}\u001b[32m [repeated 91x across cluster]\u001b[0m\n",
      "Server-side evaluation - loss: 0.010836118349322566, accuracy: 0.8796296296296297\n",
      "Server-side evaluation - loss: 0.011089371379326892, accuracy: 0.8888888888888888\n",
      "Server-side evaluation - loss: 0.011642770462290005, accuracy: 0.8888888888888888\n",
      "Server-side evaluation - loss: 0.011368992152037445, accuracy: 0.8888888888888888\n",
      "Server-side evaluation - loss: 0.011784423504852586, accuracy: 0.8888888888888888\n",
      "Server-side evaluation - loss: 0.011820346565434226, accuracy: 0.8888888888888888\n",
      "Server-side evaluation - loss: 0.01222127736373632, accuracy: 0.8981481481481481\n",
      "Server-side evaluation - loss: 0.012589811994176772, accuracy: 0.9074074074074074\n",
      "Server-side evaluation - loss: 0.011920033212475202, accuracy: 0.8981481481481481\n",
      "Server-side evaluation - loss: 0.013443320920621907, accuracy: 0.8888888888888888\n",
      "Server-side evaluation - loss: 0.012705339222318597, accuracy: 0.8981481481481481\n",
      "Server-side evaluation - loss: 0.012537907809019089, accuracy: 0.9166666666666666\n",
      "Aggregated model evaluation - loss: 0.009764973350145199, accuracy: 0.9259259259259259, precision: 0.9104477611940298, recall: 0.9682539682539683, f1: 0.9384615384615385\n",
      "Seed 9/30\n",
      "\u001b[36m(ClientAppActor pid=9134)\u001b[0m [Client 0] fit, config: {}\u001b[32m [repeated 74x across cluster]\u001b[0m\n",
      "\u001b[36m(ClientAppActor pid=9134)\u001b[0m Epoch 6: val loss 0.0837, val accuracy 0.8750\u001b[32m [repeated 378x across cluster]\u001b[0m\n",
      "\u001b[36m(ClientAppActor pid=9138)\u001b[0m Early stopping due to reaching 100% accuracy\u001b[32m [repeated 15x across cluster]\u001b[0m\n",
      "\u001b[36m(ClientAppActor pid=9134)\u001b[0m Early stopping at epoch 7\u001b[32m [repeated 50x across cluster]\u001b[0m\n",
      "\u001b[36m(ClientAppActor pid=9134)\u001b[0m [Client 2] evaluate, config: {}\u001b[32m [repeated 62x across cluster]\u001b[0m\n"
     ]
    },
    {
     "name": "stderr",
     "output_type": "stream",
     "text": [
      "\u001b[36m(ClientAppActor pid=9134)\u001b[0m \u001b[93mWARNING \u001b[0m:   Deprecation Warning: The `client_fn` function must return an instance of `Client`, but an instance of `NumpyClient` was returned. Please use `NumPyClient.to_client()` method to convert it to `Client`.\u001b[32m [repeated 151x across cluster]\u001b[0m\n",
      "2024-08-03 02:09:18,460\tINFO worker.py:1752 -- Started a local Ray instance.\n"
     ]
    },
    {
     "name": "stdout",
     "output_type": "stream",
     "text": [
      "Server-side evaluation - loss: 0.025397602054807875, accuracy: 0.5555555555555556\n",
      "Best aggregated model saved with accuracy 0.5555555555555556\n"
     ]
    },
    {
     "name": "stderr",
     "output_type": "stream",
     "text": [
      "\u001b[36m(ClientAppActor pid=9169)\u001b[0m \u001b[93mWARNING \u001b[0m:   Deprecation Warning: The `client_fn` function must return an instance of `Client`, but an instance of `NumpyClient` was returned. Please use `NumPyClient.to_client()` method to convert it to `Client`.\n"
     ]
    },
    {
     "name": "stdout",
     "output_type": "stream",
     "text": [
      "\u001b[36m(ClientAppActor pid=9173)\u001b[0m [Client 3] fit, config: {}\n",
      "\u001b[36m(ClientAppActor pid=9173)\u001b[0m Epoch 1: val loss 0.0179, val accuracy 0.8571\n",
      "\u001b[36m(ClientAppActor pid=9173)\u001b[0m Epoch 2: val loss 0.0136, val accuracy 0.8571\n",
      "\u001b[36m(ClientAppActor pid=9173)\u001b[0m Epoch 3: val loss 0.0142, val accuracy 0.8571\n",
      "\u001b[36m(ClientAppActor pid=9173)\u001b[0m Early stopping at epoch 8\n",
      "\u001b[36m(ClientAppActor pid=9170)\u001b[0m Early stopping due to reaching 100% accuracy\n",
      "Server-side evaluation - loss: 0.015425511532359652, accuracy: 0.8055555555555556\n",
      "Best aggregated model saved with accuracy 0.8055555555555556\n",
      "\u001b[36m(ClientAppActor pid=9173)\u001b[0m [Client 0] evaluate, config: {}\n",
      "Server-side evaluation - loss: 0.012232763347802338, accuracy: 0.8796296296296297\n",
      "Best aggregated model saved with accuracy 0.8796296296296297\n",
      "Server-side evaluation - loss: 0.011178456660774019, accuracy: 0.9074074074074074\n",
      "Best aggregated model saved with accuracy 0.9074074074074074\n",
      "Server-side evaluation - loss: 0.010597090616270347, accuracy: 0.8518518518518519\n",
      "Server-side evaluation - loss: 0.009021337523504539, accuracy: 0.9074074074074074\n",
      "Server-side evaluation - loss: 0.008458757290133723, accuracy: 0.9259259259259259\n",
      "Best aggregated model saved with accuracy 0.9259259259259259\n",
      "Server-side evaluation - loss: 0.00877621756107719, accuracy: 0.9074074074074074\n",
      "Server-side evaluation - loss: 0.008798111506082394, accuracy: 0.9259259259259259\n",
      "Server-side evaluation - loss: 0.008357974252215138, accuracy: 0.9074074074074074\n",
      "Server-side evaluation - loss: 0.00835775390819267, accuracy: 0.9074074074074074\n",
      "Server-side evaluation - loss: 0.008142987749090901, accuracy: 0.9166666666666666\n",
      "Server-side evaluation - loss: 0.0095168294178115, accuracy: 0.8981481481481481\n",
      "\u001b[36m(ClientAppActor pid=9170)\u001b[0m [Client 3] fit, config: {}\u001b[32m [repeated 59x across cluster]\u001b[0m\n"
     ]
    },
    {
     "name": "stderr",
     "output_type": "stream",
     "text": [
      "\u001b[36m(ClientAppActor pid=9171)\u001b[0m \u001b[93mWARNING \u001b[0m:   Deprecation Warning: The `client_fn` function must return an instance of `Client`, but an instance of `NumpyClient` was returned. Please use `NumPyClient.to_client()` method to convert it to `Client`.\u001b[32m [repeated 115x across cluster]\u001b[0m\n"
     ]
    },
    {
     "name": "stdout",
     "output_type": "stream",
     "text": [
      "Server-side evaluation - loss: 0.008385569133140423, accuracy: 0.9166666666666666\n",
      "\u001b[36m(ClientAppActor pid=9172)\u001b[0m Epoch 6: val loss 0.0176, val accuracy 0.8500\u001b[32m [repeated 517x across cluster]\u001b[0m\n",
      "\u001b[36m(ClientAppActor pid=9171)\u001b[0m Early stopping at epoch 13\u001b[32m [repeated 41x across cluster]\u001b[0m\n",
      "\u001b[36m(ClientAppActor pid=9169)\u001b[0m Early stopping due to reaching 100% accuracy\u001b[32m [repeated 26x across cluster]\u001b[0m\n",
      "Server-side evaluation - loss: 0.009132431889021839, accuracy: 0.9166666666666666\n",
      "\u001b[36m(ClientAppActor pid=9170)\u001b[0m [Client 1] evaluate, config: {}\u001b[32m [repeated 69x across cluster]\u001b[0m\n",
      "Server-side evaluation - loss: 0.008490352442970982, accuracy: 0.9166666666666666\n",
      "Server-side evaluation - loss: 0.008410798661686756, accuracy: 0.9074074074074074\n",
      "Server-side evaluation - loss: 0.009833231292389057, accuracy: 0.9074074074074074\n",
      "Server-side evaluation - loss: 0.00890598804862411, accuracy: 0.9166666666666666\n",
      "Server-side evaluation - loss: 0.008707956031516747, accuracy: 0.9259259259259259\n",
      "Server-side evaluation - loss: 0.0092835974086214, accuracy: 0.9074074074074074\n",
      "Server-side evaluation - loss: 0.009181127986974187, accuracy: 0.9259259259259259\n",
      "Server-side evaluation - loss: 0.010107136986873768, accuracy: 0.9074074074074074\n",
      "Server-side evaluation - loss: 0.00972522898680634, accuracy: 0.9074074074074074\n",
      "Server-side evaluation - loss: 0.009676099927337081, accuracy: 0.9074074074074074\n",
      "Server-side evaluation - loss: 0.008911980178069186, accuracy: 0.9259259259259259\n",
      "Server-side evaluation - loss: 0.009529573222001394, accuracy: 0.8981481481481481\n",
      "\u001b[36m(ClientAppActor pid=9173)\u001b[0m [Client 0] fit, config: {}\u001b[32m [repeated 71x across cluster]\u001b[0m\n"
     ]
    },
    {
     "name": "stderr",
     "output_type": "stream",
     "text": [
      "\u001b[36m(ClientAppActor pid=9169)\u001b[0m \u001b[93mWARNING \u001b[0m:   Deprecation Warning: The `client_fn` function must return an instance of `Client`, but an instance of `NumpyClient` was returned. Please use `NumPyClient.to_client()` method to convert it to `Client`.\u001b[32m [repeated 141x across cluster]\u001b[0m\n"
     ]
    },
    {
     "name": "stdout",
     "output_type": "stream",
     "text": [
      "Server-side evaluation - loss: 0.010155123692971689, accuracy: 0.9074074074074074\n",
      "\u001b[36m(ClientAppActor pid=9173)\u001b[0m Epoch 10: val loss 0.0207, val accuracy 0.9048\u001b[32m [repeated 479x across cluster]\u001b[0m\n",
      "Server-side evaluation - loss: 0.010094371382836942, accuracy: 0.9166666666666666\n",
      "\u001b[36m(ClientAppActor pid=9173)\u001b[0m Early stopping at epoch 16\u001b[32m [repeated 42x across cluster]\u001b[0m\n",
      "\u001b[36m(ClientAppActor pid=9170)\u001b[0m Early stopping due to reaching 100% accuracy\u001b[32m [repeated 28x across cluster]\u001b[0m\n",
      "\u001b[36m(ClientAppActor pid=9170)\u001b[0m [Client 2] evaluate, config: {}\u001b[32m [repeated 70x across cluster]\u001b[0m\n",
      "Server-side evaluation - loss: 0.009632912360959582, accuracy: 0.9259259259259259\n",
      "Server-side evaluation - loss: 0.009821505596240362, accuracy: 0.9166666666666666\n",
      "Server-side evaluation - loss: 0.009750038868299237, accuracy: 0.9259259259259259\n",
      "Server-side evaluation - loss: 0.010831830298735036, accuracy: 0.9074074074074074\n",
      "Server-side evaluation - loss: 0.009798055307732688, accuracy: 0.9166666666666666\n",
      "Server-side evaluation - loss: 0.009960412565204833, accuracy: 0.9166666666666666\n",
      "Server-side evaluation - loss: 0.010349712989948414, accuracy: 0.9259259259259259\n",
      "Server-side evaluation - loss: 0.011743902608200355, accuracy: 0.9259259259259259\n",
      "Server-side evaluation - loss: 0.011695373665403437, accuracy: 0.9166666666666666\n",
      "Server-side evaluation - loss: 0.011947585683729913, accuracy: 0.9259259259259259\n",
      "Server-side evaluation - loss: 0.010761492575208345, accuracy: 0.9166666666666666\n",
      "Server-side evaluation - loss: 0.012170804871453179, accuracy: 0.8981481481481481\n",
      "Server-side evaluation - loss: 0.012417396944430139, accuracy: 0.9259259259259259\n",
      "\u001b[36m(ClientAppActor pid=9173)\u001b[0m [Client 4] fit, config: {}\u001b[32m [repeated 75x across cluster]\u001b[0m\n"
     ]
    },
    {
     "name": "stderr",
     "output_type": "stream",
     "text": [
      "\u001b[36m(ClientAppActor pid=9169)\u001b[0m \u001b[93mWARNING \u001b[0m:   Deprecation Warning: The `client_fn` function must return an instance of `Client`, but an instance of `NumpyClient` was returned. Please use `NumPyClient.to_client()` method to convert it to `Client`.\u001b[32m [repeated 150x across cluster]\u001b[0m\n"
     ]
    },
    {
     "name": "stdout",
     "output_type": "stream",
     "text": [
      "Server-side evaluation - loss: 0.012755706561384377, accuracy: 0.9074074074074074\n",
      "Server-side evaluation - loss: 0.011547294272868722, accuracy: 0.9259259259259259\n",
      "\u001b[36m(ClientAppActor pid=9173)\u001b[0m Epoch 8: val loss 0.0192, val accuracy 0.9048\u001b[32m [repeated 446x across cluster]\u001b[0m\n",
      "\u001b[36m(ClientAppActor pid=9173)\u001b[0m Early stopping at epoch 9\u001b[32m [repeated 44x across cluster]\u001b[0m\n",
      "\u001b[36m(ClientAppActor pid=9173)\u001b[0m Early stopping due to reaching 100% accuracy\u001b[32m [repeated 31x across cluster]\u001b[0m\n",
      "Server-side evaluation - loss: 0.012846950303625178, accuracy: 0.9166666666666666\n",
      "\u001b[36m(ClientAppActor pid=9170)\u001b[0m [Client 2] evaluate, config: {}\u001b[32m [repeated 80x across cluster]\u001b[0m\n",
      "Server-side evaluation - loss: 0.011474607167420563, accuracy: 0.9166666666666666\n",
      "Server-side evaluation - loss: 0.012161009703521375, accuracy: 0.9166666666666666\n",
      "Server-side evaluation - loss: 0.012564413180505787, accuracy: 0.9166666666666666\n",
      "Server-side evaluation - loss: 0.01181611211763488, accuracy: 0.9074074074074074\n",
      "Server-side evaluation - loss: 0.014219542206437499, accuracy: 0.9074074074074074\n",
      "Server-side evaluation - loss: 0.011733642261889245, accuracy: 0.9166666666666666\n",
      "Aggregated model evaluation - loss: 0.008458757290133723, accuracy: 0.9259259259259259, precision: 0.9104477611940298, recall: 0.9682539682539683, f1: 0.9384615384615385\n",
      "Seed 10/30\n",
      "\u001b[36m(ClientAppActor pid=9170)\u001b[0m [Client 1] fit, config: {}\u001b[32m [repeated 44x across cluster]\u001b[0m\n",
      "\u001b[36m(ClientAppActor pid=9173)\u001b[0m Epoch 13: val loss 0.0219, val accuracy 0.9500\u001b[32m [repeated 202x across cluster]\u001b[0m\n",
      "\u001b[36m(ClientAppActor pid=9173)\u001b[0m Early stopping at epoch 14\u001b[32m [repeated 21x across cluster]\u001b[0m\n",
      "\u001b[36m(ClientAppActor pid=9170)\u001b[0m Early stopping due to reaching 100% accuracy\u001b[32m [repeated 13x across cluster]\u001b[0m\n",
      "\u001b[36m(ClientAppActor pid=9170)\u001b[0m [Client 3] evaluate, config: {}\u001b[32m [repeated 30x across cluster]\u001b[0m\n"
     ]
    },
    {
     "name": "stderr",
     "output_type": "stream",
     "text": [
      "\u001b[36m(ClientAppActor pid=9170)\u001b[0m \u001b[93mWARNING \u001b[0m:   Deprecation Warning: The `client_fn` function must return an instance of `Client`, but an instance of `NumpyClient` was returned. Please use `NumPyClient.to_client()` method to convert it to `Client`.\u001b[32m [repeated 93x across cluster]\u001b[0m\n",
      "2024-08-03 02:09:41,781\tINFO worker.py:1752 -- Started a local Ray instance.\n"
     ]
    },
    {
     "name": "stdout",
     "output_type": "stream",
     "text": [
      "Server-side evaluation - loss: 0.025800724272374755, accuracy: 0.4166666666666667\n",
      "Best aggregated model saved with accuracy 0.4166666666666667\n",
      "\u001b[36m(ClientAppActor pid=9207)\u001b[0m [Client 0] fit, config: {}\n"
     ]
    },
    {
     "name": "stderr",
     "output_type": "stream",
     "text": [
      "\u001b[36m(ClientAppActor pid=9208)\u001b[0m \u001b[93mWARNING \u001b[0m:   Deprecation Warning: The `client_fn` function must return an instance of `Client`, but an instance of `NumpyClient` was returned. Please use `NumPyClient.to_client()` method to convert it to `Client`.\n"
     ]
    },
    {
     "name": "stdout",
     "output_type": "stream",
     "text": [
      "\u001b[36m(ClientAppActor pid=9207)\u001b[0m Epoch 1: val loss 0.0074, val accuracy 0.9583\n",
      "\u001b[36m(ClientAppActor pid=9207)\u001b[0m Epoch 2: val loss 0.0039, val accuracy 0.9583\n",
      "\u001b[36m(ClientAppActor pid=9207)\u001b[0m Epoch 3: val loss 0.0053, val accuracy 1.0000\n",
      "\u001b[36m(ClientAppActor pid=9207)\u001b[0m Early stopping due to reaching 100% accuracy\n",
      "\u001b[36m(ClientAppActor pid=9208)\u001b[0m Early stopping at epoch 8\n",
      "Server-side evaluation - loss: 0.019458159252449318, accuracy: 0.7222222222222222\n",
      "Best aggregated model saved with accuracy 0.7222222222222222\n",
      "\u001b[36m(ClientAppActor pid=9207)\u001b[0m [Client 3] evaluate, config: {}\n",
      "Server-side evaluation - loss: 0.01976996163527171, accuracy: 0.7407407407407407\n",
      "Best aggregated model saved with accuracy 0.7407407407407407\n",
      "Server-side evaluation - loss: 0.019712157547473907, accuracy: 0.7685185185185185\n",
      "Best aggregated model saved with accuracy 0.7685185185185185\n",
      "Server-side evaluation - loss: 0.013399420513047112, accuracy: 0.8518518518518519\n",
      "Best aggregated model saved with accuracy 0.8518518518518519\n",
      "Server-side evaluation - loss: 0.01732371085219913, accuracy: 0.7962962962962963\n",
      "Server-side evaluation - loss: 0.018689991837298428, accuracy: 0.7962962962962963\n",
      "Server-side evaluation - loss: 0.017207012132362084, accuracy: 0.8055555555555556\n",
      "Server-side evaluation - loss: 0.01178429482711686, accuracy: 0.8425925925925926\n",
      "Server-side evaluation - loss: 0.014830712642934587, accuracy: 0.8333333333333334\n",
      "Server-side evaluation - loss: 0.018139267961184185, accuracy: 0.8055555555555556\n",
      "Server-side evaluation - loss: 0.011839480863677131, accuracy: 0.8333333333333334\n",
      "Server-side evaluation - loss: 0.013033191363016764, accuracy: 0.8333333333333334\n",
      "Server-side evaluation - loss: 0.0119212512616758, accuracy: 0.8518518518518519\n",
      "Server-side evaluation - loss: 0.011594395532652183, accuracy: 0.8518518518518519\n",
      "Server-side evaluation - loss: 0.01770571646866975, accuracy: 0.8055555555555556\n",
      "\u001b[36m(ClientAppActor pid=9207)\u001b[0m [Client 3] fit, config: {}\u001b[32m [repeated 75x across cluster]\u001b[0m\n"
     ]
    },
    {
     "name": "stderr",
     "output_type": "stream",
     "text": [
      "\u001b[36m(ClientAppActor pid=9208)\u001b[0m \u001b[93mWARNING \u001b[0m:   Deprecation Warning: The `client_fn` function must return an instance of `Client`, but an instance of `NumpyClient` was returned. Please use `NumPyClient.to_client()` method to convert it to `Client`.\u001b[32m [repeated 146x across cluster]\u001b[0m\n"
     ]
    },
    {
     "name": "stdout",
     "output_type": "stream",
     "text": [
      "Server-side evaluation - loss: 0.017927824485081213, accuracy: 0.7870370370370371\n",
      "Server-side evaluation - loss: 0.0181620548720713, accuracy: 0.7870370370370371\n",
      "\u001b[36m(ClientAppActor pid=9207)\u001b[0m Epoch 5: val loss 0.0633, val accuracy 0.7500\u001b[32m [repeated 496x across cluster]\u001b[0m\n",
      "\u001b[36m(ClientAppActor pid=9206)\u001b[0m Early stopping due to reaching 100% accuracy\u001b[32m [repeated 41x across cluster]\u001b[0m\n",
      "Server-side evaluation - loss: 0.02300285272024296, accuracy: 0.7962962962962963\n",
      "\u001b[36m(ClientAppActor pid=9207)\u001b[0m Early stopping at epoch 7\u001b[32m [repeated 43x across cluster]\u001b[0m\n",
      "\u001b[36m(ClientAppActor pid=9205)\u001b[0m [Client 0] evaluate, config: {}\u001b[32m [repeated 89x across cluster]\u001b[0m\n",
      "Server-side evaluation - loss: 0.01247245190596139, accuracy: 0.8518518518518519\n",
      "Server-side evaluation - loss: 0.018318409514096048, accuracy: 0.8425925925925926\n",
      "Server-side evaluation - loss: 0.013353555290787309, accuracy: 0.8518518518518519\n",
      "Server-side evaluation - loss: 0.013967678985661931, accuracy: 0.8333333333333334\n",
      "Server-side evaluation - loss: 0.012880014462603463, accuracy: 0.8611111111111112\n",
      "Best aggregated model saved with accuracy 0.8611111111111112\n",
      "Server-side evaluation - loss: 0.013161801215675142, accuracy: 0.8518518518518519\n",
      "Server-side evaluation - loss: 0.012884459009876958, accuracy: 0.8518518518518519\n",
      "Server-side evaluation - loss: 0.013018420449009648, accuracy: 0.8518518518518519\n",
      "Server-side evaluation - loss: 0.011827954332585688, accuracy: 0.8518518518518519\n",
      "Server-side evaluation - loss: 0.012144219682172493, accuracy: 0.8518518518518519\n",
      "Server-side evaluation - loss: 0.012970817516799326, accuracy: 0.8611111111111112\n",
      "Server-side evaluation - loss: 0.012279649299603922, accuracy: 0.8611111111111112\n",
      "Server-side evaluation - loss: 0.013665168304686193, accuracy: 0.8425925925925926\n",
      "Server-side evaluation - loss: 0.012916762692232927, accuracy: 0.8518518518518519\n",
      "Server-side evaluation - loss: 0.014056203817879712, accuracy: 0.8333333333333334\n",
      "\u001b[36m(ClientAppActor pid=9205)\u001b[0m [Client 1] fit, config: {}\u001b[32m [repeated 94x across cluster]\u001b[0m\n",
      "Server-side evaluation - loss: 0.01306645054784086, accuracy: 0.8518518518518519\n"
     ]
    },
    {
     "name": "stderr",
     "output_type": "stream",
     "text": [
      "\u001b[36m(ClientAppActor pid=9208)\u001b[0m \u001b[93mWARNING \u001b[0m:   Deprecation Warning: The `client_fn` function must return an instance of `Client`, but an instance of `NumpyClient` was returned. Please use `NumPyClient.to_client()` method to convert it to `Client`.\u001b[32m [repeated 189x across cluster]\u001b[0m\n"
     ]
    },
    {
     "name": "stdout",
     "output_type": "stream",
     "text": [
      "Server-side evaluation - loss: 0.012354458440785055, accuracy: 0.8888888888888888\n",
      "Best aggregated model saved with accuracy 0.8888888888888888\n",
      "\u001b[36m(ClientAppActor pid=9207)\u001b[0m Epoch 6: val loss 0.0109, val accuracy 0.9167\u001b[32m [repeated 458x across cluster]\u001b[0m\n",
      "\u001b[36m(ClientAppActor pid=9205)\u001b[0m Early stopping due to reaching 100% accuracy\u001b[32m [repeated 53x across cluster]\u001b[0m\n",
      "Server-side evaluation - loss: 0.015090087911597005, accuracy: 0.8518518518518519\n",
      "\u001b[36m(ClientAppActor pid=9208)\u001b[0m Early stopping at epoch 8\u001b[32m [repeated 41x across cluster]\u001b[0m\n",
      "\u001b[36m(ClientAppActor pid=9205)\u001b[0m [Client 3] evaluate, config: {}\u001b[32m [repeated 90x across cluster]\u001b[0m\n",
      "Server-side evaluation - loss: 0.014063797063297696, accuracy: 0.8425925925925926\n",
      "Server-side evaluation - loss: 0.01282655192470109, accuracy: 0.8703703703703703\n",
      "Server-side evaluation - loss: 0.012391931894752715, accuracy: 0.8518518518518519\n",
      "Server-side evaluation - loss: 0.012744824160580282, accuracy: 0.8611111111111112\n",
      "Server-side evaluation - loss: 0.013736475535013058, accuracy: 0.8703703703703703\n",
      "Server-side evaluation - loss: 0.013364525546354276, accuracy: 0.8518518518518519\n",
      "Server-side evaluation - loss: 0.013780081368706844, accuracy: 0.8333333333333334\n",
      "Server-side evaluation - loss: 0.014234930897752443, accuracy: 0.8425925925925926\n",
      "Server-side evaluation - loss: 0.014604451634955627, accuracy: 0.8425925925925926\n",
      "Server-side evaluation - loss: 0.01775064564275521, accuracy: 0.8333333333333334\n",
      "Server-side evaluation - loss: 0.01498364629568877, accuracy: 0.8425925925925926\n",
      "Server-side evaluation - loss: 0.017506335827487486, accuracy: 0.8240740740740741\n",
      "Server-side evaluation - loss: 0.016053303731260477, accuracy: 0.8425925925925926\n",
      "Server-side evaluation - loss: 0.015193481757133096, accuracy: 0.8611111111111112\n",
      "Aggregated model evaluation - loss: 0.012354458440785055, accuracy: 0.8888888888888888, precision: 0.8805970149253731, recall: 0.9365079365079365, f1: 0.9076923076923077\n",
      "Seed 11/30\n",
      "\u001b[36m(ClientAppActor pid=9205)\u001b[0m [Client 3] fit, config: {}\u001b[32m [repeated 80x across cluster]\u001b[0m\n",
      "\u001b[36m(ClientAppActor pid=9208)\u001b[0m Epoch 8: val loss 0.0016, val accuracy 1.0000\u001b[32m [repeated 360x across cluster]\u001b[0m\n",
      "\u001b[36m(ClientAppActor pid=9208)\u001b[0m Early stopping due to reaching 100% accuracy\u001b[32m [repeated 29x across cluster]\u001b[0m\n",
      "\u001b[36m(ClientAppActor pid=9206)\u001b[0m Early stopping at epoch 7\u001b[32m [repeated 40x across cluster]\u001b[0m\n",
      "\u001b[36m(ClientAppActor pid=9205)\u001b[0m [Client 0] evaluate, config: {}\u001b[32m [repeated 70x across cluster]\u001b[0m\n"
     ]
    },
    {
     "name": "stderr",
     "output_type": "stream",
     "text": [
      "\u001b[36m(ClientAppActor pid=9206)\u001b[0m \u001b[93mWARNING \u001b[0m:   Deprecation Warning: The `client_fn` function must return an instance of `Client`, but an instance of `NumpyClient` was returned. Please use `NumPyClient.to_client()` method to convert it to `Client`.\u001b[32m [repeated 164x across cluster]\u001b[0m\n",
      "2024-08-03 02:10:02,445\tINFO worker.py:1752 -- Started a local Ray instance.\n"
     ]
    },
    {
     "name": "stdout",
     "output_type": "stream",
     "text": [
      "Server-side evaluation - loss: 0.025624383378911902, accuracy: 0.5740740740740741\n",
      "Best aggregated model saved with accuracy 0.5740740740740741\n",
      "\u001b[36m(ClientAppActor pid=9244)\u001b[0m [Client 1] fit, config: {}\n"
     ]
    },
    {
     "name": "stderr",
     "output_type": "stream",
     "text": [
      "\u001b[36m(ClientAppActor pid=9241)\u001b[0m \u001b[93mWARNING \u001b[0m:   Deprecation Warning: The `client_fn` function must return an instance of `Client`, but an instance of `NumpyClient` was returned. Please use `NumPyClient.to_client()` method to convert it to `Client`.\n"
     ]
    },
    {
     "name": "stdout",
     "output_type": "stream",
     "text": [
      "\u001b[36m(ClientAppActor pid=9244)\u001b[0m Epoch 1: val loss 0.0332, val accuracy 0.7000\n",
      "\u001b[36m(ClientAppActor pid=9244)\u001b[0m Epoch 2: val loss 0.0446, val accuracy 0.7500\n",
      "\u001b[36m(ClientAppActor pid=9244)\u001b[0m Epoch 3: val loss 0.0510, val accuracy 0.7500\n",
      "\u001b[36m(ClientAppActor pid=9244)\u001b[0m Epoch 4: val loss 0.0539, val accuracy 0.7500\n",
      "\u001b[36m(ClientAppActor pid=9240)\u001b[0m Early stopping due to reaching 100% accuracy\n",
      "Server-side evaluation - loss: 0.022797762795730873, accuracy: 0.75\n",
      "Best aggregated model saved with accuracy 0.75\n",
      "\u001b[36m(ClientAppActor pid=9244)\u001b[0m Early stopping at epoch 7\n",
      "\u001b[36m(ClientAppActor pid=9241)\u001b[0m [Client 0] evaluate, config: {}\n",
      "Server-side evaluation - loss: 0.01950523891934642, accuracy: 0.75\n",
      "Server-side evaluation - loss: 0.021239968637625378, accuracy: 0.7592592592592593\n",
      "Best aggregated model saved with accuracy 0.7592592592592593\n",
      "Server-side evaluation - loss: 0.018354351873751038, accuracy: 0.7685185185185185\n",
      "Best aggregated model saved with accuracy 0.7685185185185185\n",
      "Server-side evaluation - loss: 0.019560469245469128, accuracy: 0.7777777777777778\n",
      "Best aggregated model saved with accuracy 0.7777777777777778\n",
      "Server-side evaluation - loss: 0.018482285793180817, accuracy: 0.7777777777777778\n",
      "Server-side evaluation - loss: 0.017803957892788783, accuracy: 0.8055555555555556\n",
      "Best aggregated model saved with accuracy 0.8055555555555556\n",
      "Server-side evaluation - loss: 0.019869906344899425, accuracy: 0.8055555555555556\n",
      "Server-side evaluation - loss: 0.01696383125252194, accuracy: 0.8148148148148148\n",
      "Best aggregated model saved with accuracy 0.8148148148148148\n",
      "Server-side evaluation - loss: 0.022966439387312642, accuracy: 0.8055555555555556\n",
      "Server-side evaluation - loss: 0.018318844614205538, accuracy: 0.8148148148148148\n",
      "Server-side evaluation - loss: 0.01693920032293708, accuracy: 0.8333333333333334\n",
      "Best aggregated model saved with accuracy 0.8333333333333334\n",
      "Server-side evaluation - loss: 0.021934900294851373, accuracy: 0.7962962962962963\n",
      "Server-side evaluation - loss: 0.01824128379424413, accuracy: 0.8333333333333334\n",
      "Server-side evaluation - loss: 0.02134054140360267, accuracy: 0.8240740740740741\n",
      "Server-side evaluation - loss: 0.01924308251451563, accuracy: 0.8333333333333334\n",
      "\u001b[36m(ClientAppActor pid=9243)\u001b[0m [Client 4] fit, config: {}\u001b[32m [repeated 84x across cluster]\u001b[0m\n",
      "Server-side evaluation - loss: 0.020044968635947617, accuracy: 0.8425925925925926\n",
      "Best aggregated model saved with accuracy 0.8425925925925926\n"
     ]
    },
    {
     "name": "stderr",
     "output_type": "stream",
     "text": [
      "\u001b[36m(ClientAppActor pid=9241)\u001b[0m \u001b[93mWARNING \u001b[0m:   Deprecation Warning: The `client_fn` function must return an instance of `Client`, but an instance of `NumpyClient` was returned. Please use `NumPyClient.to_client()` method to convert it to `Client`.\u001b[32m [repeated 165x across cluster]\u001b[0m\n"
     ]
    },
    {
     "name": "stdout",
     "output_type": "stream",
     "text": [
      "Server-side evaluation - loss: 0.023186810038707876, accuracy: 0.8333333333333334\n",
      "Server-side evaluation - loss: 0.019043394950804888, accuracy: 0.8425925925925926\n",
      "\u001b[36m(ClientAppActor pid=9243)\u001b[0m Epoch 7: val loss 0.0329, val accuracy 0.9000\u001b[32m [repeated 476x across cluster]\u001b[0m\n",
      "\u001b[36m(ClientAppActor pid=9242)\u001b[0m Early stopping due to reaching 100% accuracy\u001b[32m [repeated 39x across cluster]\u001b[0m\n",
      "\u001b[36m(ClientAppActor pid=9240)\u001b[0m Early stopping at epoch 9\u001b[32m [repeated 54x across cluster]\u001b[0m\n",
      "\u001b[36m(ClientAppActor pid=9243)\u001b[0m [Client 0] evaluate, config: {}\u001b[32m [repeated 94x across cluster]\u001b[0m\n",
      "Server-side evaluation - loss: 0.023105447146075743, accuracy: 0.8518518518518519\n",
      "Best aggregated model saved with accuracy 0.8518518518518519\n",
      "Server-side evaluation - loss: 0.019895986550384097, accuracy: 0.8333333333333334\n",
      "Server-side evaluation - loss: 0.02404583259313195, accuracy: 0.8518518518518519\n",
      "Server-side evaluation - loss: 0.021755838559733495, accuracy: 0.8611111111111112\n",
      "Best aggregated model saved with accuracy 0.8611111111111112\n",
      "Server-side evaluation - loss: 0.02287361412136643, accuracy: 0.8611111111111112\n",
      "Server-side evaluation - loss: 0.02240051301541152, accuracy: 0.8518518518518519\n",
      "Server-side evaluation - loss: 0.026141196282373533, accuracy: 0.8425925925925926\n",
      "Server-side evaluation - loss: 0.023838583242010186, accuracy: 0.8518518518518519\n",
      "Server-side evaluation - loss: 0.0261044102134528, accuracy: 0.8611111111111112\n",
      "Server-side evaluation - loss: 0.024465896396173373, accuracy: 0.8518518518518519\n",
      "Server-side evaluation - loss: 0.02930520978514795, accuracy: 0.8611111111111112\n",
      "Server-side evaluation - loss: 0.024838191215638763, accuracy: 0.8611111111111112\n",
      "Server-side evaluation - loss: 0.023654415375656553, accuracy: 0.8518518518518519\n",
      "Server-side evaluation - loss: 0.029649514635955845, accuracy: 0.8518518518518519\n",
      "Server-side evaluation - loss: 0.023141412616327958, accuracy: 0.8518518518518519\n",
      "\u001b[36m(ClientAppActor pid=9243)\u001b[0m [Client 2] fit, config: {}\u001b[32m [repeated 85x across cluster]\u001b[0m\n"
     ]
    },
    {
     "name": "stderr",
     "output_type": "stream",
     "text": [
      "\u001b[36m(ClientAppActor pid=9241)\u001b[0m \u001b[93mWARNING \u001b[0m:   Deprecation Warning: The `client_fn` function must return an instance of `Client`, but an instance of `NumpyClient` was returned. Please use `NumPyClient.to_client()` method to convert it to `Client`.\u001b[32m [repeated 174x across cluster]\u001b[0m\n"
     ]
    },
    {
     "name": "stdout",
     "output_type": "stream",
     "text": [
      "Server-side evaluation - loss: 0.027080504982559768, accuracy: 0.8425925925925926\n",
      "Server-side evaluation - loss: 0.028695421638312162, accuracy: 0.8518518518518519\n",
      "\u001b[36m(ClientAppActor pid=9244)\u001b[0m Epoch 1: val loss 0.0000, val accuracy 1.0000\u001b[32m [repeated 442x across cluster]\u001b[0m\n",
      "\u001b[36m(ClientAppActor pid=9244)\u001b[0m Early stopping due to reaching 100% accuracy\u001b[32m [repeated 45x across cluster]\u001b[0m\n",
      "\u001b[36m(ClientAppActor pid=9243)\u001b[0m Early stopping at epoch 7\u001b[32m [repeated 43x across cluster]\u001b[0m\n",
      "\u001b[36m(ClientAppActor pid=9243)\u001b[0m [Client 2] evaluate, config: {}\u001b[32m [repeated 85x across cluster]\u001b[0m\n",
      "Server-side evaluation - loss: 0.025353597477078438, accuracy: 0.8425925925925926\n",
      "Server-side evaluation - loss: 0.027503197046893614, accuracy: 0.8425925925925926\n",
      "Server-side evaluation - loss: 0.03051142477326923, accuracy: 0.8611111111111112\n",
      "Server-side evaluation - loss: 0.024660220162736043, accuracy: 0.8611111111111112\n",
      "Server-side evaluation - loss: 0.032325832449175695, accuracy: 0.8611111111111112\n",
      "Server-side evaluation - loss: 0.031394917241953035, accuracy: 0.8518518518518519\n",
      "Server-side evaluation - loss: 0.02542543825176027, accuracy: 0.8518518518518519\n",
      "Server-side evaluation - loss: 0.030011921017258254, accuracy: 0.8611111111111112\n",
      "Server-side evaluation - loss: 0.029770511926876173, accuracy: 0.8611111111111112\n",
      "Server-side evaluation - loss: 0.029248826585158153, accuracy: 0.8518518518518519\n",
      "Server-side evaluation - loss: 0.03274334525620496, accuracy: 0.8611111111111112\n",
      "Server-side evaluation - loss: 0.03386215279223742, accuracy: 0.8611111111111112\n",
      "Server-side evaluation - loss: 0.033807953957606246, accuracy: 0.8518518518518519\n",
      "Server-side evaluation - loss: 0.027260490589671664, accuracy: 0.8518518518518519\n",
      "Aggregated model evaluation - loss: 0.021755838559733495, accuracy: 0.8611111111111112, precision: 0.8333333333333334, recall: 0.9523809523809523, f1: 0.8888888888888888\n",
      "Seed 12/30\n",
      "\u001b[36m(ClientAppActor pid=9243)\u001b[0m [Client 0] fit, config: {}\u001b[32m [repeated 80x across cluster]\u001b[0m\n",
      "\u001b[36m(ClientAppActor pid=9242)\u001b[0m Epoch 15: val loss 0.0384, val accuracy 0.9048\u001b[32m [repeated 396x across cluster]\u001b[0m\n",
      "\u001b[36m(ClientAppActor pid=9243)\u001b[0m Early stopping due to reaching 100% accuracy\u001b[32m [repeated 31x across cluster]\u001b[0m\n",
      "\u001b[36m(ClientAppActor pid=9242)\u001b[0m Early stopping at epoch 16\u001b[32m [repeated 36x across cluster]\u001b[0m\n",
      "\u001b[36m(ClientAppActor pid=9243)\u001b[0m [Client 2] evaluate, config: {}\u001b[32m [repeated 70x across cluster]\u001b[0m\n"
     ]
    },
    {
     "name": "stderr",
     "output_type": "stream",
     "text": [
      "\u001b[36m(ClientAppActor pid=9240)\u001b[0m \u001b[93mWARNING \u001b[0m:   Deprecation Warning: The `client_fn` function must return an instance of `Client`, but an instance of `NumpyClient` was returned. Please use `NumPyClient.to_client()` method to convert it to `Client`.\u001b[32m [repeated 160x across cluster]\u001b[0m\n",
      "2024-08-03 02:10:22,934\tINFO worker.py:1752 -- Started a local Ray instance.\n"
     ]
    },
    {
     "name": "stdout",
     "output_type": "stream",
     "text": [
      "Server-side evaluation - loss: 0.025334184368451435, accuracy: 0.5833333333333334\n",
      "Best aggregated model saved with accuracy 0.5833333333333334\n"
     ]
    },
    {
     "name": "stderr",
     "output_type": "stream",
     "text": [
      "\u001b[36m(ClientAppActor pid=9284)\u001b[0m \u001b[93mWARNING \u001b[0m:   Deprecation Warning: The `client_fn` function must return an instance of `Client`, but an instance of `NumpyClient` was returned. Please use `NumPyClient.to_client()` method to convert it to `Client`.\n"
     ]
    },
    {
     "name": "stdout",
     "output_type": "stream",
     "text": [
      "\u001b[36m(ClientAppActor pid=9284)\u001b[0m [Client 2] fit, config: {}\n",
      "\u001b[36m(ClientAppActor pid=9284)\u001b[0m Epoch 1: val loss 0.0125, val accuracy 0.9130\n",
      "\u001b[36m(ClientAppActor pid=9284)\u001b[0m Early stopping due to reaching 100% accuracy\n",
      "\u001b[36m(ClientAppActor pid=9285)\u001b[0m Early stopping at epoch 7\n",
      "Server-side evaluation - loss: 0.0264978739950392, accuracy: 0.7222222222222222\n",
      "Best aggregated model saved with accuracy 0.7222222222222222\n",
      "\u001b[36m(ClientAppActor pid=9284)\u001b[0m [Client 0] evaluate, config: {}\n",
      "Server-side evaluation - loss: 0.018995982077386644, accuracy: 0.7685185185185185\n",
      "Best aggregated model saved with accuracy 0.7685185185185185\n",
      "Server-side evaluation - loss: 0.014893094008719479, accuracy: 0.8240740740740741\n",
      "Best aggregated model saved with accuracy 0.8240740740740741\n",
      "Server-side evaluation - loss: 0.02088087617799088, accuracy: 0.8055555555555556\n",
      "Server-side evaluation - loss: 0.014440383624147487, accuracy: 0.8240740740740741\n",
      "Server-side evaluation - loss: 0.013810398264063729, accuracy: 0.8333333333333334\n",
      "Best aggregated model saved with accuracy 0.8333333333333334\n",
      "Server-side evaluation - loss: 0.013165689866851878, accuracy: 0.8518518518518519\n",
      "Best aggregated model saved with accuracy 0.8518518518518519\n",
      "Server-side evaluation - loss: 0.017312960630213772, accuracy: 0.8240740740740741\n",
      "Server-side evaluation - loss: 0.01101633057826095, accuracy: 0.8518518518518519\n",
      "Server-side evaluation - loss: 0.012739859935310151, accuracy: 0.8240740740740741\n",
      "Server-side evaluation - loss: 0.011260511836519948, accuracy: 0.8703703703703703\n",
      "Best aggregated model saved with accuracy 0.8703703703703703\n",
      "Server-side evaluation - loss: 0.006916897854319325, accuracy: 0.9351851851851852\n",
      "Best aggregated model saved with accuracy 0.9351851851851852\n",
      "Server-side evaluation - loss: 0.006013447280835222, accuracy: 0.9444444444444444\n",
      "Best aggregated model saved with accuracy 0.9444444444444444\n",
      "Server-side evaluation - loss: 0.01017009556569435, accuracy: 0.8981481481481481\n",
      "Server-side evaluation - loss: 0.007077196509473854, accuracy: 0.9259259259259259\n",
      "\u001b[36m(ClientAppActor pid=9282)\u001b[0m [Client 4] fit, config: {}\u001b[32m [repeated 74x across cluster]\u001b[0m\n"
     ]
    },
    {
     "name": "stderr",
     "output_type": "stream",
     "text": [
      "\u001b[36m(ClientAppActor pid=9284)\u001b[0m \u001b[93mWARNING \u001b[0m:   Deprecation Warning: The `client_fn` function must return an instance of `Client`, but an instance of `NumpyClient` was returned. Please use `NumPyClient.to_client()` method to convert it to `Client`.\u001b[32m [repeated 145x across cluster]\u001b[0m\n"
     ]
    },
    {
     "name": "stdout",
     "output_type": "stream",
     "text": [
      "Server-side evaluation - loss: 0.010855962349860757, accuracy: 0.8981481481481481\n",
      "Server-side evaluation - loss: 0.0065143476585271184, accuracy: 0.9351851851851852\n",
      "\u001b[36m(ClientAppActor pid=9285)\u001b[0m \n",
      "Server-side evaluation - loss: 0.014194514567929285, accuracy: 0.8703703703703703\n",
      "\u001b[36m(ClientAppActor pid=9284)\u001b[0m Epoch 6: val loss 0.0501, val accuracy 0.8000\u001b[32m [repeated 503x across cluster]\u001b[0m\n",
      "\u001b[36m(ClientAppActor pid=9284)\u001b[0m Early stopping due to reaching 100% accuracy\u001b[32m [repeated 35x across cluster]\u001b[0m\n",
      "\u001b[36m(ClientAppActor pid=9285)\u001b[0m Early stopping at epoch 7\u001b[32m [repeated 50x across cluster]\u001b[0m\n",
      "Server-side evaluation - loss: 0.007942607867772932, accuracy: 0.9259259259259259\n",
      "\u001b[36m(ClientAppActor pid=9282)\u001b[0m [Client 2] evaluate, config: {}\u001b[32m [repeated 94x across cluster]\u001b[0m\n",
      "Server-side evaluation - loss: 0.007937167408979602, accuracy: 0.9259259259259259\n",
      "Server-side evaluation - loss: 0.010448933820481654, accuracy: 0.9074074074074074\n",
      "Server-side evaluation - loss: 0.007456815034082091, accuracy: 0.9259259259259259\n",
      "Server-side evaluation - loss: 0.009516152191079326, accuracy: 0.9259259259259259\n",
      "Server-side evaluation - loss: 0.009343292452050027, accuracy: 0.9259259259259259\n",
      "Server-side evaluation - loss: 0.00811255257576704, accuracy: 0.9259259259259259\n",
      "Server-side evaluation - loss: 0.008752845460548997, accuracy: 0.9259259259259259\n",
      "Server-side evaluation - loss: 0.009838322591450479, accuracy: 0.9166666666666666\n",
      "Server-side evaluation - loss: 0.009096234459085044, accuracy: 0.9259259259259259\n",
      "Server-side evaluation - loss: 0.009548192873976572, accuracy: 0.9259259259259259\n",
      "Server-side evaluation - loss: 0.012281867559067905, accuracy: 0.9259259259259259\n",
      "Server-side evaluation - loss: 0.009087553355601375, accuracy: 0.9259259259259259\n",
      "\u001b[36m(ClientAppActor pid=9282)\u001b[0m [Client 3] fit, config: {}\u001b[32m [repeated 85x across cluster]\u001b[0m\n",
      "Server-side evaluation - loss: 0.006593711070578407, accuracy: 0.9351851851851852\n"
     ]
    },
    {
     "name": "stderr",
     "output_type": "stream",
     "text": [
      "\u001b[36m(ClientAppActor pid=9284)\u001b[0m \u001b[93mWARNING \u001b[0m:   Deprecation Warning: The `client_fn` function must return an instance of `Client`, but an instance of `NumpyClient` was returned. Please use `NumPyClient.to_client()` method to convert it to `Client`.\u001b[32m [repeated 171x across cluster]\u001b[0m\n"
     ]
    },
    {
     "name": "stdout",
     "output_type": "stream",
     "text": [
      "Server-side evaluation - loss: 0.015704118081851414, accuracy: 0.8981481481481481\n",
      "Server-side evaluation - loss: 0.010347832897591783, accuracy: 0.9259259259259259\n",
      "\u001b[36m(ClientAppActor pid=9283)\u001b[0m Epoch 9: val loss 0.0068, val accuracy 0.9583\u001b[32m [repeated 386x across cluster]\u001b[0m\n",
      "\u001b[36m(ClientAppActor pid=9282)\u001b[0m Early stopping due to reaching 100% accuracy\u001b[32m [repeated 36x across cluster]\u001b[0m\n",
      "\u001b[36m(ClientAppActor pid=9284)\u001b[0m Early stopping at epoch 7\u001b[32m [repeated 43x across cluster]\u001b[0m\n",
      "Server-side evaluation - loss: 0.018115049172020344, accuracy: 0.8888888888888888\n",
      "\u001b[36m(ClientAppActor pid=9282)\u001b[0m [Client 1] evaluate, config: {}\u001b[32m [repeated 80x across cluster]\u001b[0m\n",
      "Server-side evaluation - loss: 0.011244130096639748, accuracy: 0.9259259259259259\n",
      "Server-side evaluation - loss: 0.009560205374361464, accuracy: 0.9259259259259259\n",
      "Server-side evaluation - loss: 0.012137972109485418, accuracy: 0.9166666666666666\n",
      "Server-side evaluation - loss: 0.008020463593614599, accuracy: 0.9259259259259259\n",
      "Server-side evaluation - loss: 0.00740381283685565, accuracy: 0.9351851851851852\n",
      "Server-side evaluation - loss: 0.012850355175841186, accuracy: 0.9166666666666666\n",
      "Server-side evaluation - loss: 0.011290561235337346, accuracy: 0.9259259259259259\n",
      "Server-side evaluation - loss: 0.013315196325830012, accuracy: 0.9166666666666666\n",
      "Server-side evaluation - loss: 0.012212619726563356, accuracy: 0.9259259259259259\n",
      "Server-side evaluation - loss: 0.011725721190924998, accuracy: 0.9259259259259259\n",
      "Server-side evaluation - loss: 0.006863585393013501, accuracy: 0.9259259259259259\n",
      "Server-side evaluation - loss: 0.009778354196222845, accuracy: 0.9259259259259259\n",
      "Server-side evaluation - loss: 0.008418160175939125, accuracy: 0.9259259259259259\n",
      "Server-side evaluation - loss: 0.007214144208571977, accuracy: 0.9444444444444444\n",
      "Server-side evaluation - loss: 0.012359944611994756, accuracy: 0.9166666666666666\n",
      "Aggregated model evaluation - loss: 0.006013447280835222, accuracy: 0.9444444444444444, precision: 0.9130434782608695, recall: 1.0, f1: 0.9545454545454546\n",
      "Seed 13/30\n",
      "\u001b[36m(ClientAppActor pid=9282)\u001b[0m [Client 2] fit, config: {}\u001b[32m [repeated 90x across cluster]\u001b[0m\n",
      "\u001b[36m(ClientAppActor pid=9285)\u001b[0m Epoch 8: val loss 0.0055, val accuracy 0.9583\u001b[32m [repeated 311x across cluster]\u001b[0m\n",
      "\u001b[36m(ClientAppActor pid=9282)\u001b[0m Early stopping due to reaching 100% accuracy\u001b[32m [repeated 42x across cluster]\u001b[0m\n",
      "\u001b[36m(ClientAppActor pid=9285)\u001b[0m Early stopping at epoch 9\u001b[32m [repeated 37x across cluster]\u001b[0m\n",
      "\u001b[36m(ClientAppActor pid=9282)\u001b[0m [Client 3] evaluate, config: {}\u001b[32m [repeated 75x across cluster]\u001b[0m\n"
     ]
    },
    {
     "name": "stderr",
     "output_type": "stream",
     "text": [
      "\u001b[36m(ClientAppActor pid=9282)\u001b[0m \u001b[93mWARNING \u001b[0m:   Deprecation Warning: The `client_fn` function must return an instance of `Client`, but an instance of `NumpyClient` was returned. Please use `NumPyClient.to_client()` method to convert it to `Client`.\u001b[32m [repeated 183x across cluster]\u001b[0m\n",
      "2024-08-03 02:10:43,182\tINFO worker.py:1752 -- Started a local Ray instance.\n"
     ]
    },
    {
     "name": "stdout",
     "output_type": "stream",
     "text": [
      "Server-side evaluation - loss: 0.025250530905193753, accuracy: 0.6759259259259259\n",
      "Best aggregated model saved with accuracy 0.6759259259259259\n"
     ]
    },
    {
     "name": "stderr",
     "output_type": "stream",
     "text": [
      "\u001b[36m(ClientAppActor pid=9319)\u001b[0m \u001b[93mWARNING \u001b[0m:   Deprecation Warning: The `client_fn` function must return an instance of `Client`, but an instance of `NumpyClient` was returned. Please use `NumPyClient.to_client()` method to convert it to `Client`.\n"
     ]
    },
    {
     "name": "stdout",
     "output_type": "stream",
     "text": [
      "\u001b[36m(ClientAppActor pid=9316)\u001b[0m [Client 2] fit, config: {}\n",
      "\u001b[36m(ClientAppActor pid=9316)\u001b[0m Epoch 1: val loss 0.0069, val accuracy 0.9565\n",
      "\u001b[36m(ClientAppActor pid=9316)\u001b[0m Epoch 2: val loss 0.0023, val accuracy 1.0000\n",
      "\u001b[36m(ClientAppActor pid=9316)\u001b[0m Early stopping due to reaching 100% accuracy\n",
      "Server-side evaluation - loss: 0.01972421920961804, accuracy: 0.7407407407407407\n",
      "Best aggregated model saved with accuracy 0.7407407407407407\n",
      "\u001b[36m(ClientAppActor pid=9319)\u001b[0m Early stopping at epoch 9\n",
      "\u001b[36m(ClientAppActor pid=9316)\u001b[0m [Client 1] evaluate, config: {}\n",
      "Server-side evaluation - loss: 0.017353929579257965, accuracy: 0.7962962962962963\n",
      "Best aggregated model saved with accuracy 0.7962962962962963\n",
      "Server-side evaluation - loss: 0.015993323315072944, accuracy: 0.8148148148148148\n",
      "Best aggregated model saved with accuracy 0.8148148148148148\n",
      "Server-side evaluation - loss: 0.01562503421748126, accuracy: 0.8518518518518519\n",
      "Best aggregated model saved with accuracy 0.8518518518518519\n",
      "Server-side evaluation - loss: 0.014960444497841376, accuracy: 0.8611111111111112\n",
      "Best aggregated model saved with accuracy 0.8611111111111112\n",
      "Server-side evaluation - loss: 0.014022589005805828, accuracy: 0.8981481481481481\n",
      "Best aggregated model saved with accuracy 0.8981481481481481\n",
      "Server-side evaluation - loss: 0.013403967436816957, accuracy: 0.8981481481481481\n",
      "Server-side evaluation - loss: 0.015467652016215853, accuracy: 0.8518518518518519\n",
      "Server-side evaluation - loss: 0.013298939361616417, accuracy: 0.8981481481481481\n",
      "Server-side evaluation - loss: 0.013930418011214998, accuracy: 0.8796296296296297\n",
      "Server-side evaluation - loss: 0.012721226102224103, accuracy: 0.9166666666666666\n",
      "Best aggregated model saved with accuracy 0.9166666666666666\n",
      "Server-side evaluation - loss: 0.013850662719320369, accuracy: 0.8796296296296297\n",
      "Server-side evaluation - loss: 0.015524406124044347, accuracy: 0.8888888888888888\n",
      "Server-side evaluation - loss: 0.012252543949418597, accuracy: 0.9166666666666666\n",
      "Server-side evaluation - loss: 0.012744184031530662, accuracy: 0.8796296296296297\n",
      "Server-side evaluation - loss: 0.012557538985102265, accuracy: 0.8981481481481481\n",
      "Server-side evaluation - loss: 0.013466356046221874, accuracy: 0.9074074074074074\n",
      "Server-side evaluation - loss: 0.014487903996336239, accuracy: 0.9074074074074074\n",
      "\u001b[36m(ClientAppActor pid=9316)\u001b[0m [Client 1] fit, config: {}\u001b[32m [repeated 90x across cluster]\u001b[0m\n"
     ]
    },
    {
     "name": "stderr",
     "output_type": "stream",
     "text": [
      "\u001b[36m(ClientAppActor pid=9319)\u001b[0m \u001b[93mWARNING \u001b[0m:   Deprecation Warning: The `client_fn` function must return an instance of `Client`, but an instance of `NumpyClient` was returned. Please use `NumPyClient.to_client()` method to convert it to `Client`.\u001b[32m [repeated 176x across cluster]\u001b[0m\n"
     ]
    },
    {
     "name": "stdout",
     "output_type": "stream",
     "text": [
      "Server-side evaluation - loss: 0.015157257396451853, accuracy: 0.9166666666666666\n",
      "Server-side evaluation - loss: 0.016329879303359322, accuracy: 0.9074074074074074\n",
      "\u001b[36m(ClientAppActor pid=9316)\u001b[0m Epoch 1: val loss 0.0041, val accuracy 1.0000\u001b[32m [repeated 477x across cluster]\u001b[0m\n",
      "\u001b[36m(ClientAppActor pid=9316)\u001b[0m Early stopping due to reaching 100% accuracy\u001b[32m [repeated 36x across cluster]\u001b[0m\n",
      "Server-side evaluation - loss: 0.01437455757210652, accuracy: 0.9259259259259259\n",
      "Best aggregated model saved with accuracy 0.9259259259259259\n",
      "\u001b[36m(ClientAppActor pid=9319)\u001b[0m Early stopping at epoch 9\u001b[32m [repeated 64x across cluster]\u001b[0m\n",
      "\u001b[36m(ClientAppActor pid=9316)\u001b[0m [Client 0] evaluate, config: {}\u001b[32m [repeated 100x across cluster]\u001b[0m\n",
      "Server-side evaluation - loss: 0.01238767526767872, accuracy: 0.9166666666666666\n",
      "Server-side evaluation - loss: 0.01206055276647762, accuracy: 0.9166666666666666\n",
      "Server-side evaluation - loss: 0.01267717902859052, accuracy: 0.9166666666666666\n",
      "Server-side evaluation - loss: 0.012635662392885596, accuracy: 0.9074074074074074\n",
      "Server-side evaluation - loss: 0.01291719582621698, accuracy: 0.9166666666666666\n",
      "Server-side evaluation - loss: 0.013028216651744313, accuracy: 0.9074074074074074\n",
      "Server-side evaluation - loss: 0.013297169641764075, accuracy: 0.9166666666666666\n",
      "Server-side evaluation - loss: 0.0142869983834249, accuracy: 0.8981481481481481\n",
      "Server-side evaluation - loss: 0.013556047101263647, accuracy: 0.8981481481481481\n",
      "Server-side evaluation - loss: 0.013474982783750252, accuracy: 0.9166666666666666\n",
      "\u001b[36m(ClientAppActor pid=9318)\u001b[0m \n",
      "Server-side evaluation - loss: 0.014581113743285338, accuracy: 0.9166666666666666\n",
      "Server-side evaluation - loss: 0.014126638778381877, accuracy: 0.9166666666666666\n",
      "Server-side evaluation - loss: 0.01349115861510789, accuracy: 0.9166666666666666\n",
      "Server-side evaluation - loss: 0.014024517533403856, accuracy: 0.9074074074074074\n",
      "Server-side evaluation - loss: 0.014861391374358424, accuracy: 0.8981481481481481\n",
      "Server-side evaluation - loss: 0.015359820798039436, accuracy: 0.8981481481481481\n",
      "Server-side evaluation - loss: 0.014654593059310207, accuracy: 0.8981481481481481\n",
      "Server-side evaluation - loss: 0.013588801440265443, accuracy: 0.8981481481481481\n",
      "\u001b[36m(ClientAppActor pid=9317)\u001b[0m [Client 1] fit, config: {}\u001b[32m [repeated 104x across cluster]\u001b[0m\n"
     ]
    },
    {
     "name": "stderr",
     "output_type": "stream",
     "text": [
      "\u001b[36m(ClientAppActor pid=9316)\u001b[0m \u001b[93mWARNING \u001b[0m:   Deprecation Warning: The `client_fn` function must return an instance of `Client`, but an instance of `NumpyClient` was returned. Please use `NumPyClient.to_client()` method to convert it to `Client`.\u001b[32m [repeated 209x across cluster]\u001b[0m\n"
     ]
    },
    {
     "name": "stdout",
     "output_type": "stream",
     "text": [
      "Server-side evaluation - loss: 0.013962509265790382, accuracy: 0.9166666666666666\n",
      "Server-side evaluation - loss: 0.014410422528507534, accuracy: 0.9259259259259259\n",
      "\u001b[36m(ClientAppActor pid=9316)\u001b[0m Epoch 1: val loss 0.0017, val accuracy 1.0000\u001b[32m [repeated 468x across cluster]\u001b[0m\n",
      "\u001b[36m(ClientAppActor pid=9316)\u001b[0m Early stopping due to reaching 100% accuracy\u001b[32m [repeated 44x across cluster]\u001b[0m\n",
      "Server-side evaluation - loss: 0.015677381720807817, accuracy: 0.9074074074074074\n",
      "\u001b[36m(ClientAppActor pid=9317)\u001b[0m Early stopping at epoch 7\u001b[32m [repeated 62x across cluster]\u001b[0m\n",
      "\u001b[36m(ClientAppActor pid=9317)\u001b[0m [Client 1] evaluate, config: {}\u001b[32m [repeated 109x across cluster]\u001b[0m\n",
      "Server-side evaluation - loss: 0.01526693116735529, accuracy: 0.9074074074074074\n",
      "Server-side evaluation - loss: 0.016258629452851083, accuracy: 0.8981481481481481\n",
      "Server-side evaluation - loss: 0.015541110981117797, accuracy: 0.8888888888888888\n",
      "Server-side evaluation - loss: 0.015687693772768532, accuracy: 0.9074074074074074\n",
      "Server-side evaluation - loss: 0.016138708563866438, accuracy: 0.8981481481481481\n",
      "Server-side evaluation - loss: 0.017830777706371412, accuracy: 0.9074074074074074\n",
      "Server-side evaluation - loss: 0.015860795457330015, accuracy: 0.9166666666666666\n",
      "Server-side evaluation - loss: 0.01567912127615677, accuracy: 0.8981481481481481\n",
      "Aggregated model evaluation - loss: 0.01437455757210652, accuracy: 0.9259259259259259, precision: 0.9230769230769231, recall: 0.9523809523809523, f1: 0.9375\n",
      "Seed 14/30\n",
      "\u001b[36m(ClientAppActor pid=9317)\u001b[0m [Client 4] fit, config: {}\u001b[32m [repeated 55x across cluster]\u001b[0m\n",
      "\u001b[36m(ClientAppActor pid=9317)\u001b[0m Epoch 8: val loss 0.1049, val accuracy 0.7500\u001b[32m [repeated 220x across cluster]\u001b[0m\n",
      "\u001b[36m(ClientAppActor pid=9318)\u001b[0m Early stopping due to reaching 100% accuracy\u001b[32m [repeated 17x across cluster]\u001b[0m\n",
      "\u001b[36m(ClientAppActor pid=9317)\u001b[0m Early stopping at epoch 9\u001b[32m [repeated 25x across cluster]\u001b[0m\n",
      "\u001b[36m(ClientAppActor pid=9317)\u001b[0m [Client 4] evaluate, config: {}\u001b[32m [repeated 35x across cluster]\u001b[0m\n"
     ]
    },
    {
     "name": "stderr",
     "output_type": "stream",
     "text": [
      "\u001b[36m(ClientAppActor pid=9318)\u001b[0m \u001b[93mWARNING \u001b[0m:   Deprecation Warning: The `client_fn` function must return an instance of `Client`, but an instance of `NumpyClient` was returned. Please use `NumPyClient.to_client()` method to convert it to `Client`.\u001b[32m [repeated 109x across cluster]\u001b[0m\n",
      "2024-08-03 02:11:01,353\tINFO worker.py:1752 -- Started a local Ray instance.\n"
     ]
    },
    {
     "name": "stdout",
     "output_type": "stream",
     "text": [
      "Server-side evaluation - loss: 0.02625542437588727, accuracy: 0.4537037037037037\n",
      "Best aggregated model saved with accuracy 0.4537037037037037\n",
      "\u001b[36m(ClientAppActor pid=9351)\u001b[0m [Client 0] fit, config: {}\n"
     ]
    },
    {
     "name": "stderr",
     "output_type": "stream",
     "text": [
      "\u001b[36m(ClientAppActor pid=9351)\u001b[0m \u001b[93mWARNING \u001b[0m:   Deprecation Warning: The `client_fn` function must return an instance of `Client`, but an instance of `NumpyClient` was returned. Please use `NumPyClient.to_client()` method to convert it to `Client`.\n"
     ]
    },
    {
     "name": "stdout",
     "output_type": "stream",
     "text": [
      "\u001b[36m(ClientAppActor pid=9351)\u001b[0m Epoch 1: val loss 0.0144, val accuracy 0.8333\n",
      "\u001b[36m(ClientAppActor pid=9351)\u001b[0m Epoch 2: val loss 0.0122, val accuracy 0.8333\n",
      "\u001b[36m(ClientAppActor pid=9351)\u001b[0m Epoch 3: val loss 0.0114, val accuracy 0.8750\n",
      "\u001b[36m(ClientAppActor pid=9352)\u001b[0m Early stopping due to reaching 100% accuracy\n",
      "\u001b[36m(ClientAppActor pid=9353)\u001b[0m Early stopping at epoch 7\n",
      "Server-side evaluation - loss: 0.015722815913182718, accuracy: 0.8518518518518519\n",
      "Best aggregated model saved with accuracy 0.8518518518518519\n",
      "\u001b[36m(ClientAppActor pid=9351)\u001b[0m [Client 0] evaluate, config: {}\n",
      "Server-side evaluation - loss: 0.012783385399315093, accuracy: 0.8425925925925926\n",
      "Server-side evaluation - loss: 0.009762666429634448, accuracy: 0.9074074074074074\n",
      "Best aggregated model saved with accuracy 0.9074074074074074\n",
      "Server-side evaluation - loss: 0.009632066582088117, accuracy: 0.8703703703703703\n",
      "Server-side evaluation - loss: 0.00811653901581411, accuracy: 0.8981481481481481\n",
      "Server-side evaluation - loss: 0.006982578723518936, accuracy: 0.9259259259259259\n",
      "Best aggregated model saved with accuracy 0.9259259259259259\n",
      "Server-side evaluation - loss: 0.008792250244705766, accuracy: 0.9166666666666666\n",
      "Server-side evaluation - loss: 0.006487618028013794, accuracy: 0.9444444444444444\n",
      "Best aggregated model saved with accuracy 0.9444444444444444\n",
      "Server-side evaluation - loss: 0.005755023961817777, accuracy: 0.9444444444444444\n",
      "Server-side evaluation - loss: 0.005299348522115637, accuracy: 0.9351851851851852\n",
      "Server-side evaluation - loss: 0.007126670882657722, accuracy: 0.9259259259259259\n",
      "Server-side evaluation - loss: 0.005625109843633793, accuracy: 0.9259259259259259\n",
      "Server-side evaluation - loss: 0.005418793539758082, accuracy: 0.9351851851851852\n",
      "\u001b[36m(ClientAppActor pid=9354)\u001b[0m [Client 0] fit, config: {}\u001b[32m [repeated 64x across cluster]\u001b[0m\n"
     ]
    },
    {
     "name": "stderr",
     "output_type": "stream",
     "text": [
      "\u001b[36m(ClientAppActor pid=9351)\u001b[0m \u001b[93mWARNING \u001b[0m:   Deprecation Warning: The `client_fn` function must return an instance of `Client`, but an instance of `NumpyClient` was returned. Please use `NumPyClient.to_client()` method to convert it to `Client`.\u001b[32m [repeated 125x across cluster]\u001b[0m\n"
     ]
    },
    {
     "name": "stdout",
     "output_type": "stream",
     "text": [
      "Server-side evaluation - loss: 0.0046158428821298815, accuracy: 0.9444444444444444\n",
      "\u001b[36m(ClientAppActor pid=9351)\u001b[0m Epoch 6: val loss 0.0243, val accuracy 0.9500\u001b[32m [repeated 478x across cluster]\u001b[0m\n",
      "\u001b[36m(ClientAppActor pid=9354)\u001b[0m Early stopping due to reaching 100% accuracy\u001b[32m [repeated 35x across cluster]\u001b[0m\n",
      "Server-side evaluation - loss: 0.00480888025076301, accuracy: 0.9444444444444444\n",
      "\u001b[36m(ClientAppActor pid=9351)\u001b[0m Early stopping at epoch 7\u001b[32m [repeated 31x across cluster]\u001b[0m\n",
      "Server-side evaluation - loss: 0.004746221281864025, accuracy: 0.9351851851851852\n",
      "\u001b[36m(ClientAppActor pid=9354)\u001b[0m [Client 2] evaluate, config: {}\u001b[32m [repeated 74x across cluster]\u001b[0m\n",
      "Server-side evaluation - loss: 0.004478106827095703, accuracy: 0.9537037037037037\n",
      "Best aggregated model saved with accuracy 0.9537037037037037\n",
      "Server-side evaluation - loss: 0.004327297245186788, accuracy: 0.9351851851851852\n",
      "Server-side evaluation - loss: 0.0047369057105647195, accuracy: 0.9444444444444444\n",
      "Server-side evaluation - loss: 0.0041657668641871875, accuracy: 0.9629629629629629\n",
      "Best aggregated model saved with accuracy 0.9629629629629629\n",
      "Server-side evaluation - loss: 0.004284901061543712, accuracy: 0.9444444444444444\n",
      "Server-side evaluation - loss: 0.0074431126316388445, accuracy: 0.9074074074074074\n",
      "Server-side evaluation - loss: 0.004577888693246577, accuracy: 0.9444444444444444\n",
      "Server-side evaluation - loss: 0.004693232476711273, accuracy: 0.9537037037037037\n",
      "Server-side evaluation - loss: 0.0048021953035559915, accuracy: 0.9537037037037037\n",
      "Server-side evaluation - loss: 0.005434177574460153, accuracy: 0.9351851851851852\n",
      "Server-side evaluation - loss: 0.004370057334502538, accuracy: 0.9537037037037037\n",
      "Server-side evaluation - loss: 0.004325251370944359, accuracy: 0.9537037037037037\n",
      "Server-side evaluation - loss: 0.004473909356251911, accuracy: 0.9444444444444444\n",
      "Server-side evaluation - loss: 0.00521529272750572, accuracy: 0.9444444444444444\n",
      "Server-side evaluation - loss: 0.005047442339774635, accuracy: 0.9537037037037037\n",
      "Server-side evaluation - loss: 0.005826906887469468, accuracy: 0.9166666666666666\n",
      "\u001b[36m(ClientAppActor pid=9354)\u001b[0m [Client 1] fit, config: {}\u001b[32m [repeated 95x across cluster]\u001b[0m\n"
     ]
    },
    {
     "name": "stderr",
     "output_type": "stream",
     "text": [
      "\u001b[36m(ClientAppActor pid=9351)\u001b[0m \u001b[93mWARNING \u001b[0m:   Deprecation Warning: The `client_fn` function must return an instance of `Client`, but an instance of `NumpyClient` was returned. Please use `NumPyClient.to_client()` method to convert it to `Client`.\u001b[32m [repeated 190x across cluster]\u001b[0m\n"
     ]
    },
    {
     "name": "stdout",
     "output_type": "stream",
     "text": [
      "Server-side evaluation - loss: 0.004403800255170575, accuracy: 0.9537037037037037\n",
      "Server-side evaluation - loss: 0.004426570643705351, accuracy: 0.9444444444444444\n",
      "\u001b[36m(ClientAppActor pid=9354)\u001b[0m Epoch 10: val loss 0.0567, val accuracy 0.9000\u001b[32m [repeated 430x across cluster]\u001b[0m\n",
      "\u001b[36m(ClientAppActor pid=9353)\u001b[0m Early stopping due to reaching 100% accuracy\u001b[32m [repeated 66x across cluster]\u001b[0m\n",
      "\u001b[36m(ClientAppActor pid=9354)\u001b[0m Early stopping at epoch 13\u001b[32m [repeated 29x across cluster]\u001b[0m\n",
      "Server-side evaluation - loss: 0.005413312947860471, accuracy: 0.9537037037037037\n",
      "\u001b[36m(ClientAppActor pid=9351)\u001b[0m [Client 2] evaluate, config: {}\u001b[32m [repeated 96x across cluster]\u001b[0m\n",
      "Server-side evaluation - loss: 0.004632417923184457, accuracy: 0.9537037037037037\n",
      "Server-side evaluation - loss: 0.004014859734861939, accuracy: 0.9722222222222222\n",
      "Best aggregated model saved with accuracy 0.9722222222222222\n",
      "Server-side evaluation - loss: 0.005315542014108764, accuracy: 0.9259259259259259\n",
      "Server-side evaluation - loss: 0.0037510908657202016, accuracy: 0.9629629629629629\n",
      "Server-side evaluation - loss: 0.005502465594973829, accuracy: 0.9537037037037037\n",
      "Server-side evaluation - loss: 0.00512285665091541, accuracy: 0.9537037037037037\n",
      "Server-side evaluation - loss: 0.004333446699160116, accuracy: 0.9629629629629629\n",
      "Server-side evaluation - loss: 0.004796856255443008, accuracy: 0.9444444444444444\n",
      "Server-side evaluation - loss: 0.004014745630599835, accuracy: 0.9537037037037037\n",
      "Server-side evaluation - loss: 0.00609857582970074, accuracy: 0.9537037037037037\n",
      "Server-side evaluation - loss: 0.003775138597659491, accuracy: 0.9722222222222222\n",
      "Server-side evaluation - loss: 0.004361475830794209, accuracy: 0.9722222222222222\n",
      "Server-side evaluation - loss: 0.014881166594999808, accuracy: 0.8796296296296297\n",
      "Server-side evaluation - loss: 0.004117333304343952, accuracy: 0.9537037037037037\n",
      "Server-side evaluation - loss: 0.0049803706092966925, accuracy: 0.9537037037037037\n",
      "Aggregated model evaluation - loss: 0.004014859734861939, accuracy: 0.9722222222222222, precision: 0.9545454545454546, recall: 1.0, f1: 0.9767441860465116\n",
      "Seed 15/30\n",
      "\u001b[36m(ClientAppActor pid=9354)\u001b[0m [Client 0] fit, config: {}\u001b[32m [repeated 90x across cluster]\u001b[0m\n",
      "\u001b[36m(ClientAppActor pid=9351)\u001b[0m Epoch 13: val loss 0.0668, val accuracy 0.9500\u001b[32m [repeated 342x across cluster]\u001b[0m\n",
      "\u001b[36m(ClientAppActor pid=9353)\u001b[0m Early stopping due to reaching 100% accuracy\u001b[32m [repeated 60x across cluster]\u001b[0m\n",
      "\u001b[36m(ClientAppActor pid=9351)\u001b[0m Early stopping at epoch 14\u001b[32m [repeated 20x across cluster]\u001b[0m\n",
      "\u001b[36m(ClientAppActor pid=9353)\u001b[0m [Client 2] evaluate, config: {}\u001b[32m [repeated 77x across cluster]\u001b[0m\n"
     ]
    },
    {
     "name": "stderr",
     "output_type": "stream",
     "text": [
      "\u001b[36m(ClientAppActor pid=9355)\u001b[0m \u001b[93mWARNING \u001b[0m:   Deprecation Warning: The `client_fn` function must return an instance of `Client`, but an instance of `NumpyClient` was returned. Please use `NumPyClient.to_client()` method to convert it to `Client`.\u001b[32m [repeated 182x across cluster]\u001b[0m\n",
      "2024-08-03 02:11:21,100\tINFO worker.py:1752 -- Started a local Ray instance.\n"
     ]
    },
    {
     "name": "stdout",
     "output_type": "stream",
     "text": [
      "Server-side evaluation - loss: 0.025708897798149673, accuracy: 0.5185185185185185\n",
      "Best aggregated model saved with accuracy 0.5185185185185185\n"
     ]
    },
    {
     "name": "stderr",
     "output_type": "stream",
     "text": [
      "\u001b[36m(ClientAppActor pid=9387)\u001b[0m \u001b[93mWARNING \u001b[0m:   Deprecation Warning: The `client_fn` function must return an instance of `Client`, but an instance of `NumpyClient` was returned. Please use `NumPyClient.to_client()` method to convert it to `Client`.\n"
     ]
    },
    {
     "name": "stdout",
     "output_type": "stream",
     "text": [
      "\u001b[36m(ClientAppActor pid=9386)\u001b[0m [Client 4] fit, config: {}\n",
      "\u001b[36m(ClientAppActor pid=9386)\u001b[0m Epoch 1: val loss 0.0361, val accuracy 0.7500\n",
      "\u001b[36m(ClientAppActor pid=9386)\u001b[0m Epoch 2: val loss 0.0365, val accuracy 0.7000\n",
      "\u001b[36m(ClientAppActor pid=9386)\u001b[0m Epoch 3: val loss 0.0345, val accuracy 0.7000\n",
      "\u001b[36m(ClientAppActor pid=9386)\u001b[0m Epoch 4: val loss 0.0332, val accuracy 0.8000\n",
      "\u001b[36m(ClientAppActor pid=9386)\u001b[0m Epoch 5: val loss 0.0308, val accuracy 0.8000\n",
      "\u001b[36m(ClientAppActor pid=9390)\u001b[0m Early stopping at epoch 7\n",
      "Server-side evaluation - loss: 0.023068983245778968, accuracy: 0.6851851851851852\n",
      "Best aggregated model saved with accuracy 0.6851851851851852\n",
      "\u001b[36m(ClientAppActor pid=9386)\u001b[0m [Client 1] evaluate, config: {}\n",
      "\u001b[36m(ClientAppActor pid=9389)\u001b[0m Early stopping due to reaching 100% accuracy\n",
      "Server-side evaluation - loss: 0.030998016397158306, accuracy: 0.7129629629629629\n",
      "Best aggregated model saved with accuracy 0.7129629629629629\n",
      "Server-side evaluation - loss: 0.02001473804314931, accuracy: 0.8055555555555556\n",
      "Best aggregated model saved with accuracy 0.8055555555555556\n",
      "Server-side evaluation - loss: 0.0181349515914917, accuracy: 0.8240740740740741\n",
      "Best aggregated model saved with accuracy 0.8240740740740741\n",
      "Server-side evaluation - loss: 0.022436318850075757, accuracy: 0.7962962962962963\n",
      "Server-side evaluation - loss: 0.02315066064949389, accuracy: 0.7962962962962963\n",
      "Server-side evaluation - loss: 0.019109742508994207, accuracy: 0.8518518518518519\n",
      "Best aggregated model saved with accuracy 0.8518518518518519\n",
      "Server-side evaluation - loss: 0.024794558822004882, accuracy: 0.7870370370370371\n",
      "Server-side evaluation - loss: 0.02375661802512628, accuracy: 0.7962962962962963\n",
      "Server-side evaluation - loss: 0.024765276108626968, accuracy: 0.7962962962962963\n",
      "Server-side evaluation - loss: 0.02115163345027853, accuracy: 0.7962962962962963\n",
      "\u001b[36m(ClientAppActor pid=9389)\u001b[0m [Client 3] fit, config: {}\u001b[32m [repeated 59x across cluster]\u001b[0m\n",
      "Server-side evaluation - loss: 0.021880907592950045, accuracy: 0.8148148148148148\n"
     ]
    },
    {
     "name": "stderr",
     "output_type": "stream",
     "text": [
      "\u001b[36m(ClientAppActor pid=9387)\u001b[0m \u001b[93mWARNING \u001b[0m:   Deprecation Warning: The `client_fn` function must return an instance of `Client`, but an instance of `NumpyClient` was returned. Please use `NumPyClient.to_client()` method to convert it to `Client`.\u001b[32m [repeated 116x across cluster]\u001b[0m\n"
     ]
    },
    {
     "name": "stdout",
     "output_type": "stream",
     "text": [
      "Server-side evaluation - loss: 0.019104630996783573, accuracy: 0.8055555555555556\n",
      "\u001b[36m(ClientAppActor pid=9386)\u001b[0m Epoch 2: val loss 0.0018, val accuracy 1.0000\u001b[32m [repeated 521x across cluster]\u001b[0m\n",
      "Server-side evaluation - loss: 0.022428933393072198, accuracy: 0.7870370370370371\n",
      "\u001b[36m(ClientAppActor pid=9389)\u001b[0m Early stopping at epoch 9\u001b[32m [repeated 46x across cluster]\u001b[0m\n",
      "Server-side evaluation - loss: 0.022754798608797568, accuracy: 0.7962962962962963\n",
      "\u001b[36m(ClientAppActor pid=9386)\u001b[0m [Client 2] evaluate, config: {}\u001b[32m [repeated 72x across cluster]\u001b[0m\n",
      "\u001b[36m(ClientAppActor pid=9386)\u001b[0m Early stopping due to reaching 100% accuracy\u001b[32m [repeated 21x across cluster]\u001b[0m\n",
      "Server-side evaluation - loss: 0.02184538957145479, accuracy: 0.8055555555555556\n",
      "Server-side evaluation - loss: 0.023418357526814496, accuracy: 0.7870370370370371\n",
      "Server-side evaluation - loss: 0.02267216642697652, accuracy: 0.8148148148148148\n",
      "Server-side evaluation - loss: 0.02347780736508193, accuracy: 0.8148148148148148\n",
      "Server-side evaluation - loss: 0.023259538191336172, accuracy: 0.8148148148148148\n",
      "Server-side evaluation - loss: 0.020874733726183575, accuracy: 0.7962962962962963\n",
      "Server-side evaluation - loss: 0.019149805660601014, accuracy: 0.8240740740740741\n",
      "Server-side evaluation - loss: 0.02401430214996691, accuracy: 0.7962962962962963\n",
      "Server-side evaluation - loss: 0.020141750160190795, accuracy: 0.8055555555555556\n",
      "Server-side evaluation - loss: 0.01850514044916188, accuracy: 0.8055555555555556\n",
      "Server-side evaluation - loss: 0.02622603376706441, accuracy: 0.7685185185185185\n",
      "Server-side evaluation - loss: 0.02214453810894931, accuracy: 0.8148148148148148\n",
      "Server-side evaluation - loss: 0.021071825866346008, accuracy: 0.7870370370370371\n",
      "Server-side evaluation - loss: 0.02469407629083704, accuracy: 0.7870370370370371\n",
      "Server-side evaluation - loss: 0.022320016390747495, accuracy: 0.7685185185185185\u001b[36m(ClientAppActor pid=9389)\u001b[0m [Client 4] fit, config: {}\u001b[32m [repeated 90x across cluster]\u001b[0m\n",
      "\n"
     ]
    },
    {
     "name": "stderr",
     "output_type": "stream",
     "text": [
      "\u001b[36m(ClientAppActor pid=9387)\u001b[0m \u001b[93mWARNING \u001b[0m:   Deprecation Warning: The `client_fn` function must return an instance of `Client`, but an instance of `NumpyClient` was returned. Please use `NumPyClient.to_client()` method to convert it to `Client`.\u001b[32m [repeated 180x across cluster]\u001b[0m\n"
     ]
    },
    {
     "name": "stdout",
     "output_type": "stream",
     "text": [
      "Server-side evaluation - loss: 0.025243520736694336, accuracy: 0.8425925925925926\n",
      "Server-side evaluation - loss: 0.022256315168407228, accuracy: 0.7870370370370371\n",
      "\u001b[36m(ClientAppActor pid=9389)\u001b[0m Epoch 6: val loss 0.0439, val accuracy 0.8500\u001b[32m [repeated 496x across cluster]\u001b[0m\n",
      "\u001b[36m(ClientAppActor pid=9387)\u001b[0m Early stopping at epoch 8\u001b[32m [repeated 55x across cluster]\u001b[0m\n",
      "Server-side evaluation - loss: 0.020496324808509263, accuracy: 0.8425925925925926\n",
      "\u001b[36m(ClientAppActor pid=9389)\u001b[0m [Client 3] evaluate, config: {}\u001b[32m [repeated 92x across cluster]\u001b[0m\n",
      "\u001b[36m(ClientAppActor pid=9389)\u001b[0m Early stopping due to reaching 100% accuracy\u001b[32m [repeated 35x across cluster]\u001b[0m\n",
      "Server-side evaluation - loss: 0.026838069712674176, accuracy: 0.7777777777777778\n",
      "Server-side evaluation - loss: 0.019866363869773015, accuracy: 0.8703703703703703\n",
      "Best aggregated model saved with accuracy 0.8703703703703703\n",
      "Server-side evaluation - loss: 0.02069044320119752, accuracy: 0.8148148148148148\n",
      "Server-side evaluation - loss: 0.02069092459148831, accuracy: 0.8518518518518519\n",
      "Server-side evaluation - loss: 0.023315877826125535, accuracy: 0.7962962962962963\n",
      "Server-side evaluation - loss: 0.019455692558376876, accuracy: 0.8703703703703703\n",
      "Server-side evaluation - loss: 0.02199413392830778, accuracy: 0.7870370370370371\n",
      "Server-side evaluation - loss: 0.01918098634039914, accuracy: 0.8611111111111112\n",
      "Server-side evaluation - loss: 0.022462191543093434, accuracy: 0.7962962962962963\n",
      "Server-side evaluation - loss: 0.018594234353966184, accuracy: 0.8518518518518519\n",
      "Server-side evaluation - loss: 0.02378952420420117, accuracy: 0.7962962962962963\n",
      "Server-side evaluation - loss: 0.019894489259631547, accuracy: 0.8333333333333334\n",
      "Server-side evaluation - loss: 0.023307916328862862, accuracy: 0.7962962962962963\n",
      "Server-side evaluation - loss: 0.021070343476754648, accuracy: 0.8518518518518519\n",
      "Server-side evaluation - loss: 0.024124473885253624, accuracy: 0.8240740740740741\n",
      "Server-side evaluation - loss: 0.02207898238190898, accuracy: 0.8240740740740741\n",
      "\u001b[36m(ClientAppActor pid=9386)\u001b[0m [Client 4] fit, config: {}\u001b[32m [repeated 96x across cluster]\u001b[0m\n",
      "Server-side evaluation - loss: 0.02352654106087155, accuracy: 0.8425925925925926\n",
      "Aggregated model evaluation - loss: 0.019866363869773015, accuracy: 0.8703703703703703, precision: 0.8356164383561644, recall: 0.9682539682539683, f1: 0.8970588235294118\n",
      "Seed 16/30\n",
      "\u001b[36m(ClientAppActor pid=9389)\u001b[0m Epoch 6: val loss 0.0750, val accuracy 0.8696\u001b[32m [repeated 469x across cluster]\u001b[0m\n",
      "\u001b[36m(ClientAppActor pid=9389)\u001b[0m Early stopping at epoch 7\u001b[32m [repeated 54x across cluster]\u001b[0m\n",
      "\u001b[36m(ClientAppActor pid=9388)\u001b[0m [Client 2] evaluate, config: {}\u001b[32m [repeated 83x across cluster]\u001b[0m\n",
      "\u001b[36m(ClientAppActor pid=9387)\u001b[0m Early stopping due to reaching 100% accuracy\u001b[32m [repeated 32x across cluster]\u001b[0m\n",
      "\u001b[36m(ClientAppActor pid=9389)\u001b[0m [Client 2] fit, config: {}\u001b[32m [repeated 4x across cluster]\u001b[0m\n"
     ]
    },
    {
     "name": "stderr",
     "output_type": "stream",
     "text": [
      "\u001b[36m(ClientAppActor pid=9386)\u001b[0m \u001b[93mWARNING \u001b[0m:   Deprecation Warning: The `client_fn` function must return an instance of `Client`, but an instance of `NumpyClient` was returned. Please use `NumPyClient.to_client()` method to convert it to `Client`.\u001b[32m [repeated 199x across cluster]\u001b[0m\n",
      "\u001b[36m(ClientAppActor pid=9388)\u001b[0m \u001b[93mWARNING \u001b[0m:   Deprecation Warning: The `client_fn` function must return an instance of `Client`, but an instance of `NumpyClient` was returned. Please use `NumPyClient.to_client()` method to convert it to `Client`.\u001b[32m [repeated 2x across cluster]\u001b[0m\n",
      "2024-08-03 02:11:41,837\tINFO worker.py:1752 -- Started a local Ray instance.\n"
     ]
    },
    {
     "name": "stdout",
     "output_type": "stream",
     "text": [
      "Server-side evaluation - loss: 0.02575543522834778, accuracy: 0.42592592592592593\n",
      "Best aggregated model saved with accuracy 0.42592592592592593\n"
     ]
    },
    {
     "name": "stderr",
     "output_type": "stream",
     "text": [
      "\u001b[36m(ClientAppActor pid=9421)\u001b[0m \u001b[93mWARNING \u001b[0m:   Deprecation Warning: The `client_fn` function must return an instance of `Client`, but an instance of `NumpyClient` was returned. Please use `NumPyClient.to_client()` method to convert it to `Client`.\n"
     ]
    },
    {
     "name": "stdout",
     "output_type": "stream",
     "text": [
      "\u001b[36m(ClientAppActor pid=9425)\u001b[0m [Client 3] fit, config: {}\n",
      "\u001b[36m(ClientAppActor pid=9425)\u001b[0m Epoch 1: val loss 0.0160, val accuracy 0.9048\n",
      "\u001b[36m(ClientAppActor pid=9425)\u001b[0m Epoch 2: val loss 0.0145, val accuracy 0.9048\n",
      "\u001b[36m(ClientAppActor pid=9423)\u001b[0m Early stopping due to reaching 100% accuracy\n",
      "\u001b[36m(ClientAppActor pid=9425)\u001b[0m Early stopping at epoch 8\n",
      "Server-side evaluation - loss: 0.019038029291011668, accuracy: 0.7037037037037037\n",
      "Best aggregated model saved with accuracy 0.7037037037037037\n",
      "\u001b[36m(ClientAppActor pid=9425)\u001b[0m [Client 0] evaluate, config: {}\n",
      "Server-side evaluation - loss: 0.01596795160461355, accuracy: 0.7870370370370371\n",
      "Best aggregated model saved with accuracy 0.7870370370370371\n",
      "Server-side evaluation - loss: 0.012871883533619068, accuracy: 0.8611111111111112\n",
      "Best aggregated model saved with accuracy 0.8611111111111112\n",
      "Server-side evaluation - loss: 0.013267114068622942, accuracy: 0.8518518518518519\n",
      "Server-side evaluation - loss: 0.012136846090908404, accuracy: 0.8703703703703703\n",
      "Best aggregated model saved with accuracy 0.8703703703703703\n",
      "Server-side evaluation - loss: 0.011596391460409871, accuracy: 0.8703703703703703\n",
      "Server-side evaluation - loss: 0.010269939071602292, accuracy: 0.9166666666666666\n",
      "Best aggregated model saved with accuracy 0.9166666666666666\n",
      "Server-side evaluation - loss: 0.012003835014722965, accuracy: 0.8981481481481481\n",
      "Server-side evaluation - loss: 0.011503581923467142, accuracy: 0.8796296296296297\n",
      "Server-side evaluation - loss: 0.009191996935341094, accuracy: 0.8888888888888888\n",
      "Server-side evaluation - loss: 0.011182597596888189, accuracy: 0.9074074074074074\n",
      "Server-side evaluation - loss: 0.011830032423690514, accuracy: 0.8888888888888888\n",
      "\u001b[36m(ClientAppActor pid=9423)\u001b[0m [Client 3] fit, config: {}\u001b[32m [repeated 64x across cluster]\u001b[0m\n",
      "Server-side evaluation - loss: 0.011496016479752682, accuracy: 0.8981481481481481\n"
     ]
    },
    {
     "name": "stderr",
     "output_type": "stream",
     "text": [
      "\u001b[36m(ClientAppActor pid=9421)\u001b[0m \u001b[93mWARNING \u001b[0m:   Deprecation Warning: The `client_fn` function must return an instance of `Client`, but an instance of `NumpyClient` was returned. Please use `NumPyClient.to_client()` method to convert it to `Client`.\u001b[32m [repeated 126x across cluster]\u001b[0m\n"
     ]
    },
    {
     "name": "stdout",
     "output_type": "stream",
     "text": [
      "Server-side evaluation - loss: 0.010331609182887606, accuracy: 0.8981481481481481\n",
      "\u001b[36m(ClientAppActor pid=9425)\u001b[0m Epoch 2: val loss 0.0009, val accuracy 1.0000\u001b[32m [repeated 481x across cluster]\u001b[0m\n",
      "\u001b[36m(ClientAppActor pid=9425)\u001b[0m Early stopping due to reaching 100% accuracy\u001b[32m [repeated 28x across cluster]\u001b[0m\n",
      "\u001b[36m(ClientAppActor pid=9421)\u001b[0m Early stopping at epoch 7\u001b[32m [repeated 40x across cluster]\u001b[0m\n",
      "Server-side evaluation - loss: 0.008905245750038713, accuracy: 0.9074074074074074\n",
      "\u001b[36m(ClientAppActor pid=9425)\u001b[0m [Client 0] evaluate, config: {}\u001b[32m [repeated 70x across cluster]\u001b[0m\n",
      "Server-side evaluation - loss: 0.011358557889858881, accuracy: 0.9074074074074074\n",
      "Server-side evaluation - loss: 0.010812597280299222, accuracy: 0.9074074074074074\n",
      "Server-side evaluation - loss: 0.009468627472718557, accuracy: 0.9166666666666666\n",
      "Server-side evaluation - loss: 0.007943420291498856, accuracy: 0.9166666666666666\n",
      "Server-side evaluation - loss: 0.011794553517743393, accuracy: 0.8888888888888888\n",
      "Server-side evaluation - loss: 0.009885483869799861, accuracy: 0.9074074074074074\n",
      "Server-side evaluation - loss: 0.011332763083003185, accuracy: 0.9074074074074074\n",
      "Server-side evaluation - loss: 0.011323594936618098, accuracy: 0.9074074074074074\n",
      "Server-side evaluation - loss: 0.00995740322051225, accuracy: 0.9166666666666666\n",
      "Server-side evaluation - loss: 0.010514639180015635, accuracy: 0.9074074074074074\n",
      "Server-side evaluation - loss: 0.009710049601616684, accuracy: 0.9074074074074074\n",
      "Server-side evaluation - loss: 0.010479076868957944, accuracy: 0.8981481481481481\n",
      "Server-side evaluation - loss: 0.009863861388078442, accuracy: 0.8981481481481481\n",
      "Server-side evaluation - loss: 0.01063063175038055, accuracy: 0.8981481481481481\n",
      "Server-side evaluation - loss: 0.013903262438597503, accuracy: 0.9166666666666666\n",
      "Server-side evaluation - loss: 0.012249303636727509, accuracy: 0.8796296296296297\n",
      "\u001b[36m(ClientAppActor pid=9423)\u001b[0m [Client 4] fit, config: {}\u001b[32m [repeated 90x across cluster]\u001b[0m\n"
     ]
    },
    {
     "name": "stderr",
     "output_type": "stream",
     "text": [
      "\u001b[36m(ClientAppActor pid=9421)\u001b[0m \u001b[93mWARNING \u001b[0m:   Deprecation Warning: The `client_fn` function must return an instance of `Client`, but an instance of `NumpyClient` was returned. Please use `NumPyClient.to_client()` method to convert it to `Client`.\u001b[32m [repeated 184x across cluster]\u001b[0m\n"
     ]
    },
    {
     "name": "stdout",
     "output_type": "stream",
     "text": [
      "Server-side evaluation - loss: 0.01058383658528328, accuracy: 0.8981481481481481\n",
      "Server-side evaluation - loss: 0.0100977030341272, accuracy: 0.9074074074074074\n",
      "\u001b[36m(ClientAppActor pid=9425)\u001b[0m Epoch 7: val loss 0.0086, val accuracy 0.9524\u001b[32m [repeated 474x across cluster]\u001b[0m\n",
      "\u001b[36m(ClientAppActor pid=9422)\u001b[0m Early stopping due to reaching 100% accuracy\u001b[32m [repeated 38x across cluster]\u001b[0m\n",
      "\u001b[36m(ClientAppActor pid=9423)\u001b[0m Early stopping at epoch 11\u001b[32m [repeated 55x across cluster]\u001b[0m\n",
      "Server-side evaluation - loss: 0.013419698785852504, accuracy: 0.9166666666666666\n",
      "\u001b[36m(ClientAppActor pid=9425)\u001b[0m [Client 0] evaluate, config: {}\u001b[32m [repeated 95x across cluster]\u001b[0m\n",
      "Server-side evaluation - loss: 0.010961811299677248, accuracy: 0.8888888888888888\n",
      "Server-side evaluation - loss: 0.012557966841591729, accuracy: 0.8796296296296297\n",
      "Server-side evaluation - loss: 0.012719045772596641, accuracy: 0.8981481481481481\n",
      "Server-side evaluation - loss: 0.01024010087604876, accuracy: 0.8981481481481481\n",
      "Server-side evaluation - loss: 0.013574550825136679, accuracy: 0.9166666666666666\n",
      "Server-side evaluation - loss: 0.012575762001452622, accuracy: 0.9074074074074074\n",
      "Server-side evaluation - loss: 0.01176209885765005, accuracy: 0.8981481481481481\n",
      "Server-side evaluation - loss: 0.010516247125687423, accuracy: 0.8981481481481481\n",
      "Server-side evaluation - loss: 0.015509991182221307, accuracy: 0.8981481481481481\n",
      "Server-side evaluation - loss: 0.011121292219117836, accuracy: 0.9166666666666666\n",
      "Server-side evaluation - loss: 0.012284003681054822, accuracy: 0.9166666666666666\n",
      "Server-side evaluation - loss: 0.013487541013293795, accuracy: 0.8796296296296297\n",
      "Server-side evaluation - loss: 0.011126729763216443, accuracy: 0.9166666666666666\n",
      "Server-side evaluation - loss: 0.011823809257260075, accuracy: 0.9074074074074074\n",
      "Server-side evaluation - loss: 0.012698059556660828, accuracy: 0.9166666666666666\n",
      "Server-side evaluation - loss: 0.011401741592972367, accuracy: 0.8981481481481481\n",
      "Aggregated model evaluation - loss: 0.010269939071602292, accuracy: 0.9166666666666666, precision: 0.95, recall: 0.9047619047619048, f1: 0.926829268292683\n",
      "Seed 17/30\n",
      "\u001b[36m(ClientAppActor pid=9423)\u001b[0m [Client 0] fit, config: {}\u001b[32m [repeated 95x across cluster]\u001b[0m\n",
      "\u001b[36m(ClientAppActor pid=9423)\u001b[0m Epoch 6: val loss 0.0268, val accuracy 0.9167\u001b[32m [repeated 400x across cluster]\u001b[0m\n",
      "\u001b[36m(ClientAppActor pid=9425)\u001b[0m Early stopping due to reaching 100% accuracy\u001b[32m [repeated 35x across cluster]\u001b[0m\n",
      "\u001b[36m(ClientAppActor pid=9423)\u001b[0m Early stopping at epoch 7\u001b[32m [repeated 50x across cluster]\u001b[0m\n",
      "\u001b[36m(ClientAppActor pid=9425)\u001b[0m [Client 4] evaluate, config: {}\u001b[32m [repeated 80x across cluster]\u001b[0m\n"
     ]
    },
    {
     "name": "stderr",
     "output_type": "stream",
     "text": [
      "\u001b[36m(ClientAppActor pid=9425)\u001b[0m \u001b[93mWARNING \u001b[0m:   Deprecation Warning: The `client_fn` function must return an instance of `Client`, but an instance of `NumpyClient` was returned. Please use `NumPyClient.to_client()` method to convert it to `Client`.\u001b[32m [repeated 186x across cluster]\u001b[0m\n",
      "2024-08-03 02:12:01,877\tINFO worker.py:1752 -- Started a local Ray instance.\n"
     ]
    },
    {
     "name": "stdout",
     "output_type": "stream",
     "text": [
      "Server-side evaluation - loss: 0.025272230859156006, accuracy: 0.6018518518518519\n",
      "Best aggregated model saved with accuracy 0.6018518518518519\n",
      "\u001b[36m(ClientAppActor pid=9459)\u001b[0m [Client 0] fit, config: {}\n"
     ]
    },
    {
     "name": "stderr",
     "output_type": "stream",
     "text": [
      "\u001b[36m(ClientAppActor pid=9460)\u001b[0m \u001b[93mWARNING \u001b[0m:   Deprecation Warning: The `client_fn` function must return an instance of `Client`, but an instance of `NumpyClient` was returned. Please use `NumPyClient.to_client()` method to convert it to `Client`.\n"
     ]
    },
    {
     "name": "stdout",
     "output_type": "stream",
     "text": [
      "\u001b[36m(ClientAppActor pid=9459)\u001b[0m Epoch 1: val loss 0.0184, val accuracy 0.8750\n",
      "\u001b[36m(ClientAppActor pid=9459)\u001b[0m Epoch 2: val loss 0.0239, val accuracy 0.8750\n",
      "\u001b[36m(ClientAppActor pid=9459)\u001b[0m Epoch 3: val loss 0.0310, val accuracy 0.8750\n",
      "\u001b[36m(ClientAppActor pid=9459)\u001b[0m Early stopping at epoch 7\n",
      "\u001b[36m(ClientAppActor pid=9462)\u001b[0m Early stopping due to reaching 100% accuracy\n",
      "Server-side evaluation - loss: 0.023004085929305466, accuracy: 0.7314814814814815\n",
      "Best aggregated model saved with accuracy 0.7314814814814815\n",
      "\u001b[36m(ClientAppActor pid=9459)\u001b[0m [Client 4] evaluate, config: {}\n",
      "Server-side evaluation - loss: 0.018670516709486645, accuracy: 0.8240740740740741\n",
      "Best aggregated model saved with accuracy 0.8240740740740741\n",
      "Server-side evaluation - loss: 0.017797470644668297, accuracy: 0.8240740740740741\n",
      "Server-side evaluation - loss: 0.017283282898090505, accuracy: 0.8240740740740741\n",
      "Server-side evaluation - loss: 0.019497889887403558, accuracy: 0.8240740740740741\n",
      "Server-side evaluation - loss: 0.016663279246400903, accuracy: 0.8240740740740741\n",
      "Server-side evaluation - loss: 0.018019385635852814, accuracy: 0.8518518518518519\n",
      "Best aggregated model saved with accuracy 0.8518518518518519\n",
      "Server-side evaluation - loss: 0.018409007401378068, accuracy: 0.8425925925925926\n",
      "Server-side evaluation - loss: 0.01870862477355533, accuracy: 0.8518518518518519\n",
      "Server-side evaluation - loss: 0.01835888817354485, accuracy: 0.8796296296296297\n",
      "Best aggregated model saved with accuracy 0.8796296296296297\n",
      "Server-side evaluation - loss: 0.01713396698512413, accuracy: 0.8796296296296297\n",
      "Server-side evaluation - loss: 0.017308932349637703, accuracy: 0.8796296296296297\n",
      "Server-side evaluation - loss: 0.01743769349047431, accuracy: 0.8888888888888888\n",
      "Best aggregated model saved with accuracy 0.8888888888888888\n",
      "\u001b[36m(ClientAppActor pid=9461)\u001b[0m [Client 3] fit, config: {}\u001b[32m [repeated 64x across cluster]\u001b[0m\n"
     ]
    },
    {
     "name": "stderr",
     "output_type": "stream",
     "text": [
      "\u001b[36m(ClientAppActor pid=9460)\u001b[0m \u001b[93mWARNING \u001b[0m:   Deprecation Warning: The `client_fn` function must return an instance of `Client`, but an instance of `NumpyClient` was returned. Please use `NumPyClient.to_client()` method to convert it to `Client`.\u001b[32m [repeated 125x across cluster]\u001b[0m\n"
     ]
    },
    {
     "name": "stdout",
     "output_type": "stream",
     "text": [
      "Server-side evaluation - loss: 0.018313525727501622, accuracy: 0.8888888888888888\n",
      "Server-side evaluation - loss: 0.020217455509636138, accuracy: 0.8611111111111112\n",
      "\u001b[36m(ClientAppActor pid=9458)\u001b[0m Epoch 7: val loss 0.0262, val accuracy 0.8500\u001b[32m [repeated 518x across cluster]\u001b[0m\n",
      "\u001b[36m(ClientAppActor pid=9458)\u001b[0m Early stopping at epoch 8\u001b[32m [repeated 43x across cluster]\u001b[0m\n",
      "\u001b[36m(ClientAppActor pid=9459)\u001b[0m Early stopping due to reaching 100% accuracy\u001b[32m [repeated 27x across cluster]\u001b[0m\n",
      "Server-side evaluation - loss: 0.01769781278239356, accuracy: 0.8611111111111112\n",
      "\u001b[36m(ClientAppActor pid=9461)\u001b[0m [Client 0] evaluate, config: {}\u001b[32m [repeated 79x across cluster]\u001b[0m\n",
      "Server-side evaluation - loss: 0.01820720221709322, accuracy: 0.8796296296296297\n",
      "Server-side evaluation - loss: 0.023448387091910397, accuracy: 0.8796296296296297\n",
      "Server-side evaluation - loss: 0.020014759498061956, accuracy: 0.8888888888888888\n",
      "Server-side evaluation - loss: 0.02316106573023178, accuracy: 0.8703703703703703\n",
      "Server-side evaluation - loss: 0.021406314094309455, accuracy: 0.8796296296296297\n",
      "Server-side evaluation - loss: 0.025230660758636617, accuracy: 0.8703703703703703\n",
      "Server-side evaluation - loss: 0.02212371256340433, accuracy: 0.8888888888888888\n",
      "Server-side evaluation - loss: 0.023656606122299476, accuracy: 0.8888888888888888\n",
      "Server-side evaluation - loss: 0.024861474348991004, accuracy: 0.8888888888888888\n",
      "Server-side evaluation - loss: 0.02226491120678407, accuracy: 0.8981481481481481\n",
      "Best aggregated model saved with accuracy 0.8981481481481481\n",
      "Server-side evaluation - loss: 0.023701744223082508, accuracy: 0.8888888888888888\n",
      "Server-side evaluation - loss: 0.02343535568151209, accuracy: 0.8888888888888888\n",
      "Server-side evaluation - loss: 0.027310380298230384, accuracy: 0.8703703703703703\n",
      "Server-side evaluation - loss: 0.023920671634927945, accuracy: 0.8981481481481481\n",
      "\u001b[36m(ClientAppActor pid=9461)\u001b[0m [Client 3] fit, config: {}\u001b[32m [repeated 90x across cluster]\u001b[0m\n",
      "Server-side evaluation - loss: 0.024713181166185275, accuracy: 0.8703703703703703\n"
     ]
    },
    {
     "name": "stderr",
     "output_type": "stream",
     "text": [
      "\u001b[36m(ClientAppActor pid=9460)\u001b[0m \u001b[93mWARNING \u001b[0m:   Deprecation Warning: The `client_fn` function must return an instance of `Client`, but an instance of `NumpyClient` was returned. Please use `NumPyClient.to_client()` method to convert it to `Client`.\u001b[32m [repeated 181x across cluster]\u001b[0m\n"
     ]
    },
    {
     "name": "stdout",
     "output_type": "stream",
     "text": [
      "Server-side evaluation - loss: 0.022254760066668194, accuracy: 0.8796296296296297\n",
      "\u001b[36m(ClientAppActor pid=9459)\u001b[0m Epoch 1: val loss 0.0016, val accuracy 1.0000\u001b[32m [repeated 433x across cluster]\u001b[0m\n",
      "\u001b[36m(ClientAppActor pid=9462)\u001b[0m Early stopping at epoch 7\u001b[32m [repeated 52x across cluster]\u001b[0m\n",
      "\u001b[36m(ClientAppActor pid=9460)\u001b[0m Early stopping due to reaching 100% accuracy\u001b[32m [repeated 34x across cluster]\u001b[0m\n",
      "Server-side evaluation - loss: 0.021058440346408774, accuracy: 0.8796296296296297\n",
      "\u001b[36m(ClientAppActor pid=9460)\u001b[0m [Client 2] evaluate, config: {}\u001b[32m [repeated 85x across cluster]\u001b[0m\n",
      "Server-side evaluation - loss: 0.021441550580439745, accuracy: 0.8796296296296297\n",
      "Server-side evaluation - loss: 0.027366450401367964, accuracy: 0.8796296296296297\n",
      "Server-side evaluation - loss: 0.026446821099078213, accuracy: 0.8888888888888888\n",
      "Server-side evaluation - loss: 0.02345697554173293, accuracy: 0.8888888888888888\n",
      "Server-side evaluation - loss: 0.027530944112826278, accuracy: 0.8981481481481481\n",
      "Server-side evaluation - loss: 0.027245673178522674, accuracy: 0.8981481481481481\n",
      "Server-side evaluation - loss: 0.028706270787451003, accuracy: 0.8796296296296297\n",
      "Server-side evaluation - loss: 0.028061043229643947, accuracy: 0.8796296296296297\n",
      "Server-side evaluation - loss: 0.034413031267899054, accuracy: 0.8703703703703703\n",
      "Server-side evaluation - loss: 0.029621398283375636, accuracy: 0.8888888888888888\n",
      "Server-side evaluation - loss: 0.027257264591753483, accuracy: 0.8981481481481481\n",
      "Server-side evaluation - loss: 0.02898477045474229, accuracy: 0.8888888888888888\n",
      "Server-side evaluation - loss: 0.03909207866699607, accuracy: 0.8703703703703703\n",
      "Server-side evaluation - loss: 0.03180705210952847, accuracy: 0.8796296296296297\n",
      "Server-side evaluation - loss: 0.0329026284593123, accuracy: 0.8888888888888888\n",
      "Server-side evaluation - loss: 0.03776712246515133, accuracy: 0.8796296296296297\n",
      "\u001b[36m(ClientAppActor pid=9461)\u001b[0m [Client 0] fit, config: {}\u001b[32m [repeated 90x across cluster]\u001b[0m\n"
     ]
    },
    {
     "name": "stderr",
     "output_type": "stream",
     "text": [
      "\u001b[36m(ClientAppActor pid=9460)\u001b[0m \u001b[93mWARNING \u001b[0m:   Deprecation Warning: The `client_fn` function must return an instance of `Client`, but an instance of `NumpyClient` was returned. Please use `NumPyClient.to_client()` method to convert it to `Client`.\u001b[32m [repeated 184x across cluster]\u001b[0m\n"
     ]
    },
    {
     "name": "stdout",
     "output_type": "stream",
     "text": [
      "Server-side evaluation - loss: 0.038897584468402246, accuracy: 0.8796296296296297\n",
      "Aggregated model evaluation - loss: 0.02226491120678407, accuracy: 0.8981481481481481, precision: 0.8714285714285714, recall: 0.9682539682539683, f1: 0.9172932330827067\n",
      "Seed 18/30\n",
      "\u001b[36m(ClientAppActor pid=9461)\u001b[0m Epoch 6: val loss 0.1404, val accuracy 0.9565\u001b[32m [repeated 435x across cluster]\u001b[0m\n",
      "\u001b[36m(ClientAppActor pid=9461)\u001b[0m Early stopping at epoch 7\u001b[32m [repeated 53x across cluster]\u001b[0m\n",
      "\u001b[36m(ClientAppActor pid=9458)\u001b[0m Early stopping due to reaching 100% accuracy\u001b[32m [repeated 34x across cluster]\u001b[0m\n",
      "\u001b[36m(ClientAppActor pid=9461)\u001b[0m [Client 4] evaluate, config: {}\u001b[32m [repeated 85x across cluster]\u001b[0m\n",
      "\u001b[36m(ClientAppActor pid=9461)\u001b[0m [Client 2] fit, config: {}\u001b[32m [repeated 5x across cluster]\u001b[0m\n"
     ]
    },
    {
     "name": "stderr",
     "output_type": "stream",
     "text": [
      "\u001b[36m(ClientAppActor pid=9461)\u001b[0m \u001b[93mWARNING \u001b[0m:   Deprecation Warning: The `client_fn` function must return an instance of `Client`, but an instance of `NumpyClient` was returned. Please use `NumPyClient.to_client()` method to convert it to `Client`.\u001b[32m [repeated 9x across cluster]\u001b[0m\n",
      "2024-08-03 02:12:22,723\tINFO worker.py:1752 -- Started a local Ray instance.\n"
     ]
    },
    {
     "name": "stdout",
     "output_type": "stream",
     "text": [
      "Server-side evaluation - loss: 0.025250288623350638, accuracy: 0.6851851851851852\n",
      "Best aggregated model saved with accuracy 0.6851851851851852\n",
      "\u001b[36m(ClientAppActor pid=9496)\u001b[0m [Client 3] fit, config: {}\n"
     ]
    },
    {
     "name": "stderr",
     "output_type": "stream",
     "text": [
      "\u001b[36m(ClientAppActor pid=9496)\u001b[0m \u001b[93mWARNING \u001b[0m:   Deprecation Warning: The `client_fn` function must return an instance of `Client`, but an instance of `NumpyClient` was returned. Please use `NumPyClient.to_client()` method to convert it to `Client`.\n"
     ]
    },
    {
     "name": "stdout",
     "output_type": "stream",
     "text": [
      "\u001b[36m(ClientAppActor pid=9496)\u001b[0m Epoch 1: val loss 0.0119, val accuracy 0.9524\n",
      "\u001b[36m(ClientAppActor pid=9496)\u001b[0m Epoch 2: val loss 0.0056, val accuracy 1.0000\n",
      "\u001b[36m(ClientAppActor pid=9496)\u001b[0m Early stopping due to reaching 100% accuracy\n",
      "\u001b[36m(ClientAppActor pid=9498)\u001b[0m Early stopping at epoch 7\n",
      "Server-side evaluation - loss: 0.017729946860560664, accuracy: 0.7685185185185185\n",
      "Best aggregated model saved with accuracy 0.7685185185185185\n",
      "\u001b[36m(ClientAppActor pid=9496)\u001b[0m [Client 3] evaluate, config: {}\n",
      "Server-side evaluation - loss: 0.014101916441210994, accuracy: 0.8148148148148148\n",
      "Best aggregated model saved with accuracy 0.8148148148148148\n",
      "Server-side evaluation - loss: 0.012258888118796878, accuracy: 0.8148148148148148\n",
      "Server-side evaluation - loss: 0.012102563899976236, accuracy: 0.8333333333333334\n",
      "Best aggregated model saved with accuracy 0.8333333333333334\n",
      "Server-side evaluation - loss: 0.01192456152704027, accuracy: 0.8333333333333334\n",
      "Server-side evaluation - loss: 0.00971252112476914, accuracy: 0.8518518518518519\n",
      "Best aggregated model saved with accuracy 0.8518518518518519\n",
      "Server-side evaluation - loss: 0.010829209384542925, accuracy: 0.8425925925925926\n",
      "Server-side evaluation - loss: 0.00991068090553637, accuracy: 0.8888888888888888\n",
      "Best aggregated model saved with accuracy 0.8888888888888888\n",
      "Server-side evaluation - loss: 0.01179017368014212, accuracy: 0.8518518518518519\n",
      "Server-side evaluation - loss: 0.007777756424965682, accuracy: 0.9259259259259259\n",
      "Best aggregated model saved with accuracy 0.9259259259259259\n",
      "Server-side evaluation - loss: 0.016252702860920516, accuracy: 0.8240740740740741\n",
      "Server-side evaluation - loss: 0.010145007184258214, accuracy: 0.9074074074074074\n",
      "Server-side evaluation - loss: 0.008247109061038052, accuracy: 0.8888888888888888\n",
      "Server-side evaluation - loss: 0.01467657075436027, accuracy: 0.8333333333333334\n",
      "\u001b[36m(ClientAppActor pid=9498)\u001b[0m [Client 0] fit, config: {}\u001b[32m [repeated 69x across cluster]\u001b[0m\n"
     ]
    },
    {
     "name": "stderr",
     "output_type": "stream",
     "text": [
      "\u001b[36m(ClientAppActor pid=9496)\u001b[0m \u001b[93mWARNING \u001b[0m:   Deprecation Warning: The `client_fn` function must return an instance of `Client`, but an instance of `NumpyClient` was returned. Please use `NumPyClient.to_client()` method to convert it to `Client`.\u001b[32m [repeated 135x across cluster]\u001b[0m\n"
     ]
    },
    {
     "name": "stdout",
     "output_type": "stream",
     "text": [
      "Server-side evaluation - loss: 0.008512093789047666, accuracy: 0.8981481481481481\n",
      "Server-side evaluation - loss: 0.0183524246569033, accuracy: 0.7870370370370371\n",
      "\u001b[36m(ClientAppActor pid=9496)\u001b[0m Epoch 6: val loss 0.0069, val accuracy 0.9167\u001b[32m [repeated 445x across cluster]\u001b[0m\n",
      "\u001b[36m(ClientAppActor pid=9498)\u001b[0m Early stopping due to reaching 100% accuracy\u001b[32m [repeated 39x across cluster]\u001b[0m\n",
      "Server-side evaluation - loss: 0.00768312508309329, accuracy: 0.8981481481481481\n",
      "\u001b[36m(ClientAppActor pid=9496)\u001b[0m Early stopping at epoch 8\u001b[32m [repeated 41x across cluster]\u001b[0m\n",
      "\u001b[36m(ClientAppActor pid=9498)\u001b[0m [Client 4] evaluate, config: {}\u001b[32m [repeated 84x across cluster]\u001b[0m\n",
      "Server-side evaluation - loss: 0.008396255473295847, accuracy: 0.9166666666666666\n",
      "Server-side evaluation - loss: 0.013135781166730103, accuracy: 0.8425925925925926\n",
      "Server-side evaluation - loss: 0.0099095583513931, accuracy: 0.8888888888888888\n",
      "Server-side evaluation - loss: 0.008077910514893356, accuracy: 0.9259259259259259\n",
      "Server-side evaluation - loss: 0.008292202182390072, accuracy: 0.9166666666666666\n",
      "Server-side evaluation - loss: 0.014493052433762286, accuracy: 0.8425925925925926\n",
      "Server-side evaluation - loss: 0.008125681637061967, accuracy: 0.9166666666666666\n",
      "Server-side evaluation - loss: 0.008309528921489362, accuracy: 0.9166666666666666\n",
      "Server-side evaluation - loss: 0.010741392598935851, accuracy: 0.8611111111111112\n",
      "Server-side evaluation - loss: 0.01003092009988096, accuracy: 0.8611111111111112\n",
      "Server-side evaluation - loss: 0.012139208200905059, accuracy: 0.8518518518518519\n",
      "Server-side evaluation - loss: 0.011656851680190474, accuracy: 0.8703703703703703\n",
      "Server-side evaluation - loss: 0.011280708980781061, accuracy: 0.8796296296296297\n",
      "Server-side evaluation - loss: 0.014534735983168637, accuracy: 0.8703703703703703\n",
      "Server-side evaluation - loss: 0.007193239957646087, accuracy: 0.9166666666666666\n",
      "Server-side evaluation - loss: 0.013502859579468215, accuracy: 0.8518518518518519\n",
      "Server-side evaluation - loss: 0.01472671952581516, accuracy: 0.8611111111111112\n",
      "\u001b[36m(ClientAppActor pid=9498)\u001b[0m [Client 4] fit, config: {}\u001b[32m [repeated 100x across cluster]\u001b[0m\n"
     ]
    },
    {
     "name": "stderr",
     "output_type": "stream",
     "text": [
      "\u001b[36m(ClientAppActor pid=9496)\u001b[0m \u001b[93mWARNING \u001b[0m:   Deprecation Warning: The `client_fn` function must return an instance of `Client`, but an instance of `NumpyClient` was returned. Please use `NumPyClient.to_client()` method to convert it to `Client`.\u001b[32m [repeated 200x across cluster]\u001b[0m\n"
     ]
    },
    {
     "name": "stdout",
     "output_type": "stream",
     "text": [
      "Server-side evaluation - loss: 0.007515663419056822, accuracy: 0.9259259259259259\n",
      "Server-side evaluation - loss: 0.02022013609745988, accuracy: 0.8240740740740741\n",
      "\u001b[36m(ClientAppActor pid=9496)\u001b[0m Epoch 1: val loss 0.0022, val accuracy 1.0000\u001b[32m [repeated 408x across cluster]\u001b[0m\n",
      "\u001b[36m(ClientAppActor pid=9496)\u001b[0m Early stopping due to reaching 100% accuracy\u001b[32m [repeated 48x across cluster]\u001b[0m\n",
      "Server-side evaluation - loss: 0.007537093703393583, accuracy: 0.9166666666666666\n",
      "\u001b[36m(ClientAppActor pid=9495)\u001b[0m Early stopping at epoch 8\u001b[32m [repeated 49x across cluster]\u001b[0m\n",
      "\u001b[36m(ClientAppActor pid=9496)\u001b[0m [Client 3] evaluate, config: {}\u001b[32m [repeated 96x across cluster]\u001b[0m\n",
      "Server-side evaluation - loss: 0.02296558393303443, accuracy: 0.8240740740740741\n",
      "Server-side evaluation - loss: 0.008888283951414956, accuracy: 0.9166666666666666\n",
      "Server-side evaluation - loss: 0.015961640445446526, accuracy: 0.8518518518518519\n",
      "Server-side evaluation - loss: 0.010877884855424916, accuracy: 0.8796296296296297\n",
      "Server-side evaluation - loss: 0.012116070560835026, accuracy: 0.8703703703703703\n",
      "Server-side evaluation - loss: 0.015372485866666667, accuracy: 0.8611111111111112\n",
      "Server-side evaluation - loss: 0.009338528331783082, accuracy: 0.8888888888888888\n",
      "Server-side evaluation - loss: 0.014057073535190688, accuracy: 0.8703703703703703\n",
      "Server-side evaluation - loss: 0.009886513705606814, accuracy: 0.8888888888888888\n",
      "Server-side evaluation - loss: 0.0121576732231511, accuracy: 0.8703703703703703\n",
      "Server-side evaluation - loss: 0.017781079082784278, accuracy: 0.8796296296296297\n",
      "Server-side evaluation - loss: 0.011929649307771965, accuracy: 0.8796296296296297\n",
      "Server-side evaluation - loss: 0.008225237881695782, accuracy: 0.8981481481481481\n",
      "Aggregated model evaluation - loss: 0.007777756424965682, accuracy: 0.9259259259259259, precision: 0.9104477611940298, recall: 0.9682539682539683, f1: 0.9384615384615385\n",
      "Seed 19/30\n",
      "\u001b[36m(ClientAppActor pid=9498)\u001b[0m [Client 3] fit, config: {}\u001b[32m [repeated 80x across cluster]\u001b[0m\n",
      "\u001b[36m(ClientAppActor pid=9495)\u001b[0m Epoch 7: val loss 0.0034, val accuracy 0.9583\u001b[32m [repeated 294x across cluster]\u001b[0m\n",
      "\u001b[36m(ClientAppActor pid=9498)\u001b[0m Early stopping due to reaching 100% accuracy\u001b[32m [repeated 34x across cluster]\u001b[0m\n",
      "\u001b[36m(ClientAppActor pid=9495)\u001b[0m Early stopping at epoch 8\u001b[32m [repeated 34x across cluster]\u001b[0m\n",
      "\u001b[36m(ClientAppActor pid=9495)\u001b[0m [Client 3] evaluate, config: {}\u001b[32m [repeated 65x across cluster]\u001b[0m\n"
     ]
    },
    {
     "name": "stderr",
     "output_type": "stream",
     "text": [
      "\u001b[36m(ClientAppActor pid=9495)\u001b[0m \u001b[93mWARNING \u001b[0m:   Deprecation Warning: The `client_fn` function must return an instance of `Client`, but an instance of `NumpyClient` was returned. Please use `NumPyClient.to_client()` method to convert it to `Client`.\u001b[32m [repeated 160x across cluster]\u001b[0m\n",
      "2024-08-03 02:12:42,423\tINFO worker.py:1752 -- Started a local Ray instance.\n"
     ]
    },
    {
     "name": "stdout",
     "output_type": "stream",
     "text": [
      "Server-side evaluation - loss: 0.025617454890851623, accuracy: 0.5555555555555556\n",
      "Best aggregated model saved with accuracy 0.5555555555555556\n",
      "\u001b[36m(ClientAppActor pid=9532)\u001b[0m [Client 4] fit, config: {}\n"
     ]
    },
    {
     "name": "stderr",
     "output_type": "stream",
     "text": [
      "\u001b[36m(ClientAppActor pid=9531)\u001b[0m \u001b[93mWARNING \u001b[0m:   Deprecation Warning: The `client_fn` function must return an instance of `Client`, but an instance of `NumpyClient` was returned. Please use `NumPyClient.to_client()` method to convert it to `Client`.\n"
     ]
    },
    {
     "name": "stdout",
     "output_type": "stream",
     "text": [
      "\u001b[36m(ClientAppActor pid=9532)\u001b[0m Epoch 1: val loss 0.0266, val accuracy 0.7000\n",
      "\u001b[36m(ClientAppActor pid=9532)\u001b[0m Epoch 2: val loss 0.0264, val accuracy 0.7000\n",
      "\u001b[36m(ClientAppActor pid=9530)\u001b[0m Early stopping due to reaching 100% accuracy\n",
      "\u001b[36m(ClientAppActor pid=9532)\u001b[0m Early stopping at epoch 10\n",
      "Server-side evaluation - loss: 0.018456632892290752, accuracy: 0.7407407407407407\n",
      "Best aggregated model saved with accuracy 0.7407407407407407\n",
      "\u001b[36m(ClientAppActor pid=9532)\u001b[0m [Client 1] evaluate, config: {}\n",
      "Server-side evaluation - loss: 0.013677055637041727, accuracy: 0.8240740740740741\n",
      "Best aggregated model saved with accuracy 0.8240740740740741\n",
      "Server-side evaluation - loss: 0.012209615773624845, accuracy: 0.8333333333333334\n",
      "Best aggregated model saved with accuracy 0.8333333333333334\n",
      "Server-side evaluation - loss: 0.011955658594767252, accuracy: 0.8148148148148148\n",
      "Server-side evaluation - loss: 0.01336995843384001, accuracy: 0.7870370370370371\n",
      "Server-side evaluation - loss: 0.012948489713448065, accuracy: 0.7962962962962963\n",
      "Server-side evaluation - loss: 0.013196276293860542, accuracy: 0.8148148148148148\n",
      "Server-side evaluation - loss: 0.012963535471094979, accuracy: 0.8148148148148148\n",
      "Server-side evaluation - loss: 0.013520322602104258, accuracy: 0.8055555555555556\n",
      "\u001b[36m(ClientAppActor pid=9533)\u001b[0m [Client 3] fit, config: {}\u001b[32m [repeated 49x across cluster]\u001b[0m\n",
      "Server-side evaluation - loss: 0.013031183983440752, accuracy: 0.8148148148148148\n"
     ]
    },
    {
     "name": "stderr",
     "output_type": "stream",
     "text": [
      "\u001b[36m(ClientAppActor pid=9531)\u001b[0m \u001b[93mWARNING \u001b[0m:   Deprecation Warning: The `client_fn` function must return an instance of `Client`, but an instance of `NumpyClient` was returned. Please use `NumPyClient.to_client()` method to convert it to `Client`.\u001b[32m [repeated 95x across cluster]\u001b[0m\n"
     ]
    },
    {
     "name": "stdout",
     "output_type": "stream",
     "text": [
      "Server-side evaluation - loss: 0.012854029183034544, accuracy: 0.8333333333333334\n",
      "\u001b[36m(ClientAppActor pid=9531)\u001b[0m Epoch 6: val loss 0.0101, val accuracy 0.9500\u001b[32m [repeated 460x across cluster]\u001b[0m\n",
      "\u001b[36m(ClientAppActor pid=9533)\u001b[0m Early stopping due to reaching 100% accuracy\u001b[32m [repeated 27x across cluster]\u001b[0m\n",
      "Server-side evaluation - loss: 0.01255568061713819, accuracy: 0.8425925925925926\n",
      "Best aggregated model saved with accuracy 0.8425925925925926\n",
      "\u001b[36m(ClientAppActor pid=9529)\u001b[0m Early stopping at epoch 13\u001b[32m [repeated 25x across cluster]\u001b[0m\n",
      "Server-side evaluation - loss: 0.013559557911422517, accuracy: 0.8055555555555556\n",
      "\u001b[36m(ClientAppActor pid=9532)\u001b[0m [Client 2] evaluate, config: {}\u001b[32m [repeated 60x across cluster]\u001b[0m\n",
      "Server-side evaluation - loss: 0.013872166060739093, accuracy: 0.8333333333333334\n",
      "Server-side evaluation - loss: 0.01311548137002521, accuracy: 0.8425925925925926\n",
      "Server-side evaluation - loss: 0.013556454123722183, accuracy: 0.8518518518518519\n",
      "Best aggregated model saved with accuracy 0.8518518518518519\n",
      "Server-side evaluation - loss: 0.014007482401750706, accuracy: 0.8425925925925926\n",
      "Server-side evaluation - loss: 0.014437624011878614, accuracy: 0.8611111111111112\n",
      "Best aggregated model saved with accuracy 0.8611111111111112\n",
      "Server-side evaluation - loss: 0.015173954958165134, accuracy: 0.8333333333333334\n",
      "Server-side evaluation - loss: 0.014980676687426038, accuracy: 0.8518518518518519\n",
      "Server-side evaluation - loss: 0.014336004439327452, accuracy: 0.8425925925925926\n",
      "Server-side evaluation - loss: 0.015304148059200358, accuracy: 0.8425925925925926\n",
      "\u001b[36m(ClientAppActor pid=9532)\u001b[0m [Client 3] fit, config: {}\u001b[32m [repeated 61x across cluster]\u001b[0m\n",
      "Server-side evaluation - loss: 0.017704248980239586, accuracy: 0.8055555555555556\n"
     ]
    },
    {
     "name": "stderr",
     "output_type": "stream",
     "text": [
      "\u001b[36m(ClientAppActor pid=9531)\u001b[0m \u001b[93mWARNING \u001b[0m:   Deprecation Warning: The `client_fn` function must return an instance of `Client`, but an instance of `NumpyClient` was returned. Please use `NumPyClient.to_client()` method to convert it to `Client`.\u001b[32m [repeated 130x across cluster]\u001b[0m\n"
     ]
    },
    {
     "name": "stdout",
     "output_type": "stream",
     "text": [
      "Server-side evaluation - loss: 0.01836767061441033, accuracy: 0.8333333333333334\n",
      "\u001b[36m(ClientAppActor pid=9530)\u001b[0m Epoch 10: val loss 0.0056, val accuracy 0.9167\u001b[32m [repeated 439x across cluster]\u001b[0m\n",
      "\u001b[36m(ClientAppActor pid=9533)\u001b[0m Early stopping due to reaching 100% accuracy\u001b[32m [repeated 29x across cluster]\u001b[0m\n",
      "\u001b[36m(ClientAppActor pid=9530)\u001b[0m Early stopping at epoch 13\u001b[32m [repeated 29x across cluster]\u001b[0m\n",
      "Server-side evaluation - loss: 0.017167639401223924, accuracy: 0.8425925925925926\n",
      "\u001b[36m(ClientAppActor pid=9533)\u001b[0m [Client 2] evaluate, config: {}\u001b[32m [repeated 64x across cluster]\u001b[0m\n",
      "Server-side evaluation - loss: 0.018182844751411013, accuracy: 0.8148148148148148\n",
      "Server-side evaluation - loss: 0.020563781951312667, accuracy: 0.8148148148148148\n",
      "Server-side evaluation - loss: 0.020337814534151996, accuracy: 0.8240740740740741\n",
      "Server-side evaluation - loss: 0.021361973964505725, accuracy: 0.7962962962962963\n",
      "Server-side evaluation - loss: 0.020979192659810738, accuracy: 0.8148148148148148\n",
      "Server-side evaluation - loss: 0.021876348941414443, accuracy: 0.8240740740740741\n",
      "Server-side evaluation - loss: 0.021320307834280863, accuracy: 0.8055555555555556\n",
      "Server-side evaluation - loss: 0.021159898627687385, accuracy: 0.8055555555555556\n",
      "Server-side evaluation - loss: 0.022976906073314173, accuracy: 0.8240740740740741\n",
      "Server-side evaluation - loss: 0.02218163482568882, accuracy: 0.8148148148148148\n",
      "Server-side evaluation - loss: 0.024161664838040317, accuracy: 0.8240740740740741\n",
      "\u001b[36m(ClientAppActor pid=9533)\u001b[0m [Client 4] fit, config: {}\u001b[32m [repeated 69x across cluster]\u001b[0m\n",
      "Server-side evaluation - loss: 0.024787481322332664, accuracy: 0.8240740740740741\n"
     ]
    },
    {
     "name": "stderr",
     "output_type": "stream",
     "text": [
      "\u001b[36m(ClientAppActor pid=9531)\u001b[0m \u001b[93mWARNING \u001b[0m:   Deprecation Warning: The `client_fn` function must return an instance of `Client`, but an instance of `NumpyClient` was returned. Please use `NumPyClient.to_client()` method to convert it to `Client`.\u001b[32m [repeated 141x across cluster]\u001b[0m\n"
     ]
    },
    {
     "name": "stdout",
     "output_type": "stream",
     "text": [
      "Server-side evaluation - loss: 0.02417769765964261, accuracy: 0.8425925925925926\n",
      "\u001b[36m(ClientAppActor pid=9532)\u001b[0m Epoch 5: val loss 0.0189, val accuracy 0.9500\u001b[32m [repeated 467x across cluster]\u001b[0m\n",
      "\u001b[36m(ClientAppActor pid=9530)\u001b[0m Early stopping due to reaching 100% accuracy\u001b[32m [repeated 48x across cluster]\u001b[0m\n",
      "Server-side evaluation - loss: 0.02714418550884282, accuracy: 0.8611111111111112\n",
      "\u001b[36m(ClientAppActor pid=9532)\u001b[0m Early stopping at epoch 7\u001b[32m [repeated 22x across cluster]\u001b[0m\n",
      "Server-side evaluation - loss: 0.02500422285110862, accuracy: 0.8425925925925926\n",
      "\u001b[36m(ClientAppActor pid=9533)\u001b[0m [Client 3] evaluate, config: {}\u001b[32m [repeated 75x across cluster]\u001b[0m\n",
      "Server-side evaluation - loss: 0.027662528609787976, accuracy: 0.8611111111111112\n",
      "Server-side evaluation - loss: 0.02711313342054685, accuracy: 0.8333333333333334\n",
      "Server-side evaluation - loss: 0.02916336045772941, accuracy: 0.8518518518518519\n",
      "Server-side evaluation - loss: 0.030431860436995823, accuracy: 0.8518518518518519\n",
      "Server-side evaluation - loss: 0.02553179998088766, accuracy: 0.8518518518518519\n",
      "Server-side evaluation - loss: 0.029105273799763784, accuracy: 0.8518518518518519\n",
      "Server-side evaluation - loss: 0.02939401042682153, accuracy: 0.8333333333333334\n",
      "Server-side evaluation - loss: 0.028262084694924177, accuracy: 0.8425925925925926\n",
      "Server-side evaluation - loss: 0.03569069711698426, accuracy: 0.8240740740740741\n",
      "Server-side evaluation - loss: 0.029523830308958336, accuracy: 0.8240740740740741\n",
      "Aggregated model evaluation - loss: 0.014437624011878614, accuracy: 0.8611111111111112, precision: 0.8529411764705882, recall: 0.9206349206349206, f1: 0.8854961832061069\n",
      "Seed 20/30\n",
      "\u001b[36m(ClientAppActor pid=9533)\u001b[0m [Client 4] fit, config: {}\u001b[32m [repeated 70x across cluster]\u001b[0m\n",
      "\u001b[36m(ClientAppActor pid=9529)\u001b[0m Epoch 8: val loss 0.0016, val accuracy 1.0000\u001b[32m [repeated 238x across cluster]\u001b[0m\n",
      "\u001b[36m(ClientAppActor pid=9529)\u001b[0m Early stopping due to reaching 100% accuracy\u001b[32m [repeated 50x across cluster]\u001b[0m\n",
      "\u001b[36m(ClientAppActor pid=9530)\u001b[0m Early stopping at epoch 7\u001b[32m [repeated 9x across cluster]\u001b[0m\n",
      "\u001b[36m(ClientAppActor pid=9533)\u001b[0m [Client 1] evaluate, config: {}\u001b[32m [repeated 50x across cluster]\u001b[0m\n"
     ]
    },
    {
     "name": "stderr",
     "output_type": "stream",
     "text": [
      "\u001b[36m(ClientAppActor pid=9533)\u001b[0m \u001b[93mWARNING \u001b[0m:   Deprecation Warning: The `client_fn` function must return an instance of `Client`, but an instance of `NumpyClient` was returned. Please use `NumPyClient.to_client()` method to convert it to `Client`.\u001b[32m [repeated 133x across cluster]\u001b[0m\n",
      "2024-08-03 02:13:07,363\tINFO worker.py:1752 -- Started a local Ray instance.\n"
     ]
    },
    {
     "name": "stdout",
     "output_type": "stream",
     "text": [
      "Server-side evaluation - loss: 0.025619554298895376, accuracy: 0.49074074074074076\n",
      "Best aggregated model saved with accuracy 0.49074074074074076\n"
     ]
    },
    {
     "name": "stderr",
     "output_type": "stream",
     "text": [
      "\u001b[36m(ClientAppActor pid=9565)\u001b[0m \u001b[93mWARNING \u001b[0m:   Deprecation Warning: The `client_fn` function must return an instance of `Client`, but an instance of `NumpyClient` was returned. Please use `NumPyClient.to_client()` method to convert it to `Client`.\n"
     ]
    },
    {
     "name": "stdout",
     "output_type": "stream",
     "text": [
      "\u001b[36m(ClientAppActor pid=9568)\u001b[0m [Client 0] fit, config: {}\n",
      "\u001b[36m(ClientAppActor pid=9568)\u001b[0m Epoch 1: val loss 0.0134, val accuracy 0.9583\n",
      "\u001b[36m(ClientAppActor pid=9568)\u001b[0m Epoch 2: val loss 0.0081, val accuracy 0.9583\n",
      "\u001b[36m(ClientAppActor pid=9567)\u001b[0m Early stopping due to reaching 100% accuracy\n",
      "\u001b[36m(ClientAppActor pid=9564)\u001b[0m Early stopping at epoch 11\n",
      "Server-side evaluation - loss: 0.01938355106998373, accuracy: 0.7592592592592593\n",
      "Best aggregated model saved with accuracy 0.7592592592592593\n",
      "\u001b[36m(ClientAppActor pid=9568)\u001b[0m [Client 4] evaluate, config: {}\n",
      "Server-side evaluation - loss: 0.020772071210322558, accuracy: 0.75\n",
      "Server-side evaluation - loss: 0.016341915009198366, accuracy: 0.8148148148148148\n",
      "Best aggregated model saved with accuracy 0.8148148148148148\n",
      "Server-side evaluation - loss: 0.014886468097015663, accuracy: 0.8333333333333334\n",
      "Best aggregated model saved with accuracy 0.8333333333333334\n",
      "Server-side evaluation - loss: 0.014137454882816033, accuracy: 0.8796296296296297\n",
      "Best aggregated model saved with accuracy 0.8796296296296297\n",
      "Server-side evaluation - loss: 0.013711748161801585, accuracy: 0.8240740740740741\n",
      "Server-side evaluation - loss: 0.014726347117512315, accuracy: 0.8425925925925926\n",
      "Server-side evaluation - loss: 0.012321041138083846, accuracy: 0.8888888888888888\n",
      "Best aggregated model saved with accuracy 0.8888888888888888\n",
      "Server-side evaluation - loss: 0.0112340298515779, accuracy: 0.8981481481481481\n",
      "Best aggregated model saved with accuracy 0.8981481481481481\n",
      "Server-side evaluation - loss: 0.011515085895856222, accuracy: 0.8796296296296297\n",
      "Server-side evaluation - loss: 0.01111815607658139, accuracy: 0.8981481481481481\n",
      "Server-side evaluation - loss: 0.011226309808316055, accuracy: 0.8703703703703703\n",
      "\u001b[36m(ClientAppActor pid=9566)\u001b[0m [Client 1] fit, config: {}\u001b[32m [repeated 62x across cluster]\u001b[0m\n"
     ]
    },
    {
     "name": "stderr",
     "output_type": "stream",
     "text": [
      "\u001b[36m(ClientAppActor pid=9565)\u001b[0m \u001b[93mWARNING \u001b[0m:   Deprecation Warning: The `client_fn` function must return an instance of `Client`, but an instance of `NumpyClient` was returned. Please use `NumPyClient.to_client()` method to convert it to `Client`.\u001b[32m [repeated 123x across cluster]\u001b[0m\n"
     ]
    },
    {
     "name": "stdout",
     "output_type": "stream",
     "text": [
      "Server-side evaluation - loss: 0.011073584564858012, accuracy: 0.9074074074074074\n",
      "Best aggregated model saved with accuracy 0.9074074074074074\n",
      "Server-side evaluation - loss: 0.011021722384073116, accuracy: 0.9074074074074074\n",
      "\u001b[36m(ClientAppActor pid=9568)\u001b[0m Epoch 1: val loss 0.0170, val accuracy 0.8500\u001b[32m [repeated 389x across cluster]\u001b[0m\n",
      "\u001b[36m(ClientAppActor pid=9566)\u001b[0m Early stopping due to reaching 100% accuracy\u001b[32m [repeated 48x across cluster]\u001b[0m\n",
      "Server-side evaluation - loss: 0.011553935223707446, accuracy: 0.9074074074074074\n",
      "\u001b[36m(ClientAppActor pid=9568)\u001b[0m Early stopping at epoch 8\u001b[32m [repeated 17x across cluster]\u001b[0m\n",
      "Server-side evaluation - loss: 0.011955251296361288, accuracy: 0.8888888888888888\n",
      "\u001b[36m(ClientAppActor pid=9568)\u001b[0m [Client 3] evaluate, config: {}\u001b[32m [repeated 75x across cluster]\u001b[0m\n",
      "Server-side evaluation - loss: 0.011970713389692482, accuracy: 0.8888888888888888\n",
      "Server-side evaluation - loss: 0.01269571151998308, accuracy: 0.8703703703703703\n",
      "Server-side evaluation - loss: 0.012343410816457536, accuracy: 0.8888888888888888\n",
      "Server-side evaluation - loss: 0.012081149137682386, accuracy: 0.8888888888888888\n",
      "Server-side evaluation - loss: 0.013010901157502775, accuracy: 0.8703703703703703\n",
      "Server-side evaluation - loss: 0.012147808447480202, accuracy: 0.8981481481481481\n",
      "Server-side evaluation - loss: 0.013750254831932209, accuracy: 0.8796296296296297\n",
      "Server-side evaluation - loss: 0.013451917303933037, accuracy: 0.8518518518518519\n",
      "Server-side evaluation - loss: 0.015083208956100323, accuracy: 0.8796296296296297\n",
      "Server-side evaluation - loss: 0.013722635529659412, accuracy: 0.8796296296296297\n",
      "Server-side evaluation - loss: 0.014858349329895444, accuracy: 0.8611111111111112\n",
      "Server-side evaluation - loss: 0.015285011104963444, accuracy: 0.8796296296296297\n",
      "Server-side evaluation - loss: 0.01611753111636197, accuracy: 0.8796296296296297\n",
      "Server-side evaluation - loss: 0.015969185365570918, accuracy: 0.8796296296296297\n",
      "\u001b[36m(ClientAppActor pid=9568)\u001b[0m [Client 0] fit, config: {}\u001b[32m [repeated 88x across cluster]\u001b[0m\n"
     ]
    },
    {
     "name": "stderr",
     "output_type": "stream",
     "text": [
      "\u001b[36m(ClientAppActor pid=9565)\u001b[0m \u001b[93mWARNING \u001b[0m:   Deprecation Warning: The `client_fn` function must return an instance of `Client`, but an instance of `NumpyClient` was returned. Please use `NumPyClient.to_client()` method to convert it to `Client`.\u001b[32m [repeated 177x across cluster]\u001b[0m\n"
     ]
    },
    {
     "name": "stdout",
     "output_type": "stream",
     "text": [
      "Server-side evaluation - loss: 0.014814927967058288, accuracy: 0.8425925925925926\n",
      "Server-side evaluation - loss: 0.01629373210447806, accuracy: 0.8796296296296297\n",
      "\u001b[36m(ClientAppActor pid=9568)\u001b[0m Epoch 4: val loss 0.0281, val accuracy 0.8500\u001b[32m [repeated 377x across cluster]\u001b[0m\n",
      "\u001b[36m(ClientAppActor pid=9566)\u001b[0m Early stopping due to reaching 100% accuracy\u001b[32m [repeated 68x across cluster]\u001b[0m\n",
      "Server-side evaluation - loss: 0.014659580947072417, accuracy: 0.8796296296296297\n",
      "\u001b[36m(ClientAppActor pid=9568)\u001b[0m Early stopping at epoch 13\u001b[32m [repeated 22x across cluster]\u001b[0m\n",
      "\u001b[36m(ClientAppActor pid=9567)\u001b[0m [Client 4] evaluate, config: {}\u001b[32m [repeated 89x across cluster]\u001b[0m\n",
      "Server-side evaluation - loss: 0.01807610469835776, accuracy: 0.8888888888888888\n",
      "Server-side evaluation - loss: 0.015631173219945695, accuracy: 0.8796296296296297\n",
      "Server-side evaluation - loss: 0.016501362538999982, accuracy: 0.8796296296296297\n",
      "Server-side evaluation - loss: 0.01822650846507814, accuracy: 0.8796296296296297\n",
      "Server-side evaluation - loss: 0.02348171319398615, accuracy: 0.8703703703703703\n",
      "Server-side evaluation - loss: 0.019054868982897863, accuracy: 0.8888888888888888\n",
      "Server-side evaluation - loss: 0.01709673277757786, accuracy: 0.8703703703703703\n",
      "Server-side evaluation - loss: 0.018190508639370953, accuracy: 0.8518518518518519\n",
      "Server-side evaluation - loss: 0.01803808617922995, accuracy: 0.8703703703703703\n",
      "Server-side evaluation - loss: 0.018367041178323603, accuracy: 0.8796296296296297\n",
      "Server-side evaluation - loss: 0.017853979918139952, accuracy: 0.8796296296296297\n",
      "Server-side evaluation - loss: 0.020366271060925943, accuracy: 0.8888888888888888\n",
      "Server-side evaluation - loss: 0.01917617354128096, accuracy: 0.8703703703703703\n",
      "Server-side evaluation - loss: 0.019986587542074698, accuracy: 0.8796296296296297\n",
      "\u001b[36m(ClientAppActor pid=9566)\u001b[0m [Client 1] fit, config: {}\u001b[32m [repeated 84x across cluster]\u001b[0m\n"
     ]
    },
    {
     "name": "stderr",
     "output_type": "stream",
     "text": [
      "\u001b[36m(ClientAppActor pid=9565)\u001b[0m \u001b[93mWARNING \u001b[0m:   Deprecation Warning: The `client_fn` function must return an instance of `Client`, but an instance of `NumpyClient` was returned. Please use `NumPyClient.to_client()` method to convert it to `Client`.\u001b[32m [repeated 165x across cluster]\u001b[0m\n"
     ]
    },
    {
     "name": "stdout",
     "output_type": "stream",
     "text": [
      "Server-side evaluation - loss: 0.020027935918834474, accuracy: 0.8703703703703703\n",
      "\u001b[36m(ClientAppActor pid=9564)\u001b[0m \n",
      "\u001b[36m(ClientAppActor pid=9564)\u001b[0m Epoch 10: val loss 0.0322, val accuracy 0.8500\u001b[32m [repeated 464x across cluster]\u001b[0m\n",
      "\u001b[36m(ClientAppActor pid=9567)\u001b[0m Early stopping due to reaching 100% accuracy\u001b[32m [repeated 53x across cluster]\u001b[0m\n",
      "Server-side evaluation - loss: 0.021442104544904497, accuracy: 0.8703703703703703\n",
      "\u001b[36m(ClientAppActor pid=9568)\u001b[0m Early stopping at epoch 7\u001b[32m [repeated 29x across cluster]\u001b[0m\n",
      "Server-side evaluation - loss: 0.02327729458058322, accuracy: 0.8888888888888888\n",
      "Aggregated model evaluation - loss: 0.011073584564858012, accuracy: 0.9074074074074074, precision: 0.8840579710144928, recall: 0.9682539682539683, f1: 0.9242424242424242\n",
      "Seed 21/30\n",
      "\u001b[36m(ClientAppActor pid=9566)\u001b[0m [Client 3] evaluate, config: {}\u001b[32m [repeated 80x across cluster]\u001b[0m\n",
      "\u001b[36m(ClientAppActor pid=9566)\u001b[0m [Client 3] fit, config: {}\u001b[32m [repeated 15x across cluster]\u001b[0m\n",
      "\u001b[36m(ClientAppActor pid=9564)\u001b[0m Epoch 8: val loss 0.0017, val accuracy 1.0000\u001b[32m [repeated 40x across cluster]\u001b[0m\n",
      "\u001b[36m(ClientAppActor pid=9564)\u001b[0m Early stopping due to reaching 100% accuracy\u001b[32m [repeated 4x across cluster]\u001b[0m\n",
      "\u001b[36m(ClientAppActor pid=9567)\u001b[0m Early stopping at epoch 10\n"
     ]
    },
    {
     "name": "stderr",
     "output_type": "stream",
     "text": [
      "\u001b[36m(ClientAppActor pid=9566)\u001b[0m \u001b[93mWARNING \u001b[0m:   Deprecation Warning: The `client_fn` function must return an instance of `Client`, but an instance of `NumpyClient` was returned. Please use `NumPyClient.to_client()` method to convert it to `Client`.\u001b[32m [repeated 29x across cluster]\u001b[0m\n",
      "2024-08-03 02:13:28,674\tINFO worker.py:1752 -- Started a local Ray instance.\n"
     ]
    },
    {
     "name": "stdout",
     "output_type": "stream",
     "text": [
      "Server-side evaluation - loss: 0.025175493624475267, accuracy: 0.7222222222222222\n",
      "Best aggregated model saved with accuracy 0.7222222222222222\n"
     ]
    },
    {
     "name": "stderr",
     "output_type": "stream",
     "text": [
      "\u001b[36m(ClientAppActor pid=9604)\u001b[0m \u001b[93mWARNING \u001b[0m:   Deprecation Warning: The `client_fn` function must return an instance of `Client`, but an instance of `NumpyClient` was returned. Please use `NumPyClient.to_client()` method to convert it to `Client`.\n"
     ]
    },
    {
     "name": "stdout",
     "output_type": "stream",
     "text": [
      "\u001b[36m(ClientAppActor pid=9605)\u001b[0m [Client 0] fit, config: {}\n",
      "\u001b[36m(ClientAppActor pid=9605)\u001b[0m Epoch 1: val loss 0.0119, val accuracy 0.9583\n",
      "\u001b[36m(ClientAppActor pid=9605)\u001b[0m Epoch 2: val loss 0.0093, val accuracy 0.9583\n",
      "\u001b[36m(ClientAppActor pid=9605)\u001b[0m Epoch 3: val loss 0.0087, val accuracy 0.9583\n",
      "\u001b[36m(ClientAppActor pid=9605)\u001b[0m Epoch 4: val loss 0.0091, val accuracy 0.9583\n",
      "\u001b[36m(ClientAppActor pid=9605)\u001b[0m Epoch 5: val loss 0.0085, val accuracy 0.9583\n",
      "\u001b[36m(ClientAppActor pid=9607)\u001b[0m Early stopping at epoch 7\n",
      "\u001b[36m(ClientAppActor pid=9608)\u001b[0m Early stopping due to reaching 100% accuracy\n",
      "Server-side evaluation - loss: 0.01834366332601618, accuracy: 0.7685185185185185\n",
      "Best aggregated model saved with accuracy 0.7685185185185185\n",
      "\u001b[36m(ClientAppActor pid=9605)\u001b[0m [Client 4] evaluate, config: {}\n",
      "Server-side evaluation - loss: 0.01494962818644665, accuracy: 0.8703703703703703\n",
      "Best aggregated model saved with accuracy 0.8703703703703703\n",
      "Server-side evaluation - loss: 0.011305595989580508, accuracy: 0.9351851851851852\n",
      "Best aggregated model saved with accuracy 0.9351851851851852\n",
      "Server-side evaluation - loss: 0.014403127271819997, accuracy: 0.8981481481481481\n",
      "Server-side evaluation - loss: 0.012169531443052821, accuracy: 0.9166666666666666\n",
      "Server-side evaluation - loss: 0.012793281357045527, accuracy: 0.8981481481481481\n",
      "Server-side evaluation - loss: 0.014291914662829152, accuracy: 0.8796296296296297\n",
      "Server-side evaluation - loss: 0.010613624385937496, accuracy: 0.9166666666666666\n",
      "Server-side evaluation - loss: 0.014385829162266519, accuracy: 0.8611111111111112\n",
      "Server-side evaluation - loss: 0.011681285445336942, accuracy: 0.8981481481481481\n",
      "Server-side evaluation - loss: 0.009274386007476735, accuracy: 0.9259259259259259\n",
      "Server-side evaluation - loss: 0.01077646596564187, accuracy: 0.9166666666666666\n",
      "\u001b[36m(ClientAppActor pid=9608)\u001b[0m [Client 3] fit, config: {}\u001b[32m [repeated 64x across cluster]\u001b[0m\n",
      "Server-side evaluation - loss: 0.017227724608447816, accuracy: 0.8611111111111112\n"
     ]
    },
    {
     "name": "stderr",
     "output_type": "stream",
     "text": [
      "\u001b[36m(ClientAppActor pid=9604)\u001b[0m \u001b[93mWARNING \u001b[0m:   Deprecation Warning: The `client_fn` function must return an instance of `Client`, but an instance of `NumpyClient` was returned. Please use `NumPyClient.to_client()` method to convert it to `Client`.\u001b[32m [repeated 125x across cluster]\u001b[0m\n"
     ]
    },
    {
     "name": "stdout",
     "output_type": "stream",
     "text": [
      "Server-side evaluation - loss: 0.012366691397296058, accuracy: 0.9074074074074074\n",
      "\u001b[36m(ClientAppActor pid=9605)\u001b[0m Epoch 2: val loss 0.0430, val accuracy 0.9130\u001b[32m [repeated 482x across cluster]\u001b[0m\n",
      "\u001b[36m(ClientAppActor pid=9605)\u001b[0m Early stopping at epoch 15\u001b[32m [repeated 39x across cluster]\u001b[0m\n",
      "\u001b[36m(ClientAppActor pid=9604)\u001b[0m Early stopping due to reaching 100% accuracy\u001b[32m [repeated 26x across cluster]\u001b[0m\n",
      "Server-side evaluation - loss: 0.019478006771317235, accuracy: 0.8518518518518519\n",
      "\u001b[36m(ClientAppActor pid=9608)\u001b[0m [Client 2] evaluate, config: {}\u001b[32m [repeated 74x across cluster]\u001b[0m\n",
      "Server-side evaluation - loss: 0.01254370818949408, accuracy: 0.9166666666666666\n",
      "Server-side evaluation - loss: 0.013404452759358618, accuracy: 0.8703703703703703\n",
      "Server-side evaluation - loss: 0.020811980935158552, accuracy: 0.8611111111111112\n",
      "Server-side evaluation - loss: 0.01124979610796328, accuracy: 0.9166666666666666\n",
      "Server-side evaluation - loss: 0.01949699419654078, accuracy: 0.8611111111111112\n",
      "Server-side evaluation - loss: 0.01494719881426405, accuracy: 0.8888888888888888\n",
      "Server-side evaluation - loss: 0.014999425245655907, accuracy: 0.8425925925925926\n",
      "Server-side evaluation - loss: 0.013697030298687794, accuracy: 0.8703703703703703\n",
      "Server-side evaluation - loss: 0.01295278952629478, accuracy: 0.8796296296296297\n",
      "Server-side evaluation - loss: 0.03047748241159651, accuracy: 0.8518518518518519\n",
      "Server-side evaluation - loss: 0.013110234574587256, accuracy: 0.9166666666666666\n",
      "Server-side evaluation - loss: 0.013978141877386305, accuracy: 0.9074074074074074\n",
      "Server-side evaluation - loss: 0.014445279759389383, accuracy: 0.9074074074074074\n",
      "Server-side evaluation - loss: 0.01671549788227788, accuracy: 0.8703703703703703\n",
      "Server-side evaluation - loss: 0.017357358571003983, accuracy: 0.8796296296296297\n",
      "\u001b[36m(ClientAppActor pid=9605)\u001b[0m [Client 1] fit, config: {}\u001b[32m [repeated 88x across cluster]\u001b[0m\n",
      "Server-side evaluation - loss: 0.01974403927171672, accuracy: 0.8796296296296297\n"
     ]
    },
    {
     "name": "stderr",
     "output_type": "stream",
     "text": [
      "\u001b[36m(ClientAppActor pid=9604)\u001b[0m \u001b[93mWARNING \u001b[0m:   Deprecation Warning: The `client_fn` function must return an instance of `Client`, but an instance of `NumpyClient` was returned. Please use `NumPyClient.to_client()` method to convert it to `Client`.\u001b[32m [repeated 180x across cluster]\u001b[0m\n"
     ]
    },
    {
     "name": "stdout",
     "output_type": "stream",
     "text": [
      "Server-side evaluation - loss: 0.017404162497432145, accuracy: 0.8796296296296297\n",
      "\u001b[36m(ClientAppActor pid=9605)\u001b[0m Epoch 4: val loss 0.0013, val accuracy 1.0000\u001b[32m [repeated 493x across cluster]\u001b[0m\n",
      "\u001b[36m(ClientAppActor pid=9608)\u001b[0m Early stopping at epoch 7\u001b[32m [repeated 49x across cluster]\u001b[0m\n",
      "\u001b[36m(ClientAppActor pid=9605)\u001b[0m Early stopping due to reaching 100% accuracy\u001b[32m [repeated 43x across cluster]\u001b[0m\n",
      "Server-side evaluation - loss: 0.020495326361722417, accuracy: 0.8611111111111112\n",
      "Server-side evaluation - loss: 0.01535134907397959, accuracy: 0.9074074074074074\n",
      "\u001b[36m(ClientAppActor pid=9608)\u001b[0m [Client 2] evaluate, config: {}\u001b[32m [repeated 95x across cluster]\u001b[0m\n",
      "Server-side evaluation - loss: 0.0163152482084654, accuracy: 0.9074074074074074\n",
      "Server-side evaluation - loss: 0.017462141259952827, accuracy: 0.8981481481481481\n",
      "Server-side evaluation - loss: 0.01841646722621388, accuracy: 0.8888888888888888\n",
      "Server-side evaluation - loss: 0.018191594354532385, accuracy: 0.8888888888888888\n",
      "Server-side evaluation - loss: 0.021550506629325724, accuracy: 0.8981481481481481\n",
      "Server-side evaluation - loss: 0.0173841401313742, accuracy: 0.8981481481481481\n",
      "Server-side evaluation - loss: 0.01976208423298818, accuracy: 0.8888888888888888\n",
      "Server-side evaluation - loss: 0.031264937586254544, accuracy: 0.8425925925925926\n",
      "Server-side evaluation - loss: 0.03828921438091331, accuracy: 0.8333333333333334\n",
      "Server-side evaluation - loss: 0.019156568304256157, accuracy: 0.9351851851851852\n",
      "Server-side evaluation - loss: 0.019565365656658455, accuracy: 0.8981481481481481\n",
      "Server-side evaluation - loss: 0.0313473763289275, accuracy: 0.8611111111111112\n",
      "Server-side evaluation - loss: 0.04000649325273655, accuracy: 0.8333333333333334\n",
      "Server-side evaluation - loss: 0.021949122625368613, accuracy: 0.9166666666666666\n",
      "Server-side evaluation - loss: 0.018215782388492866, accuracy: 0.9074074074074074\n",
      "Server-side evaluation - loss: 0.022757526211164617, accuracy: 0.8888888888888888\n",
      "Aggregated model evaluation - loss: 0.011305595989580508, accuracy: 0.9351851851851852, precision: 0.9117647058823529, recall: 0.9841269841269841, f1: 0.9465648854961832\n",
      "Seed 22/30\n",
      "\u001b[36m(ClientAppActor pid=9608)\u001b[0m [Client 4] fit, config: {}\u001b[32m [repeated 97x across cluster]\u001b[0m\n",
      "\u001b[36m(ClientAppActor pid=9608)\u001b[0m Epoch 6: val loss 0.0157, val accuracy 0.9500\u001b[32m [repeated 363x across cluster]\u001b[0m\n",
      "\u001b[36m(ClientAppActor pid=9608)\u001b[0m Early stopping at epoch 7\u001b[32m [repeated 35x across cluster]\u001b[0m\n",
      "\u001b[36m(ClientAppActor pid=9604)\u001b[0m Early stopping due to reaching 100% accuracy\u001b[32m [repeated 53x across cluster]\u001b[0m\n",
      "\u001b[36m(ClientAppActor pid=9608)\u001b[0m [Client 1] evaluate, config: {}\u001b[32m [repeated 80x across cluster]\u001b[0m\n"
     ]
    },
    {
     "name": "stderr",
     "output_type": "stream",
     "text": [
      "\u001b[36m(ClientAppActor pid=9608)\u001b[0m \u001b[93mWARNING \u001b[0m:   Deprecation Warning: The `client_fn` function must return an instance of `Client`, but an instance of `NumpyClient` was returned. Please use `NumPyClient.to_client()` method to convert it to `Client`.\u001b[32m [repeated 194x across cluster]\u001b[0m\n",
      "2024-08-03 02:13:48,900\tINFO worker.py:1752 -- Started a local Ray instance.\n"
     ]
    },
    {
     "name": "stdout",
     "output_type": "stream",
     "text": [
      "Server-side evaluation - loss: 0.02576117879814572, accuracy: 0.4537037037037037\n",
      "Best aggregated model saved with accuracy 0.4537037037037037\n"
     ]
    },
    {
     "name": "stderr",
     "output_type": "stream",
     "text": [
      "\u001b[36m(ClientAppActor pid=9652)\u001b[0m \u001b[93mWARNING \u001b[0m:   Deprecation Warning: The `client_fn` function must return an instance of `Client`, but an instance of `NumpyClient` was returned. Please use `NumPyClient.to_client()` method to convert it to `Client`.\n"
     ]
    },
    {
     "name": "stdout",
     "output_type": "stream",
     "text": [
      "\u001b[36m(ClientAppActor pid=9653)\u001b[0m [Client 2] fit, config: {}\n",
      "\u001b[36m(ClientAppActor pid=9653)\u001b[0m Epoch 1: val loss 0.0114, val accuracy 0.9565\n",
      "\u001b[36m(ClientAppActor pid=9653)\u001b[0m Early stopping at epoch 13\n",
      "\u001b[36m(ClientAppActor pid=9651)\u001b[0m Early stopping due to reaching 100% accuracy\n",
      "Server-side evaluation - loss: 0.020061168957639625, accuracy: 0.7129629629629629\n",
      "Best aggregated model saved with accuracy 0.7129629629629629\n",
      "\u001b[36m(ClientAppActor pid=9653)\u001b[0m [Client 2] evaluate, config: {}\n",
      "Server-side evaluation - loss: 0.016282885990760946, accuracy: 0.7962962962962963\n",
      "Best aggregated model saved with accuracy 0.7962962962962963\n",
      "Server-side evaluation - loss: 0.014152807356030852, accuracy: 0.8611111111111112\n",
      "Best aggregated model saved with accuracy 0.8611111111111112\n",
      "Server-side evaluation - loss: 0.01300387070686729, accuracy: 0.8518518518518519\n",
      "Server-side evaluation - loss: 0.012876129329756455, accuracy: 0.8611111111111112\n",
      "Server-side evaluation - loss: 0.011761408989076261, accuracy: 0.8703703703703703\n",
      "Best aggregated model saved with accuracy 0.8703703703703703\n",
      "Server-side evaluation - loss: 0.011613328561738686, accuracy: 0.8703703703703703\n",
      "Server-side evaluation - loss: 0.010483108805837455, accuracy: 0.8796296296296297\n",
      "Best aggregated model saved with accuracy 0.8796296296296297\n",
      "\u001b[36m(ClientAppActor pid=9654)\u001b[0m [Client 3] fit, config: {}\u001b[32m [repeated 44x across cluster]\u001b[0m\n",
      "Server-side evaluation - loss: 0.01034167312361576, accuracy: 0.8796296296296297\n"
     ]
    },
    {
     "name": "stderr",
     "output_type": "stream",
     "text": [
      "\u001b[36m(ClientAppActor pid=9652)\u001b[0m \u001b[93mWARNING \u001b[0m:   Deprecation Warning: The `client_fn` function must return an instance of `Client`, but an instance of `NumpyClient` was returned. Please use `NumPyClient.to_client()` method to convert it to `Client`.\u001b[32m [repeated 85x across cluster]\u001b[0m\n"
     ]
    },
    {
     "name": "stdout",
     "output_type": "stream",
     "text": [
      "\u001b[36m(ClientAppActor pid=9650)\u001b[0m Epoch 13: val loss 0.0031, val accuracy 0.9583\u001b[32m [repeated 499x across cluster]\u001b[0m\n",
      "Server-side evaluation - loss: 0.00998747279798543, accuracy: 0.8888888888888888\n",
      "Best aggregated model saved with accuracy 0.8888888888888888\n",
      "\u001b[36m(ClientAppActor pid=9651)\u001b[0m Early stopping at epoch 11\u001b[32m [repeated 19x across cluster]\u001b[0m\n",
      "\u001b[36m(ClientAppActor pid=9652)\u001b[0m Early stopping due to reaching 100% accuracy\u001b[32m [repeated 19x across cluster]\u001b[0m\n",
      "\u001b[36m(ClientAppActor pid=9654)\u001b[0m [Client 2] evaluate, config: {}\u001b[32m [repeated 49x across cluster]\u001b[0m\n",
      "Server-side evaluation - loss: 0.010814215849947047, accuracy: 0.8611111111111112\n",
      "Server-side evaluation - loss: 0.010537920588696445, accuracy: 0.8888888888888888\n",
      "Server-side evaluation - loss: 0.01100851595401764, accuracy: 0.8611111111111112\n",
      "Server-side evaluation - loss: 0.010809038455287615, accuracy: 0.8703703703703703\n",
      "Server-side evaluation - loss: 0.011034011150951739, accuracy: 0.8703703703703703\n",
      "Server-side evaluation - loss: 0.010343817787037956, accuracy: 0.8796296296296297\n",
      "Server-side evaluation - loss: 0.010959113085711444, accuracy: 0.8796296296296297\n",
      "Server-side evaluation - loss: 0.011324679685963525, accuracy: 0.8796296296296297\n",
      "\u001b[36m(ClientAppActor pid=9654)\u001b[0m [Client 0] fit, config: {}\u001b[32m [repeated 50x across cluster]\u001b[0m\n",
      "Server-side evaluation - loss: 0.011767947563418635, accuracy: 0.8796296296296297\n",
      "Server-side evaluation - loss: 0.012577614850468107, accuracy: 0.8518518518518519\n",
      "\u001b[36m(ClientAppActor pid=9654)\u001b[0m Epoch 19: val loss 0.0073, val accuracy 0.9583\u001b[32m [repeated 371x across cluster]\u001b[0m\n"
     ]
    },
    {
     "name": "stderr",
     "output_type": "stream",
     "text": [
      "\u001b[36m(ClientAppActor pid=9652)\u001b[0m \u001b[93mWARNING \u001b[0m:   Deprecation Warning: The `client_fn` function must return an instance of `Client`, but an instance of `NumpyClient` was returned. Please use `NumPyClient.to_client()` method to convert it to `Client`.\u001b[32m [repeated 111x across cluster]\u001b[0m\n"
     ]
    },
    {
     "name": "stdout",
     "output_type": "stream",
     "text": [
      "\u001b[36m(ClientAppActor pid=9653)\u001b[0m Early stopping at epoch 7\u001b[32m [repeated 25x across cluster]\u001b[0m\n",
      "\u001b[36m(ClientAppActor pid=9650)\u001b[0m Early stopping due to reaching 100% accuracy\u001b[32m [repeated 23x across cluster]\u001b[0m\n",
      "Server-side evaluation - loss: 0.012746748824914297, accuracy: 0.8703703703703703\n",
      "\u001b[36m(ClientAppActor pid=9650)\u001b[0m [Client 4] evaluate, config: {}\u001b[32m [repeated 55x across cluster]\u001b[0m\n",
      "Server-side evaluation - loss: 0.011583941954153555, accuracy: 0.8888888888888888\n",
      "Server-side evaluation - loss: 0.012780878278944228, accuracy: 0.8796296296296297\n",
      "Server-side evaluation - loss: 0.01265279479600765, accuracy: 0.8888888888888888\n",
      "Server-side evaluation - loss: 0.012764713692444342, accuracy: 0.9074074074074074\n",
      "Best aggregated model saved with accuracy 0.9074074074074074\n",
      "Server-side evaluation - loss: 0.011994545382482034, accuracy: 0.8888888888888888\n",
      "Server-side evaluation - loss: 0.012255575645852971, accuracy: 0.8796296296296297\n",
      "Server-side evaluation - loss: 0.010826988490643326, accuracy: 0.8981481481481481\n",
      "Server-side evaluation - loss: 0.011507281550654658, accuracy: 0.9074074074074074\n",
      "Server-side evaluation - loss: 0.009467557831494897, accuracy: 0.8888888888888888\n",
      "Server-side evaluation - loss: 0.013622097119137092, accuracy: 0.8796296296296297\n",
      "\u001b[36m(ClientAppActor pid=9654)\u001b[0m [Client 2] fit, config: {}\u001b[32m [repeated 65x across cluster]\u001b[0m\n",
      "Server-side evaluation - loss: 0.01326804166590726, accuracy: 0.8703703703703703\n",
      "Server-side evaluation - loss: 0.013085909601714876, accuracy: 0.8888888888888888\n",
      "\u001b[36m(ClientAppActor pid=9653)\u001b[0m Epoch 6: val loss 0.0058, val accuracy 0.9167\u001b[32m [repeated 424x across cluster]\u001b[0m\n",
      "Server-side evaluation - loss: 0.011466051555342145, accuracy: 0.8888888888888888\n"
     ]
    },
    {
     "name": "stderr",
     "output_type": "stream",
     "text": [
      "\u001b[36m(ClientAppActor pid=9652)\u001b[0m \u001b[93mWARNING \u001b[0m:   Deprecation Warning: The `client_fn` function must return an instance of `Client`, but an instance of `NumpyClient` was returned. Please use `NumPyClient.to_client()` method to convert it to `Client`.\u001b[32m [repeated 139x across cluster]\u001b[0m\n"
     ]
    },
    {
     "name": "stdout",
     "output_type": "stream",
     "text": [
      "\u001b[36m(ClientAppActor pid=9652)\u001b[0m Early stopping at epoch 13\u001b[32m [repeated 36x across cluster]\u001b[0m\n",
      "\u001b[36m(ClientAppActor pid=9654)\u001b[0m Early stopping due to reaching 100% accuracy\u001b[32m [repeated 29x across cluster]\u001b[0m\n",
      "Server-side evaluation - loss: 0.012555033244468548, accuracy: 0.8888888888888888\n",
      "\u001b[36m(ClientAppActor pid=9653)\u001b[0m [Client 2] evaluate, config: {}\u001b[32m [repeated 66x across cluster]\u001b[0m\n",
      "Server-side evaluation - loss: 0.013447696963946024, accuracy: 0.8888888888888888\n",
      "Server-side evaluation - loss: 0.012626860980634336, accuracy: 0.8888888888888888\n",
      "Server-side evaluation - loss: 0.016701529423395794, accuracy: 0.8796296296296297\n",
      "Server-side evaluation - loss: 0.01354580538140403, accuracy: 0.8981481481481481\n",
      "Server-side evaluation - loss: 0.013627213598401458, accuracy: 0.8796296296296297\n",
      "Server-side evaluation - loss: 0.015078285640036618, accuracy: 0.8796296296296297\n",
      "Server-side evaluation - loss: 0.016024260885185666, accuracy: 0.8888888888888888\n",
      "Server-side evaluation - loss: 0.010427527405597546, accuracy: 0.8981481481481481\n",
      "Server-side evaluation - loss: 0.014617390654705189, accuracy: 0.8888888888888888\n",
      "Server-side evaluation - loss: 0.01456007237235705, accuracy: 0.9074074074074074\n",
      "Server-side evaluation - loss: 0.014428157497335363, accuracy: 0.8888888888888888\n",
      "Server-side evaluation - loss: 0.014538379041133103, accuracy: 0.9074074074074074\n",
      "Server-side evaluation - loss: 0.01705338999077126, accuracy: 0.8796296296296297\n",
      "\u001b[36m(ClientAppActor pid=9654)\u001b[0m [Client 0] fit, config: {}\u001b[32m [repeated 80x across cluster]\u001b[0m\n",
      "Server-side evaluation - loss: 0.015365368514149278, accuracy: 0.8981481481481481\n",
      "\u001b[36m(ClientAppActor pid=9653)\u001b[0m Epoch 5: val loss 0.0138, val accuracy 0.9167\u001b[32m [repeated 414x across cluster]\u001b[0m\n",
      "Server-side evaluation - loss: 0.014200446437354441, accuracy: 0.9074074074074074\n",
      "Aggregated model evaluation - loss: 0.012764713692444342, accuracy: 0.9074074074074074, precision: 0.8732394366197183, recall: 0.9841269841269841, f1: 0.9253731343283582\n",
      "Seed 23/30\n",
      "\u001b[36m(ClientAppActor pid=9653)\u001b[0m Early stopping at epoch 7\u001b[32m [repeated 37x across cluster]\u001b[0m\n",
      "\u001b[36m(ClientAppActor pid=9650)\u001b[0m Early stopping due to reaching 100% accuracy\u001b[32m [repeated 41x across cluster]\u001b[0m\n",
      "\u001b[36m(ClientAppActor pid=9654)\u001b[0m [Client 3] evaluate, config: {}\u001b[32m [repeated 79x across cluster]\u001b[0m\n",
      "\u001b[36m(ClientAppActor pid=9654)\u001b[0m [Client 1] fit, config: {}\u001b[32m [repeated 10x across cluster]\u001b[0m\n",
      "\u001b[36m(ClientAppActor pid=9653)\u001b[0m Epoch 6: val loss 0.0106, val accuracy 0.9167\u001b[32m [repeated 13x across cluster]\u001b[0m\n"
     ]
    },
    {
     "name": "stderr",
     "output_type": "stream",
     "text": [
      "\u001b[36m(ClientAppActor pid=9652)\u001b[0m \u001b[93mWARNING \u001b[0m:   Deprecation Warning: The `client_fn` function must return an instance of `Client`, but an instance of `NumpyClient` was returned. Please use `NumPyClient.to_client()` method to convert it to `Client`.\u001b[32m [repeated 160x across cluster]\u001b[0m\n",
      "\u001b[36m(ClientAppActor pid=9650)\u001b[0m \u001b[93mWARNING \u001b[0m:   Deprecation Warning: The `client_fn` function must return an instance of `Client`, but an instance of `NumpyClient` was returned. Please use `NumPyClient.to_client()` method to convert it to `Client`.\u001b[32m [repeated 4x across cluster]\u001b[0m\n",
      "2024-08-03 02:14:15,408\tINFO worker.py:1752 -- Started a local Ray instance.\n"
     ]
    },
    {
     "name": "stdout",
     "output_type": "stream",
     "text": [
      "Server-side evaluation - loss: 0.025930091186806007, accuracy: 0.4351851851851852\n",
      "Best aggregated model saved with accuracy 0.4351851851851852\n"
     ]
    },
    {
     "name": "stderr",
     "output_type": "stream",
     "text": [
      "\u001b[36m(ClientAppActor pid=9690)\u001b[0m \u001b[93mWARNING \u001b[0m:   Deprecation Warning: The `client_fn` function must return an instance of `Client`, but an instance of `NumpyClient` was returned. Please use `NumPyClient.to_client()` method to convert it to `Client`.\n"
     ]
    },
    {
     "name": "stdout",
     "output_type": "stream",
     "text": [
      "\u001b[36m(ClientAppActor pid=9689)\u001b[0m [Client 1] fit, config: {}\n",
      "\u001b[36m(ClientAppActor pid=9689)\u001b[0m Epoch 1: val loss 0.0283, val accuracy 0.6500\n",
      "\u001b[36m(ClientAppActor pid=9689)\u001b[0m Epoch 2: val loss 0.0214, val accuracy 0.8500\n",
      "\u001b[36m(ClientAppActor pid=9689)\u001b[0m Epoch 3: val loss 0.0173, val accuracy 0.9500\n",
      "\u001b[36m(ClientAppActor pid=9689)\u001b[0m Epoch 4: val loss 0.0156, val accuracy 0.9500\n",
      "\u001b[36m(ClientAppActor pid=9689)\u001b[0m Epoch 5: val loss 0.0146, val accuracy 0.9500\n",
      "\u001b[36m(ClientAppActor pid=9689)\u001b[0m Epoch 6: val loss 0.0137, val accuracy 1.0000\n",
      "\u001b[36m(ClientAppActor pid=9689)\u001b[0m Early stopping due to reaching 100% accuracy\n",
      "Server-side evaluation - loss: 0.015571498898444351, accuracy: 0.7592592592592593\n",
      "Best aggregated model saved with accuracy 0.7592592592592593\n",
      "\u001b[36m(ClientAppActor pid=9689)\u001b[0m [Client 4] evaluate, config: {}\n",
      "Server-side evaluation - loss: 0.011703932036956152, accuracy: 0.8981481481481481\n",
      "Best aggregated model saved with accuracy 0.8981481481481481\n",
      "Server-side evaluation - loss: 0.011093955349039149, accuracy: 0.8888888888888888\n",
      "\u001b[36m(ClientAppActor pid=9686)\u001b[0m Early stopping at epoch 13\n",
      "Server-side evaluation - loss: 0.009530512547051465, accuracy: 0.9074074074074074\n",
      "Best aggregated model saved with accuracy 0.9074074074074074\n",
      "Server-side evaluation - loss: 0.010624508752867027, accuracy: 0.8703703703703703\n",
      "Server-side evaluation - loss: 0.011656029770771662, accuracy: 0.8888888888888888\n",
      "Server-side evaluation - loss: 0.01022127070636661, accuracy: 0.8981481481481481\n",
      "Server-side evaluation - loss: 0.007793398298047207, accuracy: 0.9074074074074074\n",
      "Server-side evaluation - loss: 0.010131114128011244, accuracy: 0.8888888888888888\n",
      "Server-side evaluation - loss: 0.0074354262539634, accuracy: 0.9166666666666666\n",
      "Best aggregated model saved with accuracy 0.9166666666666666\n",
      "\u001b[36m(ClientAppActor pid=9688)\u001b[0m [Client 0] fit, config: {}\u001b[32m [repeated 54x across cluster]\u001b[0m\n",
      "Server-side evaluation - loss: 0.009429780490420482, accuracy: 0.8703703703703703\n"
     ]
    },
    {
     "name": "stderr",
     "output_type": "stream",
     "text": [
      "\u001b[36m(ClientAppActor pid=9690)\u001b[0m \u001b[93mWARNING \u001b[0m:   Deprecation Warning: The `client_fn` function must return an instance of `Client`, but an instance of `NumpyClient` was returned. Please use `NumPyClient.to_client()` method to convert it to `Client`.\u001b[32m [repeated 106x across cluster]\u001b[0m\n"
     ]
    },
    {
     "name": "stdout",
     "output_type": "stream",
     "text": [
      "Server-side evaluation - loss: 0.007559153699764499, accuracy: 0.9259259259259259\n",
      "Best aggregated model saved with accuracy 0.9259259259259259\n",
      "Server-side evaluation - loss: 0.009306500493376344, accuracy: 0.8703703703703703\n",
      "\u001b[36m(ClientAppActor pid=9688)\u001b[0m Epoch 4: val loss 0.0015, val accuracy 1.0000\u001b[32m [repeated 440x across cluster]\u001b[0m\n",
      "\u001b[36m(ClientAppActor pid=9688)\u001b[0m Early stopping due to reaching 100% accuracy\u001b[32m [repeated 38x across cluster]\u001b[0m\n",
      "Server-side evaluation - loss: 0.007319870508379406, accuracy: 0.9166666666666666\n",
      "\u001b[36m(ClientAppActor pid=9688)\u001b[0m [Client 3] evaluate, config: {}\u001b[32m [repeated 69x across cluster]\u001b[0m\n",
      "Server-side evaluation - loss: 0.010593667557394063, accuracy: 0.8425925925925926\n",
      "Server-side evaluation - loss: 0.008609567665391497, accuracy: 0.9259259259259259\n",
      "Server-side evaluation - loss: 0.0069455002538032, accuracy: 0.9166666666666666\n",
      "Server-side evaluation - loss: 0.01091091645260652, accuracy: 0.8611111111111112\n",
      "Server-side evaluation - loss: 0.008311297503058557, accuracy: 0.8888888888888888\n",
      "\u001b[36m(ClientAppActor pid=9688)\u001b[0m Early stopping at epoch 9\u001b[32m [repeated 27x across cluster]\u001b[0m\n",
      "Server-side evaluation - loss: 0.008497835999285733, accuracy: 0.9074074074074074\n",
      "Server-side evaluation - loss: 0.008998988437707777, accuracy: 0.8888888888888888\n",
      "Server-side evaluation - loss: 0.006636661408400094, accuracy: 0.9351851851851852\n",
      "Best aggregated model saved with accuracy 0.9351851851851852\n",
      "Server-side evaluation - loss: 0.011084480314619012, accuracy: 0.8888888888888888\n",
      "Server-side evaluation - loss: 0.00863222046582787, accuracy: 0.8981481481481481\n",
      "Server-side evaluation - loss: 0.018698228247187757, accuracy: 0.8703703703703703\n",
      "Server-side evaluation - loss: 0.007426972880407616, accuracy: 0.9259259259259259\n",
      "Server-side evaluation - loss: 0.012932308363141838, accuracy: 0.8703703703703703\n",
      "Server-side evaluation - loss: 0.016422112989756796, accuracy: 0.8703703703703703\n",
      "Server-side evaluation - loss: 0.011335697576955513, accuracy: 0.8981481481481481\n",
      "\u001b[36m(ClientAppActor pid=9688)\u001b[0m [Client 0] fit, config: {}\u001b[32m [repeated 95x across cluster]\u001b[0m\n",
      "Server-side evaluation - loss: 0.009741272156437239, accuracy: 0.8981481481481481\n"
     ]
    },
    {
     "name": "stderr",
     "output_type": "stream",
     "text": [
      "\u001b[36m(ClientAppActor pid=9690)\u001b[0m \u001b[93mWARNING \u001b[0m:   Deprecation Warning: The `client_fn` function must return an instance of `Client`, but an instance of `NumpyClient` was returned. Please use `NumPyClient.to_client()` method to convert it to `Client`.\u001b[32m [repeated 190x across cluster]\u001b[0m\n"
     ]
    },
    {
     "name": "stdout",
     "output_type": "stream",
     "text": [
      "Server-side evaluation - loss: 0.017081124984003878, accuracy: 0.8703703703703703\n",
      "\u001b[36m(ClientAppActor pid=9690)\u001b[0m Epoch 5: val loss 0.0019, val accuracy 1.0000\u001b[32m [repeated 415x across cluster]\u001b[0m\n",
      "\u001b[36m(ClientAppActor pid=9690)\u001b[0m Early stopping due to reaching 100% accuracy\u001b[32m [repeated 71x across cluster]\u001b[0m\n",
      "Server-side evaluation - loss: 0.014614076802024135, accuracy: 0.8981481481481481\n",
      "Server-side evaluation - loss: 0.016815009009506967, accuracy: 0.8796296296296297\n",
      "\u001b[36m(ClientAppActor pid=9688)\u001b[0m [Client 0] evaluate, config: {}\u001b[32m [repeated 95x across cluster]\u001b[0m\n",
      "Server-side evaluation - loss: 0.008959286880713922, accuracy: 0.9074074074074074\n",
      "Server-side evaluation - loss: 0.023941185739305284, accuracy: 0.8518518518518519\n",
      "Server-side evaluation - loss: 0.012467580261053863, accuracy: 0.8981481481481481\n",
      "Server-side evaluation - loss: 0.023578533764790605, accuracy: 0.8796296296296297\n",
      "Server-side evaluation - loss: 0.010448297071788046, accuracy: 0.8981481481481481\n",
      "\u001b[36m(ClientAppActor pid=9688)\u001b[0m Early stopping at epoch 8\u001b[32m [repeated 26x across cluster]\u001b[0m\n",
      "Server-side evaluation - loss: 0.019817451567009644, accuracy: 0.8703703703703703\n",
      "Server-side evaluation - loss: 0.014420145984601092, accuracy: 0.8981481481481481\n",
      "Server-side evaluation - loss: 0.024756539199087355, accuracy: 0.8703703703703703\n",
      "Server-side evaluation - loss: 0.015908780128315644, accuracy: 0.8703703703703703\n",
      "Server-side evaluation - loss: 0.017742413889478753, accuracy: 0.8888888888888888\n",
      "Server-side evaluation - loss: 0.029083780323465664, accuracy: 0.8611111111111112\n",
      "Server-side evaluation - loss: 0.01303695735556108, accuracy: 0.8981481481481481\n",
      "Server-side evaluation - loss: 0.02007984652839325, accuracy: 0.8888888888888888\n",
      "Server-side evaluation - loss: 0.019292678615009343, accuracy: 0.8703703703703703\n",
      "Server-side evaluation - loss: 0.017218415314952534, accuracy: 0.8888888888888888\n",
      "\u001b[36m(ClientAppActor pid=9689)\u001b[0m [Client 1] fit, config: {}\u001b[32m [repeated 91x across cluster]\u001b[0m\n",
      "Server-side evaluation - loss: 0.011524106824287662, accuracy: 0.9074074074074074\n"
     ]
    },
    {
     "name": "stderr",
     "output_type": "stream",
     "text": [
      "\u001b[36m(ClientAppActor pid=9690)\u001b[0m \u001b[93mWARNING \u001b[0m:   Deprecation Warning: The `client_fn` function must return an instance of `Client`, but an instance of `NumpyClient` was returned. Please use `NumPyClient.to_client()` method to convert it to `Client`.\u001b[32m [repeated 190x across cluster]\u001b[0m\n"
     ]
    },
    {
     "name": "stdout",
     "output_type": "stream",
     "text": [
      "Server-side evaluation - loss: 0.02701156717483644, accuracy: 0.8888888888888888\n",
      "Aggregated model evaluation - loss: 0.006636661408400094, accuracy: 0.9351851851851852, precision: 0.9242424242424242, recall: 0.9682539682539683, f1: 0.9457364341085271\n",
      "Seed 24/30\n",
      "\u001b[36m(ClientAppActor pid=9689)\u001b[0m Epoch 6: val loss 0.0064, val accuracy 0.9524\u001b[32m [repeated 449x across cluster]\u001b[0m\n",
      "\u001b[36m(ClientAppActor pid=9688)\u001b[0m Early stopping due to reaching 100% accuracy\u001b[32m [repeated 58x across cluster]\u001b[0m\n",
      "\u001b[36m(ClientAppActor pid=9688)\u001b[0m [Client 4] evaluate, config: {}\u001b[32m [repeated 85x across cluster]\u001b[0m\n",
      "\u001b[36m(ClientAppActor pid=9689)\u001b[0m Early stopping at epoch 7\u001b[32m [repeated 20x across cluster]\u001b[0m\n",
      "\u001b[36m(ClientAppActor pid=9689)\u001b[0m [Client 3] fit, config: {}\u001b[32m [repeated 9x across cluster]\u001b[0m\n"
     ]
    },
    {
     "name": "stderr",
     "output_type": "stream",
     "text": [
      "\u001b[36m(ClientAppActor pid=9687)\u001b[0m \u001b[93mWARNING \u001b[0m:   Deprecation Warning: The `client_fn` function must return an instance of `Client`, but an instance of `NumpyClient` was returned. Please use `NumPyClient.to_client()` method to convert it to `Client`.\u001b[32m [repeated 13x across cluster]\u001b[0m\n",
      "2024-08-03 02:14:36,180\tINFO worker.py:1752 -- Started a local Ray instance.\n"
     ]
    },
    {
     "name": "stdout",
     "output_type": "stream",
     "text": [
      "Server-side evaluation - loss: 0.025478945286185654, accuracy: 0.5740740740740741\n",
      "Best aggregated model saved with accuracy 0.5740740740740741\n",
      "\u001b[36m(ClientAppActor pid=9724)\u001b[0m [Client 4] fit, config: {}\n"
     ]
    },
    {
     "name": "stderr",
     "output_type": "stream",
     "text": [
      "\u001b[36m(ClientAppActor pid=9721)\u001b[0m \u001b[93mWARNING \u001b[0m:   Deprecation Warning: The `client_fn` function must return an instance of `Client`, but an instance of `NumpyClient` was returned. Please use `NumPyClient.to_client()` method to convert it to `Client`.\n"
     ]
    },
    {
     "name": "stdout",
     "output_type": "stream",
     "text": [
      "\u001b[36m(ClientAppActor pid=9724)\u001b[0m Epoch 1: val loss 0.0278, val accuracy 0.7500\n",
      "\u001b[36m(ClientAppActor pid=9724)\u001b[0m Epoch 2: val loss 0.0302, val accuracy 0.7000\n",
      "\u001b[36m(ClientAppActor pid=9724)\u001b[0m Epoch 3: val loss 0.0305, val accuracy 0.7500\n",
      "\u001b[36m(ClientAppActor pid=9724)\u001b[0m Epoch 4: val loss 0.0368, val accuracy 0.6500\n",
      "\u001b[36m(ClientAppActor pid=9724)\u001b[0m Epoch 5: val loss 0.0426, val accuracy 0.6500\n",
      "\u001b[36m(ClientAppActor pid=9724)\u001b[0m Early stopping at epoch 7\n",
      "\u001b[36m(ClientAppActor pid=9721)\u001b[0m Early stopping due to reaching 100% accuracy\n",
      "Server-side evaluation - loss: 0.020123649526525428, accuracy: 0.7870370370370371\n",
      "Best aggregated model saved with accuracy 0.7870370370370371\n",
      "\u001b[36m(ClientAppActor pid=9724)\u001b[0m [Client 0] evaluate, config: {}\n",
      "Server-side evaluation - loss: 0.020451986679324397, accuracy: 0.75\n",
      "Server-side evaluation - loss: 0.018691348532835644, accuracy: 0.8055555555555556\n",
      "Best aggregated model saved with accuracy 0.8055555555555556\n",
      "Server-side evaluation - loss: 0.016618630952305265, accuracy: 0.8425925925925926\n",
      "Best aggregated model saved with accuracy 0.8425925925925926\n",
      "Server-side evaluation - loss: 0.0162728660636478, accuracy: 0.8888888888888888\n",
      "Best aggregated model saved with accuracy 0.8888888888888888\n",
      "Server-side evaluation - loss: 0.014750850973305878, accuracy: 0.8888888888888888\n",
      "Server-side evaluation - loss: 0.014807134590767048, accuracy: 0.8796296296296297\n",
      "Server-side evaluation - loss: 0.01435166017876731, accuracy: 0.8981481481481481\n",
      "Best aggregated model saved with accuracy 0.8981481481481481\n",
      "Server-side evaluation - loss: 0.014255686076702896, accuracy: 0.8888888888888888\n",
      "Server-side evaluation - loss: 0.015150462863621888, accuracy: 0.8703703703703703\n",
      "Server-side evaluation - loss: 0.015217459588139146, accuracy: 0.8981481481481481\n",
      "Server-side evaluation - loss: 0.014117372946606742, accuracy: 0.8796296296296297\n",
      "\u001b[36m(ClientAppActor pid=9722)\u001b[0m [Client 3] fit, config: {}\u001b[32m [repeated 59x across cluster]\u001b[0m\n"
     ]
    },
    {
     "name": "stderr",
     "output_type": "stream",
     "text": [
      "\u001b[36m(ClientAppActor pid=9721)\u001b[0m \u001b[93mWARNING \u001b[0m:   Deprecation Warning: The `client_fn` function must return an instance of `Client`, but an instance of `NumpyClient` was returned. Please use `NumPyClient.to_client()` method to convert it to `Client`.\u001b[32m [repeated 116x across cluster]\u001b[0m\n"
     ]
    },
    {
     "name": "stdout",
     "output_type": "stream",
     "text": [
      "Server-side evaluation - loss: 0.01568493550574338, accuracy: 0.8888888888888888\n",
      "Server-side evaluation - loss: 0.015991725579456047, accuracy: 0.8981481481481481\n",
      "\u001b[36m(ClientAppActor pid=9724)\u001b[0m Epoch 4: val loss 0.0115, val accuracy 0.9524\u001b[32m [repeated 548x across cluster]\u001b[0m\n",
      "\u001b[36m(ClientAppActor pid=9722)\u001b[0m Early stopping at epoch 9\u001b[32m [repeated 44x across cluster]\u001b[0m\n",
      "\u001b[36m(ClientAppActor pid=9724)\u001b[0m Early stopping due to reaching 100% accuracy\u001b[32m [repeated 24x across cluster]\u001b[0m\n",
      "Server-side evaluation - loss: 0.015276675285012633, accuracy: 0.9074074074074074\n",
      "Best aggregated model saved with accuracy 0.9074074074074074\n",
      "\u001b[36m(ClientAppActor pid=9724)\u001b[0m [Client 3] evaluate, config: {}\u001b[32m [repeated 70x across cluster]\u001b[0m\n",
      "Server-side evaluation - loss: 0.016501694779705117, accuracy: 0.8981481481481481\n",
      "Server-side evaluation - loss: 0.019315494431389704, accuracy: 0.8796296296296297\n",
      "Server-side evaluation - loss: 0.01763405016175023, accuracy: 0.8888888888888888\n",
      "Server-side evaluation - loss: 0.018484927575897286, accuracy: 0.8796296296296297\n",
      "Server-side evaluation - loss: 0.018101994086194922, accuracy: 0.8888888888888888\n",
      "Server-side evaluation - loss: 0.01805792197033211, accuracy: 0.8796296296296297\n",
      "Server-side evaluation - loss: 0.0178956370110865, accuracy: 0.8981481481481481\n",
      "Server-side evaluation - loss: 0.01732018576176078, accuracy: 0.8888888888888888\n",
      "Server-side evaluation - loss: 0.021401351524723902, accuracy: 0.8888888888888888\n",
      "Server-side evaluation - loss: 0.01858524026142226, accuracy: 0.8888888888888888\n",
      "Server-side evaluation - loss: 0.019297540739730553, accuracy: 0.8888888888888888\n",
      "Server-side evaluation - loss: 0.021153784184544173, accuracy: 0.8981481481481481\n",
      "Server-side evaluation - loss: 0.020592766503492992, accuracy: 0.8888888888888888\n",
      "\u001b[36m(ClientAppActor pid=9722)\u001b[0m [Client 3] fit, config: {}\u001b[32m [repeated 80x across cluster]\u001b[0m\n"
     ]
    },
    {
     "name": "stderr",
     "output_type": "stream",
     "text": [
      "\u001b[36m(ClientAppActor pid=9721)\u001b[0m \u001b[93mWARNING \u001b[0m:   Deprecation Warning: The `client_fn` function must return an instance of `Client`, but an instance of `NumpyClient` was returned. Please use `NumPyClient.to_client()` method to convert it to `Client`.\u001b[32m [repeated 160x across cluster]\u001b[0m\n"
     ]
    },
    {
     "name": "stdout",
     "output_type": "stream",
     "text": [
      "Server-side evaluation - loss: 0.02173291215742076, accuracy: 0.8888888888888888\n",
      "Server-side evaluation - loss: 0.022134428912842716, accuracy: 0.9074074074074074\n",
      "\u001b[36m(ClientAppActor pid=9722)\u001b[0m Epoch 11: val loss 0.0693, val accuracy 0.8000\u001b[32m [repeated 545x across cluster]\u001b[0m\n",
      "\u001b[36m(ClientAppActor pid=9722)\u001b[0m Early stopping at epoch 12\u001b[32m [repeated 52x across cluster]\u001b[0m\n",
      "\u001b[36m(ClientAppActor pid=9724)\u001b[0m Early stopping due to reaching 100% accuracy\u001b[32m [repeated 27x across cluster]\u001b[0m\n",
      "Server-side evaluation - loss: 0.02469164767750987, accuracy: 0.8888888888888888\n",
      "\u001b[36m(ClientAppActor pid=9722)\u001b[0m [Client 4] evaluate, config: {}\u001b[32m [repeated 79x across cluster]\u001b[0m\n",
      "Server-side evaluation - loss: 0.02162718634914469, accuracy: 0.8888888888888888\n",
      "Server-side evaluation - loss: 0.02155666170572793, accuracy: 0.8981481481481481\n",
      "Server-side evaluation - loss: 0.023900985993720866, accuracy: 0.8981481481481481\n",
      "Server-side evaluation - loss: 0.021802633034962195, accuracy: 0.9074074074074074\n",
      "Server-side evaluation - loss: 0.0233748829751103, accuracy: 0.8981481481481481\n",
      "Server-side evaluation - loss: 0.022278885046641033, accuracy: 0.8888888888888888\n",
      "Server-side evaluation - loss: 0.02495032735168934, accuracy: 0.8888888888888888\n",
      "Server-side evaluation - loss: 0.02671583245197932, accuracy: 0.8981481481481481\n",
      "Server-side evaluation - loss: 0.02706145502075001, accuracy: 0.8981481481481481\n",
      "Server-side evaluation - loss: 0.02503301679260201, accuracy: 0.8981481481481481\n",
      "Server-side evaluation - loss: 0.024241552998622257, accuracy: 0.8981481481481481\n",
      "\u001b[36m(ClientAppActor pid=9722)\u001b[0m [Client 1] fit, config: {}\u001b[32m [repeated 75x across cluster]\u001b[0m\n",
      "Server-side evaluation - loss: 0.02407309040427208, accuracy: 0.8981481481481481\n"
     ]
    },
    {
     "name": "stderr",
     "output_type": "stream",
     "text": [
      "\u001b[36m(ClientAppActor pid=9721)\u001b[0m \u001b[93mWARNING \u001b[0m:   Deprecation Warning: The `client_fn` function must return an instance of `Client`, but an instance of `NumpyClient` was returned. Please use `NumPyClient.to_client()` method to convert it to `Client`.\u001b[32m [repeated 149x across cluster]\u001b[0m\n"
     ]
    },
    {
     "name": "stdout",
     "output_type": "stream",
     "text": [
      "Server-side evaluation - loss: 0.027835775925605384, accuracy: 0.8888888888888888\n",
      "\u001b[36m(ClientAppActor pid=9721)\u001b[0m Epoch 13: val loss 0.0240, val accuracy 0.9524\u001b[32m [repeated 515x across cluster]\u001b[0m\n",
      "\u001b[36m(ClientAppActor pid=9721)\u001b[0m Early stopping at epoch 14\u001b[32m [repeated 54x across cluster]\u001b[0m\n",
      "Server-side evaluation - loss: 0.02643883780196861, accuracy: 0.8981481481481481\n",
      "\u001b[36m(ClientAppActor pid=9725)\u001b[0m Early stopping due to reaching 100% accuracy\u001b[32m [repeated 20x across cluster]\u001b[0m\n",
      "\u001b[36m(ClientAppActor pid=9722)\u001b[0m [Client 2] evaluate, config: {}\u001b[32m [repeated 75x across cluster]\u001b[0m\n",
      "Server-side evaluation - loss: 0.026128183705387293, accuracy: 0.8796296296296297\n",
      "Server-side evaluation - loss: 0.02559096035030153, accuracy: 0.8981481481481481\n",
      "Server-side evaluation - loss: 0.027883512347384735, accuracy: 0.8981481481481481\n",
      "Server-side evaluation - loss: 0.030278170274363622, accuracy: 0.8981481481481481\n",
      "Server-side evaluation - loss: 0.03021449340438401, accuracy: 0.8796296296296297\n",
      "Aggregated model evaluation - loss: 0.015276675285012633, accuracy: 0.9074074074074074, precision: 0.8840579710144928, recall: 0.9682539682539683, f1: 0.9242424242424242\n",
      "Seed 25/30\n",
      "\u001b[36m(ClientAppActor pid=9722)\u001b[0m [Client 1] fit, config: {}\u001b[32m [repeated 35x across cluster]\u001b[0m\n",
      "\u001b[36m(ClientAppActor pid=9721)\u001b[0m Epoch 12: val loss 0.0184, val accuracy 0.9583\u001b[32m [repeated 155x across cluster]\u001b[0m\n",
      "\u001b[36m(ClientAppActor pid=9721)\u001b[0m Early stopping at epoch 13\u001b[32m [repeated 20x across cluster]\u001b[0m\n",
      "\u001b[36m(ClientAppActor pid=9725)\u001b[0m Early stopping due to reaching 100% accuracy\u001b[32m [repeated 5x across cluster]\u001b[0m\n",
      "\u001b[36m(ClientAppActor pid=9722)\u001b[0m [Client 0] evaluate, config: {}\u001b[32m [repeated 25x across cluster]\u001b[0m\n"
     ]
    },
    {
     "name": "stderr",
     "output_type": "stream",
     "text": [
      "\u001b[36m(ClientAppActor pid=9722)\u001b[0m \u001b[93mWARNING \u001b[0m:   Deprecation Warning: The `client_fn` function must return an instance of `Client`, but an instance of `NumpyClient` was returned. Please use `NumPyClient.to_client()` method to convert it to `Client`.\u001b[32m [repeated 74x across cluster]\u001b[0m\n",
      "2024-08-03 02:14:59,092\tINFO worker.py:1752 -- Started a local Ray instance.\n"
     ]
    },
    {
     "name": "stdout",
     "output_type": "stream",
     "text": [
      "Server-side evaluation - loss: 0.02523441391962546, accuracy: 0.5833333333333334\n",
      "Best aggregated model saved with accuracy 0.5833333333333334\n",
      "\u001b[36m(ClientAppActor pid=9760)\u001b[0m [Client 2] fit, config: {}\n"
     ]
    },
    {
     "name": "stderr",
     "output_type": "stream",
     "text": [
      "\u001b[36m(ClientAppActor pid=9760)\u001b[0m \u001b[93mWARNING \u001b[0m:   Deprecation Warning: The `client_fn` function must return an instance of `Client`, but an instance of `NumpyClient` was returned. Please use `NumPyClient.to_client()` method to convert it to `Client`.\n"
     ]
    },
    {
     "name": "stdout",
     "output_type": "stream",
     "text": [
      "\u001b[36m(ClientAppActor pid=9760)\u001b[0m Epoch 1: val loss 0.0147, val accuracy 0.8696\n",
      "\u001b[36m(ClientAppActor pid=9760)\u001b[0m Epoch 2: val loss 0.0060, val accuracy 0.9565\n",
      "\u001b[36m(ClientAppActor pid=9760)\u001b[0m Epoch 3: val loss 0.0031, val accuracy 1.0000\n",
      "\u001b[36m(ClientAppActor pid=9760)\u001b[0m Early stopping due to reaching 100% accuracy\n",
      "\u001b[36m(ClientAppActor pid=9758)\u001b[0m Early stopping at epoch 14\n",
      "Server-side evaluation - loss: 0.0170145473546452, accuracy: 0.7870370370370371\n",
      "Best aggregated model saved with accuracy 0.7870370370370371\n",
      "\u001b[36m(ClientAppActor pid=9760)\u001b[0m [Client 4] evaluate, config: {}\n",
      "Server-side evaluation - loss: 0.01352851465344429, accuracy: 0.8333333333333334\n",
      "Best aggregated model saved with accuracy 0.8333333333333334\n",
      "Server-side evaluation - loss: 0.011658104619494191, accuracy: 0.8611111111111112\n",
      "Best aggregated model saved with accuracy 0.8611111111111112\n",
      "Server-side evaluation - loss: 0.012631053863852113, accuracy: 0.8518518518518519\n",
      "Server-side evaluation - loss: 0.00955137527651257, accuracy: 0.8888888888888888\n",
      "Best aggregated model saved with accuracy 0.8888888888888888\n",
      "Server-side evaluation - loss: 0.011537152308004874, accuracy: 0.8796296296296297\n",
      "Server-side evaluation - loss: 0.008708914672886883, accuracy: 0.9074074074074074\n",
      "Best aggregated model saved with accuracy 0.9074074074074074\n",
      "Server-side evaluation - loss: 0.01104910333675367, accuracy: 0.8518518518518519\n",
      "Server-side evaluation - loss: 0.008707471191883087, accuracy: 0.8981481481481481\n",
      "Server-side evaluation - loss: 0.008418021930588616, accuracy: 0.9074074074074074\n",
      "Server-side evaluation - loss: 0.008942063070005841, accuracy: 0.8981481481481481\n",
      "Server-side evaluation - loss: 0.00849217990482295, accuracy: 0.8981481481481481\n",
      "Server-side evaluation - loss: 0.011328778264147264, accuracy: 0.8796296296296297\n",
      "Server-side evaluation - loss: 0.008109785064502998, accuracy: 0.8981481481481481\n",
      "\u001b[36m(ClientAppActor pid=9759)\u001b[0m [Client 0] fit, config: {}\u001b[32m [repeated 74x across cluster]\u001b[0m\n",
      "Server-side evaluation - loss: 0.009312248478333155, accuracy: 0.8796296296296297\n"
     ]
    },
    {
     "name": "stderr",
     "output_type": "stream",
     "text": [
      "\u001b[36m(ClientAppActor pid=9760)\u001b[0m \u001b[93mWARNING \u001b[0m:   Deprecation Warning: The `client_fn` function must return an instance of `Client`, but an instance of `NumpyClient` was returned. Please use `NumPyClient.to_client()` method to convert it to `Client`.\u001b[32m [repeated 146x across cluster]\u001b[0m\n"
     ]
    },
    {
     "name": "stdout",
     "output_type": "stream",
     "text": [
      "Server-side evaluation - loss: 0.008265354567103915, accuracy: 0.8981481481481481\n",
      "\u001b[36m(ClientAppActor pid=9760)\u001b[0m Epoch 8: val loss 0.0508, val accuracy 0.9000\u001b[32m [repeated 434x across cluster]\u001b[0m\n",
      "\u001b[36m(ClientAppActor pid=9757)\u001b[0m Early stopping due to reaching 100% accuracy\u001b[32m [repeated 59x across cluster]\u001b[0m\n",
      "Server-side evaluation - loss: 0.010174576469041683, accuracy: 0.8888888888888888\n",
      "\u001b[36m(ClientAppActor pid=9760)\u001b[0m Early stopping at epoch 12\u001b[32m [repeated 19x across cluster]\u001b[0m\n",
      "Server-side evaluation - loss: 0.009640944500764212, accuracy: 0.8796296296296297\n",
      "\u001b[36m(ClientAppActor pid=9760)\u001b[0m [Client 3] evaluate, config: {}\u001b[32m [repeated 85x across cluster]\u001b[0m\n",
      "Server-side evaluation - loss: 0.009840223248358126, accuracy: 0.8981481481481481\n",
      "Server-side evaluation - loss: 0.0093397896874834, accuracy: 0.8981481481481481\n",
      "Server-side evaluation - loss: 0.0084742720204371, accuracy: 0.9074074074074074\n",
      "Server-side evaluation - loss: 0.009420638972962345, accuracy: 0.8981481481481481\n",
      "Server-side evaluation - loss: 0.008102981580628289, accuracy: 0.9166666666666666\n",
      "Best aggregated model saved with accuracy 0.9166666666666666\n",
      "Server-side evaluation - loss: 0.008273515436384413, accuracy: 0.9074074074074074\n",
      "Server-side evaluation - loss: 0.008741925987932418, accuracy: 0.8888888888888888\n",
      "Server-side evaluation - loss: 0.008886921391994864, accuracy: 0.8981481481481481\n",
      "Server-side evaluation - loss: 0.009100153421362242, accuracy: 0.8981481481481481\n",
      "Server-side evaluation - loss: 0.008727256760553078, accuracy: 0.8981481481481481\n",
      "Server-side evaluation - loss: 0.012041566962445224, accuracy: 0.8703703703703703\n",
      "Server-side evaluation - loss: 0.009837853135886017, accuracy: 0.8796296296296297\n",
      "Server-side evaluation - loss: 0.008671232257728223, accuracy: 0.9074074074074074\n",
      "Server-side evaluation - loss: 0.009637868928688544, accuracy: 0.8981481481481481\n",
      "Server-side evaluation - loss: 0.009530675494008593, accuracy: 0.8796296296296297\n",
      "Server-side evaluation - loss: 0.009054611471516115, accuracy: 0.8981481481481481\n",
      "Server-side evaluation - loss: 0.009840941125596012, accuracy: 0.9074074074074074\n",
      "\u001b[36m(ClientAppActor pid=9760)\u001b[0m [Client 1] fit, config: {}\u001b[32m [repeated 101x across cluster]\u001b[0m\n",
      "Server-side evaluation - loss: 0.009211723451261167, accuracy: 0.9074074074074074\n",
      "Server-side evaluation - loss: 0.00910710322636145, accuracy: 0.8888888888888888\n"
     ]
    },
    {
     "name": "stderr",
     "output_type": "stream",
     "text": [
      "\u001b[36m(ClientAppActor pid=9760)\u001b[0m \u001b[93mWARNING \u001b[0m:   Deprecation Warning: The `client_fn` function must return an instance of `Client`, but an instance of `NumpyClient` was returned. Please use `NumPyClient.to_client()` method to convert it to `Client`.\u001b[32m [repeated 209x across cluster]\u001b[0m\n"
     ]
    },
    {
     "name": "stdout",
     "output_type": "stream",
     "text": [
      "Server-side evaluation - loss: 0.010957626280961212, accuracy: 0.8981481481481481\n",
      "\u001b[36m(ClientAppActor pid=9757)\u001b[0m Epoch 5: val loss 0.0041, val accuracy 0.9565\u001b[32m [repeated 362x across cluster]\u001b[0m\n",
      "\u001b[36m(ClientAppActor pid=9759)\u001b[0m Early stopping due to reaching 100% accuracy\u001b[32m [repeated 83x across cluster]\u001b[0m\n",
      "\u001b[36m(ClientAppActor pid=9756)\u001b[0m Early stopping at epoch 7\u001b[32m [repeated 23x across cluster]\u001b[0m\n",
      "Server-side evaluation - loss: 0.010114565629650045, accuracy: 0.8888888888888888\n",
      "\u001b[36m(ClientAppActor pid=9759)\u001b[0m [Client 1] evaluate, config: {}\u001b[32m [repeated 109x across cluster]\u001b[0m\n",
      "Server-side evaluation - loss: 0.009192736750399624, accuracy: 0.8981481481481481\n",
      "Server-side evaluation - loss: 0.010138436600014015, accuracy: 0.8981481481481481\n",
      "Server-side evaluation - loss: 0.009553245924137256, accuracy: 0.8888888888888888\n",
      "Server-side evaluation - loss: 0.010497793693233419, accuracy: 0.8981481481481481\n",
      "Server-side evaluation - loss: 0.012620130070933589, accuracy: 0.8888888888888888\n",
      "Server-side evaluation - loss: 0.011571068247711216, accuracy: 0.8888888888888888\n",
      "Server-side evaluation - loss: 0.009752556267711852, accuracy: 0.8981481481481481\n",
      "Server-side evaluation - loss: 0.009919985438938494, accuracy: 0.9074074074074074\n",
      "Server-side evaluation - loss: 0.009980986515680948, accuracy: 0.9074074074074074\n",
      "Server-side evaluation - loss: 0.009675267531915947, accuracy: 0.8888888888888888\n",
      "Server-side evaluation - loss: 0.011158711104481309, accuracy: 0.8796296296296297\n",
      "Aggregated model evaluation - loss: 0.008102981580628289, accuracy: 0.9166666666666666, precision: 0.8970588235294118, recall: 0.9682539682539683, f1: 0.9312977099236641\n",
      "Seed 26/30\n",
      "\u001b[36m(ClientAppActor pid=9759)\u001b[0m [Client 3] fit, config: {}\u001b[32m [repeated 74x across cluster]\u001b[0m\n",
      "\u001b[36m(ClientAppActor pid=9758)\u001b[0m Epoch 6: val loss 0.0015, val accuracy 1.0000\u001b[32m [repeated 180x across cluster]\u001b[0m\n",
      "\u001b[36m(ClientAppActor pid=9758)\u001b[0m Early stopping due to reaching 100% accuracy\u001b[32m [repeated 46x across cluster]\u001b[0m\n",
      "\u001b[36m(ClientAppActor pid=9760)\u001b[0m Early stopping at epoch 7\u001b[32m [repeated 15x across cluster]\u001b[0m\n",
      "\u001b[36m(ClientAppActor pid=9759)\u001b[0m [Client 3] evaluate, config: {}\u001b[32m [repeated 55x across cluster]\u001b[0m\n"
     ]
    },
    {
     "name": "stderr",
     "output_type": "stream",
     "text": [
      "\u001b[36m(ClientAppActor pid=9759)\u001b[0m \u001b[93mWARNING \u001b[0m:   Deprecation Warning: The `client_fn` function must return an instance of `Client`, but an instance of `NumpyClient` was returned. Please use `NumPyClient.to_client()` method to convert it to `Client`.\u001b[32m [repeated 144x across cluster]\u001b[0m\n",
      "2024-08-03 02:15:17,623\tINFO worker.py:1752 -- Started a local Ray instance.\n"
     ]
    },
    {
     "name": "stdout",
     "output_type": "stream",
     "text": [
      "Server-side evaluation - loss: 0.026059589452213712, accuracy: 0.4351851851851852\n",
      "Best aggregated model saved with accuracy 0.4351851851851852\n"
     ]
    },
    {
     "name": "stderr",
     "output_type": "stream",
     "text": [
      "\u001b[36m(ClientAppActor pid=9797)\u001b[0m \u001b[93mWARNING \u001b[0m:   Deprecation Warning: The `client_fn` function must return an instance of `Client`, but an instance of `NumpyClient` was returned. Please use `NumPyClient.to_client()` method to convert it to `Client`.\n"
     ]
    },
    {
     "name": "stdout",
     "output_type": "stream",
     "text": [
      "\u001b[36m(ClientAppActor pid=9793)\u001b[0m [Client 3] fit, config: {}\n",
      "\u001b[36m(ClientAppActor pid=9793)\u001b[0m Epoch 1: val loss 0.0189, val accuracy 0.9048\n",
      "\u001b[36m(ClientAppActor pid=9793)\u001b[0m Early stopping at epoch 8\n",
      "\u001b[36m(ClientAppActor pid=9796)\u001b[0m Early stopping due to reaching 100% accuracy\n",
      "Server-side evaluation - loss: 0.020185556124757836, accuracy: 0.75\n",
      "Best aggregated model saved with accuracy 0.75\n",
      "\u001b[36m(ClientAppActor pid=9793)\u001b[0m [Client 2] evaluate, config: {}\n",
      "\u001b[36m(ClientAppActor pid=9796)\u001b[0m Early stopping due to reaching 100% accuracy\n",
      "Server-side evaluation - loss: 0.016775375990955917, accuracy: 0.7870370370370371\n",
      "Best aggregated model saved with accuracy 0.7870370370370371\n",
      "Server-side evaluation - loss: 0.014175462502020376, accuracy: 0.7962962962962963\n",
      "Best aggregated model saved with accuracy 0.7962962962962963\n",
      "Server-side evaluation - loss: 0.013473429889590651, accuracy: 0.8055555555555556\n",
      "Best aggregated model saved with accuracy 0.8055555555555556\n",
      "Server-side evaluation - loss: 0.013360063510912436, accuracy: 0.8148148148148148\n",
      "Best aggregated model saved with accuracy 0.8148148148148148\n",
      "Server-side evaluation - loss: 0.013192975686656104, accuracy: 0.8333333333333334\n",
      "Best aggregated model saved with accuracy 0.8333333333333334\n",
      "Server-side evaluation - loss: 0.012180318710980591, accuracy: 0.8333333333333334\n",
      "Server-side evaluation - loss: 0.011419861404984086, accuracy: 0.8518518518518519\n",
      "Best aggregated model saved with accuracy 0.8518518518518519\n",
      "Server-side evaluation - loss: 0.013168863676212452, accuracy: 0.8240740740740741\n",
      "Server-side evaluation - loss: 0.013294837265102952, accuracy: 0.8240740740740741\n",
      "Server-side evaluation - loss: 0.013171107956656703, accuracy: 0.8518518518518519\n",
      "Server-side evaluation - loss: 0.013025959056836588, accuracy: 0.8703703703703703\n",
      "Best aggregated model saved with accuracy 0.8703703703703703\n",
      "Server-side evaluation - loss: 0.011735831697781881, accuracy: 0.9074074074074074\n",
      "Best aggregated model saved with accuracy 0.9074074074074074\n",
      "Server-side evaluation - loss: 0.013628308557801776, accuracy: 0.8703703703703703\n",
      "Server-side evaluation - loss: 0.012344371389459681, accuracy: 0.8703703703703703\n",
      "\u001b[36m(ClientAppActor pid=9794)\u001b[0m [Client 2] fit, config: {}\u001b[32m [repeated 74x across cluster]\u001b[0m\n"
     ]
    },
    {
     "name": "stderr",
     "output_type": "stream",
     "text": [
      "\u001b[36m(ClientAppActor pid=9797)\u001b[0m \u001b[93mWARNING \u001b[0m:   Deprecation Warning: The `client_fn` function must return an instance of `Client`, but an instance of `NumpyClient` was returned. Please use `NumPyClient.to_client()` method to convert it to `Client`.\u001b[32m [repeated 145x across cluster]\u001b[0m\n"
     ]
    },
    {
     "name": "stdout",
     "output_type": "stream",
     "text": [
      "Server-side evaluation - loss: 0.013498637135382052, accuracy: 0.8703703703703703\n",
      "\u001b[36m(ClientAppActor pid=9793)\u001b[0m Epoch 6: val loss 0.0045, val accuracy 1.0000\u001b[32m [repeated 462x across cluster]\u001b[0m\n",
      "Server-side evaluation - loss: 0.011687486811920448, accuracy: 0.8981481481481481\n",
      "\u001b[36m(ClientAppActor pid=9795)\u001b[0m Early stopping at epoch 7\u001b[32m [repeated 42x across cluster]\u001b[0m\n",
      "\u001b[36m(ClientAppActor pid=9793)\u001b[0m Early stopping due to reaching 100% accuracy\u001b[32m [repeated 35x across cluster]\u001b[0m\n",
      "Server-side evaluation - loss: 0.01101017122467359, accuracy: 0.8981481481481481\n",
      "\u001b[36m(ClientAppActor pid=9797)\u001b[0m [Client 4] evaluate, config: {}\u001b[32m [repeated 89x across cluster]\u001b[0m\n",
      "Server-side evaluation - loss: 0.012299103317437348, accuracy: 0.8981481481481481\n",
      "Server-side evaluation - loss: 0.011604483756754134, accuracy: 0.8981481481481481\n",
      "Server-side evaluation - loss: 0.011518683146547389, accuracy: 0.8981481481481481\n",
      "Server-side evaluation - loss: 0.013021088860653065, accuracy: 0.8796296296296297\n",
      "Server-side evaluation - loss: 0.012540641482229586, accuracy: 0.8703703703703703\n",
      "Server-side evaluation - loss: 0.01157790588008033, accuracy: 0.8888888888888888\n",
      "Server-side evaluation - loss: 0.011311801219428028, accuracy: 0.8796296296296297\n",
      "Server-side evaluation - loss: 0.011440908743275536, accuracy: 0.8796296296296297\n",
      "\u001b[36m(ClientAppActor pid=9796)\u001b[0m \n",
      "Server-side evaluation - loss: 0.012421008889321928, accuracy: 0.8888888888888888\n",
      "Server-side evaluation - loss: 0.011205230598096494, accuracy: 0.8888888888888888\n",
      "Server-side evaluation - loss: 0.012314248140211459, accuracy: 0.8888888888888888\n",
      "Server-side evaluation - loss: 0.011441815782476354, accuracy: 0.8888888888888888\n",
      "Server-side evaluation - loss: 0.012507026394208273, accuracy: 0.8796296296296297\n",
      "Server-side evaluation - loss: 0.011660180434032722, accuracy: 0.8796296296296297\n",
      "Server-side evaluation - loss: 0.01200350484362355, accuracy: 0.8888888888888888\n",
      "Server-side evaluation - loss: 0.01221593138244417, accuracy: 0.8888888888888888\n",
      "Server-side evaluation - loss: 0.012017825687373127, accuracy: 0.8796296296296297\n",
      "Server-side evaluation - loss: 0.012676322901690448, accuracy: 0.8796296296296297\n",
      "\u001b[36m(ClientAppActor pid=9793)\u001b[0m [Client 4] fit, config: {}\u001b[32m [repeated 106x across cluster]\u001b[0m\n"
     ]
    },
    {
     "name": "stderr",
     "output_type": "stream",
     "text": [
      "\u001b[36m(ClientAppActor pid=9797)\u001b[0m \u001b[93mWARNING \u001b[0m:   Deprecation Warning: The `client_fn` function must return an instance of `Client`, but an instance of `NumpyClient` was returned. Please use `NumPyClient.to_client()` method to convert it to `Client`.\u001b[32m [repeated 211x across cluster]\u001b[0m\n"
     ]
    },
    {
     "name": "stdout",
     "output_type": "stream",
     "text": [
      "Server-side evaluation - loss: 0.011373674428021466, accuracy: 0.8796296296296297\n",
      "Server-side evaluation - loss: 0.012736539321917074, accuracy: 0.8796296296296297\n",
      "\u001b[36m(ClientAppActor pid=9793)\u001b[0m Epoch 6: val loss 0.0117, val accuracy 0.9524\u001b[32m [repeated 324x across cluster]\u001b[0m\n",
      "\u001b[36m(ClientAppActor pid=9794)\u001b[0m Early stopping at epoch 7\u001b[32m [repeated 43x across cluster]\u001b[0m\n",
      "\u001b[36m(ClientAppActor pid=9793)\u001b[0m Early stopping due to reaching 100% accuracy\u001b[32m [repeated 64x across cluster]\u001b[0m\n",
      "Server-side evaluation - loss: 0.011649593572925639, accuracy: 0.8888888888888888\n",
      "\u001b[36m(ClientAppActor pid=9795)\u001b[0m [Client 3] evaluate, config: {}\u001b[32m [repeated 105x across cluster]\u001b[0m\n",
      "Server-side evaluation - loss: 0.012666734280409637, accuracy: 0.8796296296296297\n",
      "Server-side evaluation - loss: 0.012112778370027189, accuracy: 0.8888888888888888\n",
      "Server-side evaluation - loss: 0.0119892375336753, accuracy: 0.8888888888888888\n",
      "Server-side evaluation - loss: 0.01251032065462183, accuracy: 0.8981481481481481\n",
      "Server-side evaluation - loss: 0.013258963547371052, accuracy: 0.8981481481481481\n",
      "Server-side evaluation - loss: 0.01270656563617565, accuracy: 0.8888888888888888\n",
      "Server-side evaluation - loss: 0.012856246696578132, accuracy: 0.8888888888888888\n",
      "Server-side evaluation - loss: 0.01287512453617873, accuracy: 0.8888888888888888\n",
      "Server-side evaluation - loss: 0.01273030291001002, accuracy: 0.8888888888888888\n",
      "Server-side evaluation - loss: 0.013244605588692206, accuracy: 0.8703703703703703\n",
      "Server-side evaluation - loss: 0.013676631229895132, accuracy: 0.8796296296296297\n",
      "Aggregated model evaluation - loss: 0.011735831697781881, accuracy: 0.9074074074074074, precision: 0.8955223880597015, recall: 0.9523809523809523, f1: 0.9230769230769231\n",
      "Seed 27/30\n",
      "\u001b[36m(ClientAppActor pid=9795)\u001b[0m [Client 2] fit, config: {}\u001b[32m [repeated 69x across cluster]\u001b[0m\n",
      "\u001b[36m(ClientAppActor pid=9794)\u001b[0m Epoch 6: val loss 0.0655, val accuracy 0.8750\u001b[32m [repeated 191x across cluster]\u001b[0m\n",
      "\u001b[36m(ClientAppActor pid=9794)\u001b[0m Early stopping at epoch 7\u001b[32m [repeated 24x across cluster]\u001b[0m\n",
      "\u001b[36m(ClientAppActor pid=9795)\u001b[0m Early stopping due to reaching 100% accuracy\u001b[32m [repeated 35x across cluster]\u001b[0m\n",
      "\u001b[36m(ClientAppActor pid=9795)\u001b[0m [Client 2] evaluate, config: {}\u001b[32m [repeated 55x across cluster]\u001b[0m\n"
     ]
    },
    {
     "name": "stderr",
     "output_type": "stream",
     "text": [
      "\u001b[36m(ClientAppActor pid=9794)\u001b[0m \u001b[93mWARNING \u001b[0m:   Deprecation Warning: The `client_fn` function must return an instance of `Client`, but an instance of `NumpyClient` was returned. Please use `NumPyClient.to_client()` method to convert it to `Client`.\u001b[32m [repeated 143x across cluster]\u001b[0m\n",
      "2024-08-03 02:15:36,546\tINFO worker.py:1752 -- Started a local Ray instance.\n"
     ]
    },
    {
     "name": "stdout",
     "output_type": "stream",
     "text": [
      "Server-side evaluation - loss: 0.025755288976210135, accuracy: 0.4722222222222222\n",
      "Best aggregated model saved with accuracy 0.4722222222222222\n"
     ]
    },
    {
     "name": "stderr",
     "output_type": "stream",
     "text": [
      "\u001b[36m(ClientAppActor pid=9841)\u001b[0m \u001b[93mWARNING \u001b[0m:   Deprecation Warning: The `client_fn` function must return an instance of `Client`, but an instance of `NumpyClient` was returned. Please use `NumPyClient.to_client()` method to convert it to `Client`.\n"
     ]
    },
    {
     "name": "stdout",
     "output_type": "stream",
     "text": [
      "\u001b[36m(ClientAppActor pid=9840)\u001b[0m [Client 4] fit, config: {}\n",
      "\u001b[36m(ClientAppActor pid=9840)\u001b[0m Epoch 1: val loss 0.0283, val accuracy 0.7500\n",
      "\u001b[36m(ClientAppActor pid=9840)\u001b[0m Epoch 2: val loss 0.0228, val accuracy 0.8500\n",
      "\u001b[36m(ClientAppActor pid=9840)\u001b[0m Epoch 3: val loss 0.0198, val accuracy 0.9000\n",
      "\u001b[36m(ClientAppActor pid=9840)\u001b[0m Epoch 4: val loss 0.0188, val accuracy 0.9000\n",
      "\u001b[36m(ClientAppActor pid=9840)\u001b[0m Epoch 5: val loss 0.0184, val accuracy 0.9000\n",
      "\u001b[36m(ClientAppActor pid=9840)\u001b[0m Epoch 6: val loss 0.0171, val accuracy 0.9000\n",
      "\u001b[36m(ClientAppActor pid=9841)\u001b[0m Early stopping due to reaching 100% accuracy\n",
      "\u001b[36m(ClientAppActor pid=9839)\u001b[0m Early stopping at epoch 7\n",
      "Server-side evaluation - loss: 0.02357464145731043, accuracy: 0.75\n",
      "Best aggregated model saved with accuracy 0.75\n",
      "\u001b[36m(ClientAppActor pid=9840)\u001b[0m [Client 1] evaluate, config: {}\n",
      "Server-side evaluation - loss: 0.020556646640653962, accuracy: 0.7407407407407407\n",
      "Server-side evaluation - loss: 0.019575254370768864, accuracy: 0.8055555555555556\n",
      "Best aggregated model saved with accuracy 0.8055555555555556\n",
      "Server-side evaluation - loss: 0.023126773398231576, accuracy: 0.7870370370370371\n",
      "Server-side evaluation - loss: 0.022464455277831467, accuracy: 0.7870370370370371\n",
      "Server-side evaluation - loss: 0.02198946365603694, accuracy: 0.7962962962962963\n",
      "Server-side evaluation - loss: 0.02060530914200677, accuracy: 0.7870370370370371\n",
      "Server-side evaluation - loss: 0.020669064312069503, accuracy: 0.7962962962962963\n",
      "Server-side evaluation - loss: 0.020351639224423304, accuracy: 0.8055555555555556\n",
      "Server-side evaluation - loss: 0.01812284329423198, accuracy: 0.7962962962962963\n",
      "Server-side evaluation - loss: 0.02304155427824568, accuracy: 0.8055555555555556\n",
      "Server-side evaluation - loss: 0.02013781018279217, accuracy: 0.7962962962962963\n",
      "Server-side evaluation - loss: 0.019550924637803325, accuracy: 0.8148148148148148\n",
      "Best aggregated model saved with accuracy 0.8148148148148148\n",
      "Server-side evaluation - loss: 0.018542734285195667, accuracy: 0.8148148148148148\n",
      "\u001b[36m(ClientAppActor pid=9840)\u001b[0m [Client 4] fit, config: {}\u001b[32m [repeated 69x across cluster]\u001b[0m\n"
     ]
    },
    {
     "name": "stderr",
     "output_type": "stream",
     "text": [
      "\u001b[36m(ClientAppActor pid=9841)\u001b[0m \u001b[93mWARNING \u001b[0m:   Deprecation Warning: The `client_fn` function must return an instance of `Client`, but an instance of `NumpyClient` was returned. Please use `NumPyClient.to_client()` method to convert it to `Client`.\u001b[32m [repeated 136x across cluster]\u001b[0m\n"
     ]
    },
    {
     "name": "stdout",
     "output_type": "stream",
     "text": [
      "Server-side evaluation - loss: 0.02400577082126229, accuracy: 0.8055555555555556\n",
      "Server-side evaluation - loss: 0.02047919523384836, accuracy: 0.8240740740740741\n",
      "Best aggregated model saved with accuracy 0.8240740740740741\n",
      "Server-side evaluation - loss: 0.022760952926344342, accuracy: 0.8333333333333334\n",
      "Best aggregated model saved with accuracy 0.8333333333333334\n",
      "\u001b[36m(ClientAppActor pid=9840)\u001b[0m Epoch 7: val loss 0.0163, val accuracy 0.9000\u001b[32m [repeated 430x across cluster]\u001b[0m\n",
      "\u001b[36m(ClientAppActor pid=9839)\u001b[0m Early stopping due to reaching 100% accuracy\u001b[32m [repeated 49x across cluster]\u001b[0m\n",
      "\u001b[36m(ClientAppActor pid=9840)\u001b[0m Early stopping at epoch 8\u001b[32m [repeated 30x across cluster]\u001b[0m\n",
      "Server-side evaluation - loss: 0.024563700512603478, accuracy: 0.8055555555555556\n",
      "\u001b[36m(ClientAppActor pid=9839)\u001b[0m [Client 1] evaluate, config: {}\u001b[32m [repeated 89x across cluster]\u001b[0m\n",
      "Server-side evaluation - loss: 0.02846626137141828, accuracy: 0.8240740740740741\n",
      "Server-side evaluation - loss: 0.033128823119181174, accuracy: 0.8333333333333334\n",
      "Server-side evaluation - loss: 0.03657390053073565, accuracy: 0.8333333333333334\n",
      "Server-side evaluation - loss: 0.030077721509668563, accuracy: 0.8333333333333334\n",
      "Server-side evaluation - loss: 0.026635295263043157, accuracy: 0.8425925925925926\n",
      "Best aggregated model saved with accuracy 0.8425925925925926\n",
      "Server-side evaluation - loss: 0.038127728358463, accuracy: 0.8240740740740741\n",
      "Server-side evaluation - loss: 0.03627445990288699, accuracy: 0.8240740740740741\n",
      "Server-side evaluation - loss: 0.03538026260556998, accuracy: 0.8333333333333334\n",
      "Server-side evaluation - loss: 0.03905386201761387, accuracy: 0.8333333333333334\n",
      "Server-side evaluation - loss: 0.04650871276303574, accuracy: 0.8055555555555556\n",
      "Server-side evaluation - loss: 0.03883991969956292, accuracy: 0.8240740740740741\n",
      "Server-side evaluation - loss: 0.04471313442896913, accuracy: 0.8333333333333334\n",
      "Server-side evaluation - loss: 0.03246802008814282, accuracy: 0.8425925925925926\n",
      "\u001b[36m(ClientAppActor pid=9839)\u001b[0m [Client 0] fit, config: {}\u001b[32m [repeated 90x across cluster]\u001b[0m\n",
      "Server-side evaluation - loss: 0.04276165945662393, accuracy: 0.8148148148148148\n"
     ]
    },
    {
     "name": "stderr",
     "output_type": "stream",
     "text": [
      "\u001b[36m(ClientAppActor pid=9841)\u001b[0m \u001b[93mWARNING \u001b[0m:   Deprecation Warning: The `client_fn` function must return an instance of `Client`, but an instance of `NumpyClient` was returned. Please use `NumPyClient.to_client()` method to convert it to `Client`.\u001b[32m [repeated 180x across cluster]\u001b[0m\n"
     ]
    },
    {
     "name": "stdout",
     "output_type": "stream",
     "text": [
      "Server-side evaluation - loss: 0.04001274898096367, accuracy: 0.8333333333333334\n",
      "Server-side evaluation - loss: 0.0503386235623448, accuracy: 0.8055555555555556\n",
      "\u001b[36m(ClientAppActor pid=9840)\u001b[0m Epoch 7: val loss 0.0228, val accuracy 0.9000\u001b[32m [repeated 403x across cluster]\u001b[0m\n",
      "\u001b[36m(ClientAppActor pid=9842)\u001b[0m Early stopping due to reaching 100% accuracy\u001b[32m [repeated 46x across cluster]\u001b[0m\n",
      "\u001b[36m(ClientAppActor pid=9839)\u001b[0m Early stopping at epoch 9\u001b[32m [repeated 41x across cluster]\u001b[0m\n",
      "Server-side evaluation - loss: 0.04847468932469686, accuracy: 0.8240740740740741\n",
      "\u001b[36m(ClientAppActor pid=9839)\u001b[0m [Client 4] evaluate, config: {}\u001b[32m [repeated 85x across cluster]\u001b[0m\n",
      "Server-side evaluation - loss: 0.05606961802200035, accuracy: 0.8148148148148148\n",
      "Server-side evaluation - loss: 0.055473032924864024, accuracy: 0.8240740740740741\n",
      "Server-side evaluation - loss: 0.05623486582879667, accuracy: 0.8240740740740741\n",
      "Server-side evaluation - loss: 0.05219397252356565, accuracy: 0.8240740740740741\n",
      "Server-side evaluation - loss: 0.06239831640764519, accuracy: 0.8240740740740741\n",
      "Server-side evaluation - loss: 0.04807870117602525, accuracy: 0.8240740740740741\n",
      "Server-side evaluation - loss: 0.053577666757283385, accuracy: 0.8333333333333334\n",
      "Server-side evaluation - loss: 0.050689860350555845, accuracy: 0.8425925925925926\n",
      "Server-side evaluation - loss: 0.05652827134838811, accuracy: 0.8425925925925926\n",
      "Server-side evaluation - loss: 0.059929826469333085, accuracy: 0.8240740740740741\n",
      "Server-side evaluation - loss: 0.06210582068672887, accuracy: 0.8333333333333334\n",
      "Server-side evaluation - loss: 0.0463614488641421, accuracy: 0.8148148148148148\n",
      "Server-side evaluation - loss: 0.05652190137792517, accuracy: 0.8240740740740741\n",
      "Server-side evaluation - loss: 0.056457683719970564, accuracy: 0.8148148148148148\n",
      "\u001b[36m(ClientAppActor pid=9839)\u001b[0m [Client 1] fit, config: {}\u001b[32m [repeated 85x across cluster]\u001b[0m\n"
     ]
    },
    {
     "name": "stderr",
     "output_type": "stream",
     "text": [
      "\u001b[36m(ClientAppActor pid=9841)\u001b[0m \u001b[93mWARNING \u001b[0m:   Deprecation Warning: The `client_fn` function must return an instance of `Client`, but an instance of `NumpyClient` was returned. Please use `NumPyClient.to_client()` method to convert it to `Client`.\u001b[32m [repeated 170x across cluster]\u001b[0m\n"
     ]
    },
    {
     "name": "stdout",
     "output_type": "stream",
     "text": [
      "Server-side evaluation - loss: 0.06443484955363804, accuracy: 0.8333333333333334\n",
      "Aggregated model evaluation - loss: 0.026635295263043157, accuracy: 0.8425925925925926, precision: 0.8108108108108109, recall: 0.9523809523809523, f1: 0.8759124087591241\n",
      "Seed 28/30\n",
      "\u001b[36m(ClientAppActor pid=9840)\u001b[0m Epoch 12: val loss 0.0290, val accuracy 0.9000\u001b[32m [repeated 350x across cluster]\u001b[0m\n",
      "\u001b[36m(ClientAppActor pid=9839)\u001b[0m Early stopping due to reaching 100% accuracy\u001b[32m [repeated 46x across cluster]\u001b[0m\n",
      "\u001b[36m(ClientAppActor pid=9840)\u001b[0m Early stopping at epoch 13\u001b[32m [repeated 33x across cluster]\u001b[0m\n",
      "\u001b[36m(ClientAppActor pid=9840)\u001b[0m [Client 3] evaluate, config: {}\u001b[32m [repeated 71x across cluster]\u001b[0m\n",
      "\u001b[36m(ClientAppActor pid=9839)\u001b[0m [Client 0] fit, config: {}\u001b[32m [repeated 5x across cluster]\u001b[0m\n"
     ]
    },
    {
     "name": "stderr",
     "output_type": "stream",
     "text": [
      "\u001b[36m(ClientAppActor pid=9840)\u001b[0m \u001b[93mWARNING \u001b[0m:   Deprecation Warning: The `client_fn` function must return an instance of `Client`, but an instance of `NumpyClient` was returned. Please use `NumPyClient.to_client()` method to convert it to `Client`.\u001b[32m [repeated 9x across cluster]\u001b[0m\n",
      "2024-08-03 02:15:57,164\tINFO worker.py:1752 -- Started a local Ray instance.\n"
     ]
    },
    {
     "name": "stdout",
     "output_type": "stream",
     "text": [
      "Server-side evaluation - loss: 0.02578151943507018, accuracy: 0.4537037037037037\n",
      "Best aggregated model saved with accuracy 0.4537037037037037\n"
     ]
    },
    {
     "name": "stderr",
     "output_type": "stream",
     "text": [
      "\u001b[36m(ClientAppActor pid=9882)\u001b[0m \u001b[93mWARNING \u001b[0m:   Deprecation Warning: The `client_fn` function must return an instance of `Client`, but an instance of `NumpyClient` was returned. Please use `NumPyClient.to_client()` method to convert it to `Client`.\n"
     ]
    },
    {
     "name": "stdout",
     "output_type": "stream",
     "text": [
      "\u001b[36m(ClientAppActor pid=9882)\u001b[0m [Client 3] fit, config: {}\n",
      "\u001b[36m(ClientAppActor pid=9882)\u001b[0m Epoch 1: val loss 0.0180, val accuracy 0.8571\n",
      "\u001b[36m(ClientAppActor pid=9882)\u001b[0m Epoch 2: val loss 0.0227, val accuracy 0.8571\n",
      "\u001b[36m(ClientAppActor pid=9882)\u001b[0m Epoch 3: val loss 0.0182, val accuracy 0.8571\n",
      "\u001b[36m(ClientAppActor pid=9880)\u001b[0m Early stopping due to reaching 100% accuracy\n",
      "\u001b[36m(ClientAppActor pid=9882)\u001b[0m Early stopping at epoch 19\n",
      "Server-side evaluation - loss: 0.01768311389066555, accuracy: 0.7777777777777778\n",
      "Best aggregated model saved with accuracy 0.7777777777777778\n",
      "\u001b[36m(ClientAppActor pid=9882)\u001b[0m [Client 1] evaluate, config: {}\n",
      "Server-side evaluation - loss: 0.016285164212739026, accuracy: 0.8148148148148148\n",
      "Best aggregated model saved with accuracy 0.8148148148148148\n",
      "Server-side evaluation - loss: 0.016840338982917643, accuracy: 0.8611111111111112\n",
      "Best aggregated model saved with accuracy 0.8611111111111112\n",
      "Server-side evaluation - loss: 0.016611560627266212, accuracy: 0.8425925925925926\n",
      "Server-side evaluation - loss: 0.011761374357673857, accuracy: 0.8796296296296297\n",
      "Best aggregated model saved with accuracy 0.8796296296296297\n",
      "Server-side evaluation - loss: 0.018970897490227664, accuracy: 0.8425925925925926\n",
      "Server-side evaluation - loss: 0.011968195576358724, accuracy: 0.8796296296296297\n",
      "Server-side evaluation - loss: 0.011012737535768084, accuracy: 0.8981481481481481\n",
      "Best aggregated model saved with accuracy 0.8981481481481481\n",
      "Server-side evaluation - loss: 0.011421322270675941, accuracy: 0.8888888888888888\n",
      "Server-side evaluation - loss: 0.010391757582072858, accuracy: 0.8796296296296297\n",
      "\u001b[36m(ClientAppActor pid=9883)\u001b[0m [Client 1] fit, config: {}\u001b[32m [repeated 54x across cluster]\u001b[0m\n",
      "Server-side evaluation - loss: 0.010201633114505696, accuracy: 0.8888888888888888\n"
     ]
    },
    {
     "name": "stderr",
     "output_type": "stream",
     "text": [
      "\u001b[36m(ClientAppActor pid=9882)\u001b[0m \u001b[93mWARNING \u001b[0m:   Deprecation Warning: The `client_fn` function must return an instance of `Client`, but an instance of `NumpyClient` was returned. Please use `NumPyClient.to_client()` method to convert it to `Client`.\u001b[32m [repeated 105x across cluster]\u001b[0m\n"
     ]
    },
    {
     "name": "stdout",
     "output_type": "stream",
     "text": [
      "Server-side evaluation - loss: 0.010911395359370444, accuracy: 0.8888888888888888\n",
      "\u001b[36m(ClientAppActor pid=9882)\u001b[0m Epoch 11: val loss 0.0024, val accuracy 1.0000\u001b[32m [repeated 477x across cluster]\u001b[0m\n",
      "\u001b[36m(ClientAppActor pid=9882)\u001b[0m Early stopping due to reaching 100% accuracy\u001b[32m [repeated 39x across cluster]\u001b[0m\n",
      "Server-side evaluation - loss: 0.011957933091455035, accuracy: 0.8703703703703703\n",
      "\u001b[36m(ClientAppActor pid=9879)\u001b[0m Early stopping at epoch 8\u001b[32m [repeated 18x across cluster]\u001b[0m\n",
      "\u001b[36m(ClientAppActor pid=9883)\u001b[0m [Client 3] evaluate, config: {}\u001b[32m [repeated 64x across cluster]\u001b[0m\n",
      "Server-side evaluation - loss: 0.017242643982172012, accuracy: 0.8796296296296297\n",
      "Server-side evaluation - loss: 0.011564064081068392, accuracy: 0.8796296296296297\n",
      "Server-side evaluation - loss: 0.011232326014174355, accuracy: 0.8981481481481481\n",
      "Server-side evaluation - loss: 0.015810258548568795, accuracy: 0.8796296296296297\n",
      "Server-side evaluation - loss: 0.010524464150269827, accuracy: 0.8888888888888888\n",
      "Server-side evaluation - loss: 0.012685457865397135, accuracy: 0.8796296296296297\n",
      "Server-side evaluation - loss: 0.014683455849687258, accuracy: 0.8796296296296297\n",
      "Server-side evaluation - loss: 0.012052472818780828, accuracy: 0.8796296296296297\n",
      "Server-side evaluation - loss: 0.018375193010325783, accuracy: 0.8703703703703703\n",
      "Server-side evaluation - loss: 0.011693732468066391, accuracy: 0.8703703703703703\n",
      "Server-side evaluation - loss: 0.013417894227637185, accuracy: 0.8796296296296297\n",
      "\u001b[36m(ClientAppActor pid=9883)\u001b[0m [Client 3] fit, config: {}\u001b[32m [repeated 65x across cluster]\u001b[0m\n"
     ]
    },
    {
     "name": "stderr",
     "output_type": "stream",
     "text": [
      "\u001b[36m(ClientAppActor pid=9882)\u001b[0m \u001b[93mWARNING \u001b[0m:   Deprecation Warning: The `client_fn` function must return an instance of `Client`, but an instance of `NumpyClient` was returned. Please use `NumPyClient.to_client()` method to convert it to `Client`.\u001b[32m [repeated 135x across cluster]\u001b[0m\n"
     ]
    },
    {
     "name": "stdout",
     "output_type": "stream",
     "text": [
      "Server-side evaluation - loss: 0.014163089157254607, accuracy: 0.8703703703703703\n",
      "\u001b[36m(ClientAppActor pid=9882)\u001b[0m Epoch 4: val loss 0.0047, val accuracy 0.9583\u001b[32m [repeated 359x across cluster]\u001b[0m\n",
      "\u001b[36m(ClientAppActor pid=9882)\u001b[0m Early stopping due to reaching 100% accuracy\u001b[32m [repeated 35x across cluster]\u001b[0m\n",
      "\u001b[36m(ClientAppActor pid=9879)\u001b[0m Early stopping at epoch 11\u001b[32m [repeated 26x across cluster]\u001b[0m\n",
      "Server-side evaluation - loss: 0.014506931244223207, accuracy: 0.8888888888888888\n",
      "\u001b[36m(ClientAppActor pid=9882)\u001b[0m [Client 0] evaluate, config: {}\u001b[32m [repeated 61x across cluster]\u001b[0m\n",
      "Server-side evaluation - loss: 0.017317012090373923, accuracy: 0.8703703703703703\n",
      "Server-side evaluation - loss: 0.014856521178174901, accuracy: 0.8796296296296297\n",
      "Server-side evaluation - loss: 0.02228574047761935, accuracy: 0.8796296296296297\n",
      "Server-side evaluation - loss: 0.014135649220810996, accuracy: 0.8796296296296297\n",
      "Server-side evaluation - loss: 0.01610758638492337, accuracy: 0.8703703703703703\n",
      "Server-side evaluation - loss: 0.02324945527922224, accuracy: 0.8796296296296297\n",
      "Server-side evaluation - loss: 0.017661837929928745, accuracy: 0.8703703703703703\n",
      "Server-side evaluation - loss: 0.016770334569392382, accuracy: 0.8611111111111112\n",
      "Server-side evaluation - loss: 0.01687666815188196, accuracy: 0.8703703703703703\n",
      "Server-side evaluation - loss: 0.017626993910030083, accuracy: 0.8703703703703703\n",
      "Server-side evaluation - loss: 0.016518190503120422, accuracy: 0.8796296296296297\n",
      "\u001b[36m(ClientAppActor pid=9883)\u001b[0m [Client 4] fit, config: {}\u001b[32m [repeated 70x across cluster]\u001b[0m\n",
      "Server-side evaluation - loss: 0.025146164689902908, accuracy: 0.8888888888888888\n"
     ]
    },
    {
     "name": "stderr",
     "output_type": "stream",
     "text": [
      "\u001b[36m(ClientAppActor pid=9882)\u001b[0m \u001b[93mWARNING \u001b[0m:   Deprecation Warning: The `client_fn` function must return an instance of `Client`, but an instance of `NumpyClient` was returned. Please use `NumPyClient.to_client()` method to convert it to `Client`.\u001b[32m [repeated 136x across cluster]\u001b[0m\n"
     ]
    },
    {
     "name": "stdout",
     "output_type": "stream",
     "text": [
      "\u001b[36m(ClientAppActor pid=9882)\u001b[0m Epoch 20: val loss 0.0027, val accuracy 0.9583\u001b[32m [repeated 375x across cluster]\u001b[0m\n",
      "\u001b[36m(ClientAppActor pid=9883)\u001b[0m Early stopping due to reaching 100% accuracy\u001b[32m [repeated 37x across cluster]\u001b[0m\n",
      "Server-side evaluation - loss: 0.020936257861278677, accuracy: 0.8796296296296297\n",
      "\u001b[36m(ClientAppActor pid=9882)\u001b[0m Early stopping at epoch 12\u001b[32m [repeated 30x across cluster]\u001b[0m\n",
      "\u001b[36m(ClientAppActor pid=9883)\u001b[0m [Client 3] evaluate, config: {}\u001b[32m [repeated 69x across cluster]\u001b[0m\n",
      "Server-side evaluation - loss: 0.01896407703558604, accuracy: 0.8703703703703703\n",
      "Server-side evaluation - loss: 0.020036176950843247, accuracy: 0.8703703703703703\n",
      "Server-side evaluation - loss: 0.0175857894398548, accuracy: 0.8888888888888888\n",
      "Server-side evaluation - loss: 0.019204812193358387, accuracy: 0.8796296296296297\n",
      "Server-side evaluation - loss: 0.02087975831495391, accuracy: 0.8796296296296297\n",
      "Server-side evaluation - loss: 0.018538845634018933, accuracy: 0.8796296296296297\n",
      "Server-side evaluation - loss: 0.02053206041455269, accuracy: 0.8888888888888888\n",
      "Server-side evaluation - loss: 0.021095532647989416, accuracy: 0.8796296296296297\n",
      "Server-side evaluation - loss: 0.022698318792714015, accuracy: 0.8703703703703703\n",
      "Server-side evaluation - loss: 0.025424469262361526, accuracy: 0.8796296296296297\n",
      "\u001b[36m(ClientAppActor pid=9883)\u001b[0m [Client 1] fit, config: {}\u001b[32m [repeated 60x across cluster]\u001b[0m\n",
      "Server-side evaluation - loss: 0.02229787795631974, accuracy: 0.8888888888888888\n",
      "Aggregated model evaluation - loss: 0.011012737535768084, accuracy: 0.8981481481481481, precision: 0.8714285714285714, recall: 0.9682539682539683, f1: 0.9172932330827067\n",
      "Seed 29/30\n",
      "\u001b[36m(ClientAppActor pid=9880)\u001b[0m Epoch 9: val loss 0.0268, val accuracy 0.9524\u001b[32m [repeated 344x across cluster]\u001b[0m\n",
      "\u001b[36m(ClientAppActor pid=9883)\u001b[0m Early stopping due to reaching 100% accuracy\u001b[32m [repeated 27x across cluster]\u001b[0m\n",
      "\u001b[36m(ClientAppActor pid=9880)\u001b[0m Early stopping at epoch 10\u001b[32m [repeated 24x across cluster]\u001b[0m\n",
      "\u001b[36m(ClientAppActor pid=9883)\u001b[0m [Client 4] evaluate, config: {}\u001b[32m [repeated 55x across cluster]\u001b[0m\n"
     ]
    },
    {
     "name": "stderr",
     "output_type": "stream",
     "text": [
      "\u001b[36m(ClientAppActor pid=9881)\u001b[0m \u001b[93mWARNING \u001b[0m:   Deprecation Warning: The `client_fn` function must return an instance of `Client`, but an instance of `NumpyClient` was returned. Please use `NumPyClient.to_client()` method to convert it to `Client`.\u001b[32m [repeated 123x across cluster]\u001b[0m\n",
      "2024-08-03 02:16:22,834\tINFO worker.py:1752 -- Started a local Ray instance.\n"
     ]
    },
    {
     "name": "stdout",
     "output_type": "stream",
     "text": [
      "Server-side evaluation - loss: 0.025949609500390512, accuracy: 0.3148148148148148\n",
      "Best aggregated model saved with accuracy 0.3148148148148148\n"
     ]
    },
    {
     "name": "stderr",
     "output_type": "stream",
     "text": [
      "\u001b[36m(ClientAppActor pid=9930)\u001b[0m \u001b[93mWARNING \u001b[0m:   Deprecation Warning: The `client_fn` function must return an instance of `Client`, but an instance of `NumpyClient` was returned. Please use `NumPyClient.to_client()` method to convert it to `Client`.\n"
     ]
    },
    {
     "name": "stdout",
     "output_type": "stream",
     "text": [
      "\u001b[36m(ClientAppActor pid=9930)\u001b[0m [Client 1] fit, config: {}\n",
      "\u001b[36m(ClientAppActor pid=9930)\u001b[0m Epoch 1: val loss 0.0336, val accuracy 0.6000\n",
      "\u001b[36m(ClientAppActor pid=9930)\u001b[0m Epoch 2: val loss 0.0359, val accuracy 0.6000\n",
      "\u001b[36m(ClientAppActor pid=9930)\u001b[0m Epoch 3: val loss 0.0395, val accuracy 0.7000\n",
      "\u001b[36m(ClientAppActor pid=9930)\u001b[0m Early stopping at epoch 7\n",
      "\u001b[36m(ClientAppActor pid=9929)\u001b[0m Early stopping due to reaching 100% accuracy\n",
      "Server-side evaluation - loss: 0.02567122103991332, accuracy: 0.7222222222222222\n",
      "Best aggregated model saved with accuracy 0.7222222222222222\n",
      "\u001b[36m(ClientAppActor pid=9930)\u001b[0m [Client 3] evaluate, config: {}\n",
      "\u001b[36m(ClientAppActor pid=9929)\u001b[0m Early stopping due to reaching 100% accuracy\n",
      "Server-side evaluation - loss: 0.022109036644299824, accuracy: 0.7962962962962963\n",
      "Best aggregated model saved with accuracy 0.7962962962962963\n",
      "\u001b[36m(ClientAppActor pid=9929)\u001b[0m Early stopping due to reaching 100% accuracy\n",
      "Server-side evaluation - loss: 0.018616722689734563, accuracy: 0.8333333333333334\n",
      "Best aggregated model saved with accuracy 0.8333333333333334\n",
      "Server-side evaluation - loss: 0.01982531682760627, accuracy: 0.8240740740740741\n",
      "Server-side evaluation - loss: 0.020425923306632926, accuracy: 0.8333333333333334\n",
      "Server-side evaluation - loss: 0.022396575383566045, accuracy: 0.8240740740740741\n",
      "Server-side evaluation - loss: 0.02114226351733561, accuracy: 0.8333333333333334\n",
      "Server-side evaluation - loss: 0.01963211057914628, accuracy: 0.8333333333333334\n",
      "Server-side evaluation - loss: 0.035616999974957216, accuracy: 0.8425925925925926\n",
      "Best aggregated model saved with accuracy 0.8425925925925926\n",
      "Server-side evaluation - loss: 0.027949623349640105, accuracy: 0.8240740740740741\n",
      "Server-side evaluation - loss: 0.024750103415162476, accuracy: 0.8425925925925926\n",
      "Server-side evaluation - loss: 0.02700363458306701, accuracy: 0.8425925925925926\n",
      "Server-side evaluation - loss: 0.03252592048159352, accuracy: 0.8425925925925926\n",
      "Server-side evaluation - loss: 0.029519973943630855, accuracy: 0.8333333333333334\n",
      "Server-side evaluation - loss: 0.02997427295755457, accuracy: 0.8240740740740741\n",
      "\u001b[36m(ClientAppActor pid=9930)\u001b[0m [Client 4] fit, config: {}\u001b[32m [repeated 75x across cluster]\u001b[0m\n"
     ]
    },
    {
     "name": "stderr",
     "output_type": "stream",
     "text": [
      "\u001b[36m(ClientAppActor pid=9930)\u001b[0m \u001b[93mWARNING \u001b[0m:   Deprecation Warning: The `client_fn` function must return an instance of `Client`, but an instance of `NumpyClient` was returned. Please use `NumPyClient.to_client()` method to convert it to `Client`.\u001b[32m [repeated 147x across cluster]\u001b[0m\n"
     ]
    },
    {
     "name": "stdout",
     "output_type": "stream",
     "text": [
      "Server-side evaluation - loss: 0.028098277609657357, accuracy: 0.8333333333333334\n",
      "Server-side evaluation - loss: 0.029559452086687088, accuracy: 0.8425925925925926\n",
      "\u001b[36m(ClientAppActor pid=9930)\u001b[0m Epoch 6: val loss 0.0898, val accuracy 0.9565\u001b[32m [repeated 555x across cluster]\u001b[0m\n",
      "Server-side evaluation - loss: 0.03096777214496224, accuracy: 0.8333333333333334\n",
      "\u001b[36m(ClientAppActor pid=9931)\u001b[0m Early stopping at epoch 7\u001b[32m [repeated 67x across cluster]\u001b[0m\n",
      "\u001b[36m(ClientAppActor pid=9929)\u001b[0m Early stopping due to reaching 100% accuracy\u001b[32m [repeated 16x across cluster]\u001b[0m\n",
      "Server-side evaluation - loss: 0.031917665981584124, accuracy: 0.8333333333333334\n",
      "\u001b[36m(ClientAppActor pid=9930)\u001b[0m [Client 3] evaluate, config: {}\u001b[32m [repeated 90x across cluster]\u001b[0m\n",
      "Server-side evaluation - loss: 0.029709608604510624, accuracy: 0.8240740740740741\n",
      "Server-side evaluation - loss: 0.03381387585843051, accuracy: 0.8240740740740741\n",
      "Server-side evaluation - loss: 0.037866208288404674, accuracy: 0.8333333333333334\n",
      "Server-side evaluation - loss: 0.03793689801737114, accuracy: 0.8240740740740741\n",
      "Server-side evaluation - loss: 0.04181491183461966, accuracy: 0.8425925925925926\n",
      "Server-side evaluation - loss: 0.042842509845892586, accuracy: 0.8333333333333334\n",
      "Server-side evaluation - loss: 0.04028863997923003, accuracy: 0.8240740740740741\n",
      "Server-side evaluation - loss: 0.04622932758044313, accuracy: 0.8240740740740741\n",
      "Server-side evaluation - loss: 0.043813675504039834, accuracy: 0.8425925925925926\n",
      "Server-side evaluation - loss: 0.04536801259274836, accuracy: 0.8333333333333334\n",
      "Server-side evaluation - loss: 0.04572800063976535, accuracy: 0.8333333333333334\n",
      "Server-side evaluation - loss: 0.047080200579431325, accuracy: 0.8240740740740741\n",
      "Server-side evaluation - loss: 0.05491391486591763, accuracy: 0.8240740740740741\n",
      "Server-side evaluation - loss: 0.04999313669072257, accuracy: 0.8333333333333334\n",
      "Server-side evaluation - loss: 0.04631671364660616, accuracy: 0.8240740740740741\n",
      "\u001b[36m(ClientAppActor pid=9927)\u001b[0m [Client 2] fit, config: {}\u001b[32m [repeated 94x across cluster]\u001b[0m\n"
     ]
    },
    {
     "name": "stderr",
     "output_type": "stream",
     "text": [
      "\u001b[36m(ClientAppActor pid=9930)\u001b[0m \u001b[93mWARNING \u001b[0m:   Deprecation Warning: The `client_fn` function must return an instance of `Client`, but an instance of `NumpyClient` was returned. Please use `NumPyClient.to_client()` method to convert it to `Client`.\u001b[32m [repeated 188x across cluster]\u001b[0m\n"
     ]
    },
    {
     "name": "stdout",
     "output_type": "stream",
     "text": [
      "Server-side evaluation - loss: 0.046416160823018464, accuracy: 0.8333333333333334\n",
      "Server-side evaluation - loss: 0.05217517512264075, accuracy: 0.8240740740740741\n",
      "\u001b[36m(ClientAppActor pid=9928)\u001b[0m Epoch 13: val loss 0.0082, val accuracy 0.9583\u001b[32m [repeated 534x across cluster]\u001b[0m\n",
      "\u001b[36m(ClientAppActor pid=9930)\u001b[0m Early stopping at epoch 7\u001b[32m [repeated 71x across cluster]\u001b[0m\n",
      "Server-side evaluation - loss: 0.04467539516864, accuracy: 0.8148148148148148\n",
      "\u001b[36m(ClientAppActor pid=9928)\u001b[0m Early stopping due to reaching 100% accuracy\u001b[32m [repeated 22x across cluster]\u001b[0m\n",
      "Server-side evaluation - loss: 0.05032723507395497, accuracy: 0.8240740740740741\n",
      "\u001b[36m(ClientAppActor pid=9927)\u001b[0m [Client 0] evaluate, config: {}\u001b[32m [repeated 94x across cluster]\u001b[0m\n",
      "Server-side evaluation - loss: 0.044653289985877496, accuracy: 0.8333333333333334\n",
      "Server-side evaluation - loss: 0.045443367350984504, accuracy: 0.8425925925925926\n",
      "Server-side evaluation - loss: 0.060068266811194246, accuracy: 0.8333333333333334\n",
      "Server-side evaluation - loss: 0.05412712927769731, accuracy: 0.8333333333333334\n",
      "Server-side evaluation - loss: 0.04921960030440931, accuracy: 0.8425925925925926\n",
      "Server-side evaluation - loss: 0.04871290522041144, accuracy: 0.8611111111111112\n",
      "Best aggregated model saved with accuracy 0.8611111111111112\n",
      "Server-side evaluation - loss: 0.05441754173349451, accuracy: 0.8333333333333334\n",
      "Server-side evaluation - loss: 0.04964771521864114, accuracy: 0.8518518518518519\n",
      "Server-side evaluation - loss: 0.044750365946027965, accuracy: 0.8611111111111112\n",
      "Server-side evaluation - loss: 0.05164104520722672, accuracy: 0.8611111111111112\n",
      "Server-side evaluation - loss: 0.05194342267458086, accuracy: 0.8518518518518519\n",
      "Server-side evaluation - loss: 0.049261642826928034, accuracy: 0.8518518518518519\n",
      "Aggregated model evaluation - loss: 0.04871290522041144, accuracy: 0.8611111111111112, precision: 0.8333333333333334, recall: 0.9523809523809523, f1: 0.8888888888888888\n",
      "Seed 30/30\n",
      "\u001b[36m(ClientAppActor pid=9931)\u001b[0m [Client 3] fit, config: {}\u001b[32m [repeated 80x across cluster]\u001b[0m\n",
      "\u001b[36m(ClientAppActor pid=9930)\u001b[0m Epoch 17: val loss 0.0113, val accuracy 0.9167\u001b[32m [repeated 371x across cluster]\u001b[0m\n",
      "\u001b[36m(ClientAppActor pid=9930)\u001b[0m Early stopping at epoch 18\u001b[32m [repeated 44x across cluster]\u001b[0m\n",
      "\u001b[36m(ClientAppActor pid=9927)\u001b[0m Early stopping due to reaching 100% accuracy\u001b[32m [repeated 24x across cluster]\u001b[0m\n",
      "\u001b[36m(ClientAppActor pid=9927)\u001b[0m [Client 2] evaluate, config: {}\u001b[32m [repeated 65x across cluster]\u001b[0m\n"
     ]
    },
    {
     "name": "stderr",
     "output_type": "stream",
     "text": [
      "\u001b[36m(ClientAppActor pid=9929)\u001b[0m \u001b[93mWARNING \u001b[0m:   Deprecation Warning: The `client_fn` function must return an instance of `Client`, but an instance of `NumpyClient` was returned. Please use `NumPyClient.to_client()` method to convert it to `Client`.\u001b[32m [repeated 164x across cluster]\u001b[0m\n",
      "2024-08-03 02:16:43,556\tINFO worker.py:1752 -- Started a local Ray instance.\n"
     ]
    },
    {
     "name": "stdout",
     "output_type": "stream",
     "text": [
      "Server-side evaluation - loss: 0.024948418692306237, accuracy: 0.5925925925925926\n",
      "Best aggregated model saved with accuracy 0.5925925925925926\n",
      "\u001b[36m(ClientAppActor pid=9966)\u001b[0m [Client 4] fit, config: {}\n"
     ]
    },
    {
     "name": "stderr",
     "output_type": "stream",
     "text": [
      "\u001b[36m(ClientAppActor pid=9965)\u001b[0m \u001b[93mWARNING \u001b[0m:   Deprecation Warning: The `client_fn` function must return an instance of `Client`, but an instance of `NumpyClient` was returned. Please use `NumPyClient.to_client()` method to convert it to `Client`.\n"
     ]
    },
    {
     "name": "stdout",
     "output_type": "stream",
     "text": [
      "\u001b[36m(ClientAppActor pid=9966)\u001b[0m Epoch 1: val loss 0.0250, val accuracy 0.8500\n",
      "\u001b[36m(ClientAppActor pid=9966)\u001b[0m Epoch 2: val loss 0.0194, val accuracy 0.8500\n",
      "\u001b[36m(ClientAppActor pid=9966)\u001b[0m Epoch 3: val loss 0.0177, val accuracy 0.9000\n",
      "\u001b[36m(ClientAppActor pid=9966)\u001b[0m Epoch 4: val loss 0.0173, val accuracy 0.9500\n",
      "\u001b[36m(ClientAppActor pid=9966)\u001b[0m Epoch 5: val loss 0.0172, val accuracy 0.9500\n",
      "\u001b[36m(ClientAppActor pid=9966)\u001b[0m Epoch 6: val loss 0.0154, val accuracy 0.9500\n",
      "\u001b[36m(ClientAppActor pid=9963)\u001b[0m Early stopping at epoch 7\n",
      "\u001b[36m(ClientAppActor pid=9966)\u001b[0m Early stopping due to reaching 100% accuracy\n",
      "Server-side evaluation - loss: 0.020387044383419886, accuracy: 0.7592592592592593\n",
      "Best aggregated model saved with accuracy 0.7592592592592593\n",
      "\u001b[36m(ClientAppActor pid=9966)\u001b[0m [Client 4] evaluate, config: {}\n",
      "\u001b[36m(ClientAppActor pid=9966)\u001b[0m Early stopping due to reaching 100% accuracy\n",
      "Server-side evaluation - loss: 0.025494227254832233, accuracy: 0.7962962962962963\n",
      "Best aggregated model saved with accuracy 0.7962962962962963\n",
      "Server-side evaluation - loss: 0.025949785554850544, accuracy: 0.7777777777777778\n",
      "Server-side evaluation - loss: 0.02416374010068399, accuracy: 0.7685185185185185\n",
      "Server-side evaluation - loss: 0.026372329504401597, accuracy: 0.7777777777777778\n",
      "Server-side evaluation - loss: 0.023493947530234302, accuracy: 0.8333333333333334\n",
      "Best aggregated model saved with accuracy 0.8333333333333334\n",
      "Server-side evaluation - loss: 0.024437777836013724, accuracy: 0.8148148148148148\n",
      "Server-side evaluation - loss: 0.025792426119248073, accuracy: 0.8148148148148148\n",
      "Server-side evaluation - loss: 0.02328160336172139, accuracy: 0.8240740740740741\n",
      "Server-side evaluation - loss: 0.02290376082614616, accuracy: 0.8518518518518519\n",
      "Best aggregated model saved with accuracy 0.8518518518518519\n",
      "Server-side evaluation - loss: 0.024998654783875855, accuracy: 0.8425925925925926\n",
      "Server-side evaluation - loss: 0.02269423373595432, accuracy: 0.8703703703703703\n",
      "Best aggregated model saved with accuracy 0.8703703703703703\n",
      "Server-side evaluation - loss: 0.022055214201962506, accuracy: 0.8703703703703703\n",
      "Server-side evaluation - loss: 0.02469389540729699, accuracy: 0.8518518518518519\n",
      "Server-side evaluation - loss: 0.021244382002839336, accuracy: 0.8518518518518519\n",
      "\u001b[36m(ClientAppActor pid=9966)\u001b[0m [Client 2] fit, config: {}\u001b[32m [repeated 75x across cluster]\u001b[0m\n"
     ]
    },
    {
     "name": "stderr",
     "output_type": "stream",
     "text": [
      "\u001b[36m(ClientAppActor pid=9965)\u001b[0m \u001b[93mWARNING \u001b[0m:   Deprecation Warning: The `client_fn` function must return an instance of `Client`, but an instance of `NumpyClient` was returned. Please use `NumPyClient.to_client()` method to convert it to `Client`.\u001b[32m [repeated 150x across cluster]\u001b[0m\n"
     ]
    },
    {
     "name": "stdout",
     "output_type": "stream",
     "text": [
      "Server-side evaluation - loss: 0.02374087053316611, accuracy: 0.8611111111111112\n",
      "Server-side evaluation - loss: 0.02429560723680037, accuracy: 0.8611111111111112\n",
      "Server-side evaluation - loss: 0.024629190150234435, accuracy: 0.8703703703703703\n",
      "\u001b[36m(ClientAppActor pid=9966)\u001b[0m Epoch 2: val loss 0.0025, val accuracy 1.0000\u001b[32m [repeated 486x across cluster]\u001b[0m\n",
      "\u001b[36m(ClientAppActor pid=9967)\u001b[0m Early stopping at epoch 7\u001b[32m [repeated 51x across cluster]\u001b[0m\n",
      "Server-side evaluation - loss: 0.026319427208767995, accuracy: 0.8518518518518519\n",
      "\u001b[36m(ClientAppActor pid=9963)\u001b[0m Early stopping due to reaching 100% accuracy\u001b[32m [repeated 35x across cluster]\u001b[0m\n",
      "Server-side evaluation - loss: 0.025576613015598722, accuracy: 0.8425925925925926\n",
      "\u001b[36m(ClientAppActor pid=9966)\u001b[0m [Client 4] evaluate, config: {}\u001b[32m [repeated 95x across cluster]\u001b[0m\n",
      "Server-side evaluation - loss: 0.024520385458513542, accuracy: 0.8703703703703703\n",
      "Server-side evaluation - loss: 0.02515459626361176, accuracy: 0.8703703703703703\n",
      "Server-side evaluation - loss: 0.022390024943484202, accuracy: 0.8796296296296297\n",
      "Best aggregated model saved with accuracy 0.8796296296296297\n",
      "Server-side evaluation - loss: 0.020511595187363802, accuracy: 0.8888888888888888\n",
      "Best aggregated model saved with accuracy 0.8888888888888888\n",
      "Server-side evaluation - loss: 0.028935590689932858, accuracy: 0.8518518518518519\n",
      "Server-side evaluation - loss: 0.026170758737458125, accuracy: 0.8703703703703703\n",
      "Server-side evaluation - loss: 0.03091990547599616, accuracy: 0.8518518518518519\n",
      "Server-side evaluation - loss: 0.02710689079982263, accuracy: 0.8796296296296297\n",
      "Server-side evaluation - loss: 0.0260959024782534, accuracy: 0.8796296296296297\n",
      "Server-side evaluation - loss: 0.031059369444847107, accuracy: 0.8518518518518519\n",
      "Server-side evaluation - loss: 0.033941669320618664, accuracy: 0.8518518518518519\n",
      "Server-side evaluation - loss: 0.03443322413497501, accuracy: 0.8703703703703703\n",
      "Server-side evaluation - loss: 0.03375179996645009, accuracy: 0.8611111111111112\n",
      "Server-side evaluation - loss: 0.03891969099640846, accuracy: 0.8518518518518519\n",
      "Server-side evaluation - loss: 0.04066505586659467, accuracy: 0.8611111111111112\n",
      "\u001b[36m(ClientAppActor pid=9966)\u001b[0m [Client 3] fit, config: {}\u001b[32m [repeated 99x across cluster]\u001b[0m\n"
     ]
    },
    {
     "name": "stderr",
     "output_type": "stream",
     "text": [
      "\u001b[36m(ClientAppActor pid=9965)\u001b[0m \u001b[93mWARNING \u001b[0m:   Deprecation Warning: The `client_fn` function must return an instance of `Client`, but an instance of `NumpyClient` was returned. Please use `NumPyClient.to_client()` method to convert it to `Client`.\u001b[32m [repeated 196x across cluster]\u001b[0m\n"
     ]
    },
    {
     "name": "stdout",
     "output_type": "stream",
     "text": [
      "Server-side evaluation - loss: 0.04258534560600916, accuracy: 0.8518518518518519\n",
      "Server-side evaluation - loss: 0.034591832370669755, accuracy: 0.8611111111111112\n",
      "Server-side evaluation - loss: 0.0423833429813385, accuracy: 0.8611111111111112\n",
      "\u001b[36m(ClientAppActor pid=9967)\u001b[0m Epoch 5: val loss 0.0771, val accuracy 0.9130\u001b[32m [repeated 501x across cluster]\u001b[0m\n",
      "\u001b[36m(ClientAppActor pid=9964)\u001b[0m Early stopping at epoch 8\u001b[32m [repeated 60x across cluster]\u001b[0m\n",
      "\u001b[36m(ClientAppActor pid=9966)\u001b[0m Early stopping due to reaching 100% accuracy\u001b[32m [repeated 38x across cluster]\u001b[0m\n",
      "Server-side evaluation - loss: 0.04015350548757447, accuracy: 0.8611111111111112\n",
      "\u001b[36m(ClientAppActor pid=9967)\u001b[0m [Client 1] evaluate, config: {}\u001b[32m [repeated 99x across cluster]\u001b[0m\n",
      "Server-side evaluation - loss: 0.042061292048957616, accuracy: 0.8518518518518519\n",
      "Server-side evaluation - loss: 0.047412918535647566, accuracy: 0.8518518518518519\n",
      "Server-side evaluation - loss: 0.052343730297353536, accuracy: 0.8518518518518519\n",
      "Server-side evaluation - loss: 0.045893162212989946, accuracy: 0.8611111111111112\n",
      "Server-side evaluation - loss: 0.040133807394239635, accuracy: 0.8518518518518519\n",
      "Server-side evaluation - loss: 0.04438671166146243, accuracy: 0.8611111111111112\n",
      "Server-side evaluation - loss: 0.04260146617889404, accuracy: 0.8518518518518519\n",
      "Server-side evaluation - loss: 0.04248763841611368, accuracy: 0.8518518518518519\n",
      "Server-side evaluation - loss: 0.04801922208733029, accuracy: 0.8611111111111112\n",
      "Server-side evaluation - loss: 0.04656909958080009, accuracy: 0.8703703703703703\n",
      "Server-side evaluation - loss: 0.040365874491356035, accuracy: 0.8333333333333334\n",
      "Aggregated model evaluation - loss: 0.020511595187363802, accuracy: 0.8888888888888888, precision: 0.8493150684931506, recall: 0.9841269841269841, f1: 0.9117647058823529\n"
     ]
    }
   ],
   "source": [
    "# Training and evaluation loop for federated learning\n",
    "# Initialize the combined validation dataset loader for each seed\n",
    "combined_val_loaders = []\n",
    "\n",
    "# Store metrics for analysis\n",
    "all_metrics = []\n",
    "\n",
    "# Train and evaluate the federated model across 30 seeds\n",
    "for seed_index in range(30):\n",
    "    print(f\"Seed {seed_index+1}/30\")\n",
    "\n",
    "    # Load the combined validation dataset for the current seed\n",
    "    combined_val_loader = load_combined_validation(seed_index)\n",
    "    combined_val_loaders.append(combined_val_loader)\n",
    "\n",
    "    # Reset best aggregated accuracy for each seed\n",
    "    best_aggregated_acc = 0.0\n",
    "\n",
    "    # Define the federated learning strategy\n",
    "    strategy = fl.server.strategy.FedAvg(\n",
    "        fraction_fit=1.0,  # Use all clients for training in each round\n",
    "        fraction_evaluate=1.0,  # Use all clients for evaluation in each round\n",
    "        min_fit_clients=5,  # Minimum number of clients required for training\n",
    "        min_evaluate_clients=5,  # Minimum number of clients required for evaluation\n",
    "        min_available_clients=NUM_CLIENTS,  # Minimum number of total clients\n",
    "        initial_parameters=fl.common.ndarrays_to_parameters(get_client_parameters(CNN1D())),\n",
    "        evaluate_fn=evaluate_aggregated_model,  # Evaluation function for server-side evaluation\n",
    "        evaluate_metrics_aggregation_fn=arithmetic_mean,  # Metric aggregation function\n",
    "    )\n",
    "\n",
    "    client_resources = None\n",
    "    if DEVICE.type == \"cuda\":\n",
    "        client_resources = {\"num_gpus\": 1}\n",
    "\n",
    "    # Start the federated learning simulation\n",
    "    fl.simulation.start_simulation(\n",
    "        client_fn=client_fn,\n",
    "        num_clients=NUM_CLIENTS,\n",
    "        config=fl.server.ServerConfig(num_rounds=50),  # Number of training rounds\n",
    "        strategy=strategy,\n",
    "        client_resources=client_resources,\n",
    "    )\n",
    "\n",
    "    # Load and evaluate the best aggregated model for the current seed\n",
    "    aggregated_model_path = \"best_aggregated_model.pt\"\n",
    "    aggregated_model = CNN1D().to(DEVICE)\n",
    "    if os.path.exists(aggregated_model_path):\n",
    "        aggregated_model.load_state_dict(torch.load(aggregated_model_path))\n",
    "        loss, accuracy, precision, recall, f1 = test_client_model(aggregated_model, combined_val_loader)\n",
    "        print(f\"Aggregated model evaluation - loss: {loss}, accuracy: {accuracy}, precision: {precision}, recall: {recall}, f1: {f1}\")\n",
    "        all_metrics.append((loss, accuracy, precision, recall, f1))"
   ]
  },
  {
   "cell_type": "code",
   "execution_count": 14,
   "id": "6bc53050-9409-47a1-8fd9-177482151688",
   "metadata": {},
   "outputs": [
    {
     "name": "stdout",
     "output_type": "stream",
     "text": [
      "\u001b[36m(ClientAppActor pid=9966)\u001b[0m [Client 0] evaluate, config: {}\n"
     ]
    },
    {
     "name": "stderr",
     "output_type": "stream",
     "text": [
      "\u001b[36m(ClientAppActor pid=9965)\u001b[0m \u001b[93mWARNING \u001b[0m:   Deprecation Warning: The `client_fn` function must return an instance of `Client`, but an instance of `NumpyClient` was returned. Please use `NumPyClient.to_client()` method to convert it to `Client`.\n"
     ]
    },
    {
     "data": {
      "image/png": "[encoded data removed]",
      "text/plain": [
       "<Figure size 1200x800 with 4 Axes>"
      ]
     },
     "metadata": {},
     "output_type": "display_data"
    }
   ],
   "source": [
    "# Convert the metrics to a DataFrame for easier plotting\n",
    "metrics_df = pd.DataFrame(all_metrics, columns=['val_loss', 'val_accuracy', 'val_precision', 'val_recall', 'val_f1'])\n",
    "\n",
    "# Plot the box plots for each metric\n",
    "plt.figure(figsize=(12, 8))\n",
    "\n",
    "# Box plot for validation accuracy\n",
    "plt.subplot(2, 3, 1)\n",
    "sns.boxplot(y=metrics_df['val_accuracy'])\n",
    "plt.title('Validation Accuracy')\n",
    "plt.xlabel('Accuracy')\n",
    "mean_val = metrics_df['val_accuracy'].mean()\n",
    "plt.scatter(0, mean_val, color='red', s=100, zorder=10)\n",
    "\n",
    "# Box plot for validation precision\n",
    "plt.subplot(2, 3, 2)\n",
    "sns.boxplot(y=metrics_df['val_precision'])\n",
    "plt.title('Validation Precision')\n",
    "plt.xlabel('Precision')\n",
    "mean_val = metrics_df['val_precision'].mean()\n",
    "plt.scatter(0, mean_val, color='red', s=100, zorder=10)\n",
    "\n",
    "# Box plot for validation recall\n",
    "plt.subplot(2, 3, 3)\n",
    "sns.boxplot(y=metrics_df['val_recall'])\n",
    "plt.title('Validation Recall')\n",
    "plt.xlabel('Recall')\n",
    "mean_val = metrics_df['val_recall'].mean()\n",
    "plt.scatter(0, mean_val, color='red', s=100, zorder=10)\n",
    "\n",
    "# Box plot for validation F1 score\n",
    "plt.subplot(2, 3, 4)\n",
    "sns.boxplot(y=metrics_df['val_f1'])\n",
    "plt.title('Validation F1 Score')\n",
    "plt.xlabel('F1 Score')\n",
    "mean_val = metrics_df['val_f1'].mean()\n",
    "plt.scatter(0, mean_val, color='red', s=100, zorder=10)\n",
    "\n",
    "# Adjust layout to prevent overlap\n",
    "plt.tight_layout()\n",
    "plt.show()"
   ]
  },
  {
   "cell_type": "code",
   "execution_count": 15,
   "id": "32d93556-7950-4ad9-94f7-828fe0c251a4",
   "metadata": {},
   "outputs": [
    {
     "name": "stdout",
     "output_type": "stream",
     "text": [
      "Finished Cross-Validation\n"
     ]
    }
   ],
   "source": [
    "# Save the metrics for later comparison\n",
    "metrics_df.to_csv(\"fedMetrics/CNN1D_metrics.csv\", index=False)\n",
    "\n",
    "print(\"Finished Cross-Validation\")"
   ]
  }
 ],
 "metadata": {
  "kernelspec": {
   "display_name": "Python 3 (ipykernel)",
   "language": "python",
   "name": "python3"
  },
  "language_info": {
   "codemirror_mode": {
    "name": "ipython",
    "version": 3
   },
   "file_extension": ".py",
   "mimetype": "text/x-python",
   "name": "python",
   "nbconvert_exporter": "python",
   "pygments_lexer": "ipython3",
   "version": "3.9.12"
  }
 },
 "nbformat": 4,
 "nbformat_minor": 5
}
